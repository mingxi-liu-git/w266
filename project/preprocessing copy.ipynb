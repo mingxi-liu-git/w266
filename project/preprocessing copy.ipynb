{
 "cells": [
  {
   "cell_type": "code",
   "execution_count": 1,
   "metadata": {},
   "outputs": [],
   "source": [
    "import sys\n",
    "import os\n",
    "import json\n",
    "import re\n",
    "\n",
    "import pandas as pd\n",
    "import numpy as np"
   ]
  },
  {
   "cell_type": "code",
   "execution_count": 173,
   "metadata": {},
   "outputs": [],
   "source": [
    "os.chdir(r\"C:\\Users\\mingxi.liu\\Downloads\")"
   ]
  },
  {
   "cell_type": "code",
   "execution_count": 141,
   "metadata": {},
   "outputs": [],
   "source": [
    "df = pd.read_excel(\"万科Ａ.xls\", index_col=0).dropna()"
   ]
  },
  {
   "cell_type": "code",
   "execution_count": 100,
   "metadata": {},
   "outputs": [
    {
     "data": {
      "text/plain": [
       "True"
      ]
     },
     "execution_count": 100,
     "metadata": {},
     "output_type": "execute_result"
    }
   ],
   "source": [
    "s.resample(\"D\", offset=\"9H\").agg(lambda x: \"。\".join((x)))[-5] == \"\""
   ]
  },
  {
   "cell_type": "code",
   "execution_count": 57,
   "metadata": {},
   "outputs": [
    {
     "data": {
      "text/plain": [
       "DatetimeIndex(['2015-01-05 10:00:00', '2015-01-05 11:00:00',\n",
       "               '2015-01-05 12:00:00', '2015-01-05 13:00:00',\n",
       "               '2015-01-05 14:00:00', '2015-01-05 15:00:00',\n",
       "               '2015-01-05 16:00:00', '2015-01-05 17:00:00',\n",
       "               '2015-01-05 18:00:00', '2015-01-05 19:00:00',\n",
       "               ...\n",
       "               '2015-12-27 16:00:00', '2015-12-27 17:00:00',\n",
       "               '2015-12-27 18:00:00', '2015-12-27 19:00:00',\n",
       "               '2015-12-27 20:00:00', '2015-12-27 21:00:00',\n",
       "               '2015-12-27 22:00:00', '2015-12-27 23:00:00',\n",
       "               '2015-12-28 00:00:00', '2015-12-28 01:00:00'],\n",
       "              dtype='datetime64[ns]', name='时间', length=8560, freq='H')"
      ]
     },
     "execution_count": 57,
     "metadata": {},
     "output_type": "execute_result"
    }
   ],
   "source": [
    "s_daily.index"
   ]
  },
  {
   "cell_type": "code",
   "execution_count": 153,
   "metadata": {},
   "outputs": [],
   "source": [
    "close_hour_news_daily = []\n",
    "trading_hour_news_daily = []\n",
    "for i in os.listdir():\n",
    "    df = pd.read_excel(i, index_col=0).dropna()\n",
    "    df.index = pd.to_datetime(df.index)\n",
    "    df=df[df['来源']!=\"融资融券\"]\n",
    "    close_hour = (\n",
    "        df[\"标题\"]\n",
    "        .drop_duplicates(keep=\"first\")\n",
    "        .between_time(\"15:00\", \"9:15\", inclusive=\"both\")\n",
    "        .resample(\"D\")\n",
    "        .agg(lambda x: \"。\".join(x))\n",
    "        .replace(\"\", np.nan)\n",
    "        .dropna().reset_index()\n",
    "    )\n",
    "    close_hour['ticker']=i[:-4]\n",
    "    trading_hour=(\n",
    "        df[\"标题\"]\n",
    "        .drop_duplicates(keep=\"first\")\n",
    "        .between_time(\"9:16\", \"14:59\", inclusive=\"both\")\n",
    "        .resample(\"D\")\n",
    "        .agg(lambda x: \"。\".join(x))\n",
    "        .replace(\"\", np.nan)\n",
    "        .dropna().reset_index()\n",
    "    )\n",
    "    trading_hour['ticker']=i[:-4]\n",
    "    close_hour_news_daily.append(close_hour)\n",
    "    trading_hour_news_daily.append(trading_hour)"
   ]
  },
  {
   "cell_type": "code",
   "execution_count": 157,
   "metadata": {},
   "outputs": [],
   "source": [
    "trading_hour_news_daily=pd.concat(trading_hour_news_daily)"
   ]
  },
  {
   "cell_type": "code",
   "execution_count": 158,
   "metadata": {},
   "outputs": [
    {
     "data": {
      "text/html": [
       "<div>\n",
       "<style scoped>\n",
       "    .dataframe tbody tr th:only-of-type {\n",
       "        vertical-align: middle;\n",
       "    }\n",
       "\n",
       "    .dataframe tbody tr th {\n",
       "        vertical-align: top;\n",
       "    }\n",
       "\n",
       "    .dataframe thead th {\n",
       "        text-align: right;\n",
       "    }\n",
       "</style>\n",
       "<table border=\"1\" class=\"dataframe\">\n",
       "  <thead>\n",
       "    <tr style=\"text-align: right;\">\n",
       "      <th></th>\n",
       "      <th>时间</th>\n",
       "      <th>标题</th>\n",
       "      <th>ticker</th>\n",
       "    </tr>\n",
       "  </thead>\n",
       "  <tbody>\n",
       "    <tr>\n",
       "      <th>0</th>\n",
       "      <td>2015-01-05</td>\n",
       "      <td>万 科Ａ，中国神华等股票资金流速居前</td>\n",
       "      <td>万科A</td>\n",
       "    </tr>\n",
       "    <tr>\n",
       "      <th>1</th>\n",
       "      <td>2015-01-06</td>\n",
       "      <td>万科A：迈入2000亿销售大关 潜在受益“深港通”。万科A2014年12月销售数据点评暨最新...</td>\n",
       "      <td>万科A</td>\n",
       "    </tr>\n",
       "    <tr>\n",
       "      <th>2</th>\n",
       "      <td>2015-01-13</td>\n",
       "      <td>万科A:完美收官 继续前行</td>\n",
       "      <td>万科A</td>\n",
       "    </tr>\n",
       "    <tr>\n",
       "      <th>3</th>\n",
       "      <td>2015-01-19</td>\n",
       "      <td>万 科Ａ，顺鑫农业等股票资金流速居前</td>\n",
       "      <td>万科A</td>\n",
       "    </tr>\n",
       "    <tr>\n",
       "      <th>4</th>\n",
       "      <td>2015-01-23</td>\n",
       "      <td>万 科Ａ，中国重工等股票资金流速居前</td>\n",
       "      <td>万科A</td>\n",
       "    </tr>\n",
       "    <tr>\n",
       "      <th>...</th>\n",
       "      <td>...</td>\n",
       "      <td>...</td>\n",
       "      <td>...</td>\n",
       "    </tr>\n",
       "    <tr>\n",
       "      <th>44</th>\n",
       "      <td>2015-11-01</td>\n",
       "      <td>青岛海尔前三季提升高端产品占比 化解下行压力</td>\n",
       "      <td>青岛海尔</td>\n",
       "    </tr>\n",
       "    <tr>\n",
       "      <th>45</th>\n",
       "      <td>2015-11-02</td>\n",
       "      <td>青岛海尔——市场份额领跑，互联网转型持续推进 （华泰证券）。“空调很冷，冰箱难销”致白电行业...</td>\n",
       "      <td>青岛海尔</td>\n",
       "    </tr>\n",
       "    <tr>\n",
       "      <th>46</th>\n",
       "      <td>2015-11-03</td>\n",
       "      <td>青岛海尔:营销投入侵蚀利润,期待未来新品贡献盈利。青岛海尔:为复苏的机会做好准备</td>\n",
       "      <td>青岛海尔</td>\n",
       "    </tr>\n",
       "    <tr>\n",
       "      <th>47</th>\n",
       "      <td>2015-11-06</td>\n",
       "      <td>青岛海尔:业绩稍低于预期,产品结构持续优化</td>\n",
       "      <td>青岛海尔</td>\n",
       "    </tr>\n",
       "    <tr>\n",
       "      <th>48</th>\n",
       "      <td>2015-11-23</td>\n",
       "      <td>青岛海尔:预期短期营运持续承压</td>\n",
       "      <td>青岛海尔</td>\n",
       "    </tr>\n",
       "  </tbody>\n",
       "</table>\n",
       "<p>11118 rows × 3 columns</p>\n",
       "</div>"
      ],
      "text/plain": [
       "           时间                                                 标题 ticker\n",
       "0  2015-01-05                                 万 科Ａ，中国神华等股票资金流速居前    万科A\n",
       "1  2015-01-06  万科A：迈入2000亿销售大关 潜在受益“深港通”。万科A2014年12月销售数据点评暨最新...    万科A\n",
       "2  2015-01-13                                      万科A:完美收官 继续前行    万科A\n",
       "3  2015-01-19                                 万 科Ａ，顺鑫农业等股票资金流速居前    万科A\n",
       "4  2015-01-23                                 万 科Ａ，中国重工等股票资金流速居前    万科A\n",
       "..        ...                                                ...    ...\n",
       "44 2015-11-01                             青岛海尔前三季提升高端产品占比 化解下行压力   青岛海尔\n",
       "45 2015-11-02  青岛海尔——市场份额领跑，互联网转型持续推进 （华泰证券）。“空调很冷，冰箱难销”致白电行业...   青岛海尔\n",
       "46 2015-11-03           青岛海尔:营销投入侵蚀利润,期待未来新品贡献盈利。青岛海尔:为复苏的机会做好准备   青岛海尔\n",
       "47 2015-11-06                              青岛海尔:业绩稍低于预期,产品结构持续优化   青岛海尔\n",
       "48 2015-11-23                                    青岛海尔:预期短期营运持续承压   青岛海尔\n",
       "\n",
       "[11118 rows x 3 columns]"
      ]
     },
     "execution_count": 158,
     "metadata": {},
     "output_type": "execute_result"
    }
   ],
   "source": [
    "trading_hour_news_daily"
   ]
  },
  {
   "cell_type": "code",
   "execution_count": 183,
   "metadata": {},
   "outputs": [],
   "source": [
    "open_price=pd.read_csv(\"cn_company_open.csv\",index_col=0,parse_dates=True)"
   ]
  },
  {
   "cell_type": "code",
   "execution_count": 159,
   "metadata": {},
   "outputs": [],
   "source": [
    "trading_hour_news_daily.to_csv(\n",
    "    \"../cn_company_news_trading_hours.csv\", index=False\n",
    ")"
   ]
  },
  {
   "cell_type": "code",
   "execution_count": 184,
   "metadata": {},
   "outputs": [
    {
     "data": {
      "text/plain": [
       "DatetimeIndex(['2014-01-02', '2014-01-03', '2014-01-06', '2014-01-07',\n",
       "               '2014-01-08', '2014-01-09', '2014-01-10', '2014-01-13',\n",
       "               '2014-01-14', '2014-01-15',\n",
       "               ...\n",
       "               '2015-12-18', '2015-12-21', '2015-12-22', '2015-12-23',\n",
       "               '2015-12-24', '2015-12-25', '2015-12-28', '2015-12-29',\n",
       "               '2015-12-30', '2015-12-31'],\n",
       "              dtype='datetime64[ns]', name='Date', length=489, freq=None)"
      ]
     },
     "execution_count": 184,
     "metadata": {},
     "output_type": "execute_result"
    }
   ],
   "source": [
    "open_price.index"
   ]
  },
  {
   "cell_type": "code",
   "execution_count": 185,
   "metadata": {},
   "outputs": [],
   "source": [
    "open_gap=open_price/p.shift()-1"
   ]
  },
  {
   "cell_type": "code",
   "execution_count": 189,
   "metadata": {},
   "outputs": [
    {
     "data": {
      "text/plain": [
       "国泰君安    127\n",
       "中国核电    138\n",
       "江苏有线    168\n",
       "东方证券    193\n",
       "申万宏源    228\n",
       "       ... \n",
       "中国重工    488\n",
       "中国船舶    488\n",
       "中国联通    488\n",
       "中航机载    488\n",
       "青岛海尔    488\n",
       "Length: 99, dtype: int64"
      ]
     },
     "execution_count": 189,
     "metadata": {},
     "output_type": "execute_result"
    }
   ],
   "source": [
    "open_gap.count().sort_values(\n",
    "    \n",
    ")"
   ]
  },
  {
   "cell_type": "code",
   "execution_count": 190,
   "metadata": {},
   "outputs": [],
   "source": [
    "open_gap_direction=pd.concat([pd.qcut(open_gap[c],q=[0,0.34,0.66,1],labels=False,duplicates='drop') for c in open_gap.columns],axis=1)"
   ]
  },
  {
   "cell_type": "code",
   "execution_count": 192,
   "metadata": {},
   "outputs": [
    {
     "name": "stdout",
     "output_type": "stream",
     "text": [
      "<class 'pandas.core.frame.DataFrame'>\n",
      "DatetimeIndex: 489 entries, 2014-01-02 to 2015-12-31\n",
      "Data columns (total 99 columns):\n",
      " #   Column  Non-Null Count  Dtype  \n",
      "---  ------  --------------  -----  \n",
      " 0   万科A     488 non-null    float64\n",
      " 1   万达院线    230 non-null    float64\n",
      " 2   三一重工    488 non-null    float64\n",
      " 3   上汽集团    488 non-null    float64\n",
      " 4   上海电气    488 non-null    float64\n",
      " 5   上海莱士    488 non-null    float64\n",
      " 6   上港集团    488 non-null    float64\n",
      " 7   东方明珠    488 non-null    float64\n",
      " 8   东方航空    488 non-null    float64\n",
      " 9   东方证券    193 non-null    float64\n",
      " 10  东方财富    488 non-null    float64\n",
      " 11  中信证券    488 non-null    float64\n",
      " 12  中信银行    488 non-null    float64\n",
      " 13  中兴通讯    488 non-null    float64\n",
      " 14  中国中冶    488 non-null    float64\n",
      " 15  中国中车    488 non-null    float64\n",
      " 16  中国中铁    488 non-null    float64\n",
      " 17  中国交建    488 non-null    float64\n",
      " 18  中国人寿    488 non-null    float64\n",
      " 19  中国国航    488 non-null    float64\n",
      " 20  中国太保    488 non-null    float64\n",
      " 21  中国平安    488 non-null    float64\n",
      " 22  中国建筑    488 non-null    float64\n",
      " 23  中国核电    138 non-null    float64\n",
      " 24  中国电建    488 non-null    float64\n",
      " 25  中国石化    488 non-null    float64\n",
      " 26  中国石油    488 non-null    float64\n",
      " 27  中国神华    488 non-null    float64\n",
      " 28  中国联通    488 non-null    float64\n",
      " 29  中国船舶    488 non-null    float64\n",
      " 30  中国重工    488 non-null    float64\n",
      " 31  中国铁建    488 non-null    float64\n",
      " 32  中国铝业    488 non-null    float64\n",
      " 33  中国银行    488 non-null    float64\n",
      " 34  中海油服    488 non-null    float64\n",
      " 35  中煤能源    488 non-null    float64\n",
      " 36  中航动力    488 non-null    float64\n",
      " 37  中航机载    488 non-null    float64\n",
      " 38  中航资本    488 non-null    float64\n",
      " 39  乐视网     488 non-null    float64\n",
      " 40  云南白药    488 non-null    float64\n",
      " 41  五粮液     488 non-null    float64\n",
      " 42  交通银行    488 non-null    float64\n",
      " 43  京东方A    488 non-null    float64\n",
      " 44  伊利股份    488 non-null    float64\n",
      " 45  保利地产    488 non-null    float64\n",
      " 46  信威集团    488 non-null    float64\n",
      " 47  光大证券    488 non-null    float64\n",
      " 48  光大银行    488 non-null    float64\n",
      " 49  兴业证券    488 non-null    float64\n",
      " 50  兴业银行    488 non-null    float64\n",
      " 51  农业银行    488 non-null    float64\n",
      " 52  包钢股份    488 non-null    float64\n",
      " 53  北京银行    488 non-null    float64\n",
      " 54  北方稀土    488 non-null    float64\n",
      " 55  华侨城A    488 non-null    float64\n",
      " 56  华夏幸福    488 non-null    float64\n",
      " 57  华夏银行    488 non-null    float64\n",
      " 58  华泰证券    488 non-null    float64\n",
      " 59  华能国际    488 non-null    float64\n",
      " 60  双汇发展    488 non-null    float64\n",
      " 61  国信证券    246 non-null    float64\n",
      " 62  国投电力    488 non-null    float64\n",
      " 63  国泰君安    127 non-null    float64\n",
      " 64  国电电力    488 non-null    float64\n",
      " 65  大秦铁路    488 non-null    float64\n",
      " 66  宁波港     488 non-null    float64\n",
      " 67  宝钢股份    488 non-null    float64\n",
      " 68  工商银行    488 non-null    float64\n",
      " 69  平安银行    488 non-null    float64\n",
      " 70  广发证券    488 non-null    float64\n",
      " 71  康美药业    488 non-null    float64\n",
      " 72  建设银行    488 non-null    float64\n",
      " 73  恒瑞医药    488 non-null    float64\n",
      " 74  招商证券    488 non-null    float64\n",
      " 75  招商银行    488 non-null    float64\n",
      " 76  新华保险    488 non-null    float64\n",
      " 77  方正证券    488 non-null    float64\n",
      " 78  格力电器    488 non-null    float64\n",
      " 79  比亚迪     488 non-null    float64\n",
      " 80  民生银行    488 non-null    float64\n",
      " 81  江苏有线    168 non-null    float64\n",
      " 82  洋河股份    488 non-null    float64\n",
      " 83  浙能电力    488 non-null    float64\n",
      " 84  浦发银行    488 non-null    float64\n",
      " 85  海天味业    465 non-null    float64\n",
      " 86  海康威视    488 non-null    float64\n",
      " 87  海澜之家    488 non-null    float64\n",
      " 88  海螺水泥    488 non-null    float64\n",
      " 89  海通证券    488 non-null    float64\n",
      " 90  申万宏源    228 non-null    float64\n",
      " 91  美的集团    488 non-null    float64\n",
      " 92  苏宁云商    488 non-null    float64\n",
      " 93  贵州茅台    488 non-null    float64\n",
      " 94  长城汽车    488 non-null    float64\n",
      " 95  长安汽车    488 non-null    float64\n",
      " 96  长江电力    488 non-null    float64\n",
      " 97  陕西煤业    470 non-null    float64\n",
      " 98  青岛海尔    488 non-null    float64\n",
      "dtypes: float64(99)\n",
      "memory usage: 382.0 KB\n"
     ]
    }
   ],
   "source": [
    "open_gap_direction.info()"
   ]
  },
  {
   "cell_type": "code",
   "execution_count": 203,
   "metadata": {},
   "outputs": [],
   "source": [
    "r_for_close_unstack=open_gap_direction.shift(-1).unstack().reset_index()\n",
    "r_for_close_unstack.columns=['ticker','时间','open_gap_direction']"
   ]
  },
  {
   "cell_type": "code",
   "execution_count": 204,
   "metadata": {},
   "outputs": [],
   "source": [
    "close_hour_data=close_hour_data.merge(r_for_close_unstack,on=['ticker','时间'])"
   ]
  },
  {
   "cell_type": "code",
   "execution_count": 206,
   "metadata": {},
   "outputs": [],
   "source": [
    "close_hour_data.to_csv('cn_data_final.csv',index=False)"
   ]
  },
  {
   "cell_type": "code",
   "execution_count": 199,
   "metadata": {},
   "outputs": [
    {
     "data": {
      "text/plain": [
       "<Axes: >"
      ]
     },
     "execution_count": 199,
     "metadata": {},
     "output_type": "execute_result"
    },
    {
     "data": {
      "image/png": "[encoded data removed]",
      "text/plain": [
       "<Figure size 1100x400 with 1 Axes>"
      ]
     },
     "metadata": {},
     "output_type": "display_data"
    }
   ],
   "source": [
    "close_hour_data['open_gap'].hist()"
   ]
  },
  {
   "cell_type": "code",
   "execution_count": 145,
   "metadata": {},
   "outputs": [
    {
     "data": {
      "text/plain": [
       "时间\n",
       "2015-01-05                      万科A：2014年实现销售金额2151.3亿元同比增25.9%\n",
       "2015-01-06                           万科A:2014年十二月份销售及近期新增项目情况简报\n",
       "2015-01-07    万科A　潜在受益“深港通”。万科A12月份销售点评:销售表现靓丽,获益集中度跳增。万科A12...\n",
       "2015-01-08                                   万 科Ａ，西部证券等股票资金流速居前\n",
       "2015-01-09                                   万 科Ａ，上工申贝等股票资金流速居前\n",
       "                                    ...                        \n",
       "2015-12-20                                  万科A:最晚于2016年1月18日复牌\n",
       "2015-12-21    万科A:销售表现强劲,继续增大拿地力度。万科A股东之争引发机构减筹 富国与南方基金15天浮盈...\n",
       "2015-12-22    万科A：独立董事海闻辞职。万科A独董海闻因个人原因辞职。万科A独董海闻因个人原因辞职。万科A...\n",
       "2015-12-25                                    万科A：管理层希望获得所有股东支持\n",
       "2015-12-28                      万科(02202.HK)股东钜盛华吸A股 持股增至24.26%\n",
       "Name: 标题, Length: 93, dtype: object"
      ]
     },
     "execution_count": 145,
     "metadata": {},
     "output_type": "execute_result"
    }
   ],
   "source": [
    "# Load model directly\n",
    "from transformers import AutoTokenizer, AutoModelForSequenceClassification\n",
    "\n",
    "tokenizer = AutoTokenizer.from_pretrained(\"hw2942/bert-base-chinese-finetuning-financial-news-sentiment-v2\")\n",
    "model = AutoModelForSequenceClassification.from_pretrained(\"hw2942/bert-base-chinese-finetuning-financial-news-sentiment-v2\")"
   ]
  },
  {
   "cell_type": "code",
   "execution_count": 146,
   "metadata": {},
   "outputs": [
    {
     "data": {
      "text/plain": [
       "时间\n",
       "2015-01-05 10:14:00                              万 科Ａ，中国神华等股票资金流速居前\n",
       "2015-01-05 20:33:00                 万科A：2014年实现销售金额2151.3亿元同比增25.9%\n",
       "2015-01-06 07:36:00                      万科A:2014年十二月份销售及近期新增项目情况简报\n",
       "2015-01-06 14:21:00                       万科A：迈入2000亿销售大关 潜在受益“深港通”\n",
       "2015-01-06 14:49:00    万科A2014年12月销售数据点评暨最新观点:2014上演完美收官,2015辉煌有望再续\n",
       "                                           ...                     \n",
       "2015-12-22 19:48:00                                  万科A独董海闻因个人原因辞职\n",
       "2015-12-22 22:25:00                       万科A流通股权或不足24.08% 独董请辞后院难安\n",
       "2015-12-25 11:20:00                                     万科A独立董事海闻辞职\n",
       "2015-12-25 20:49:00                               万科A：管理层希望获得所有股东支持\n",
       "2015-12-28 01:05:00                 万科(02202.HK)股东钜盛华吸A股 持股增至24.26%\n",
       "Name: 标题, Length: 294, dtype: object"
      ]
     },
     "execution_count": 146,
     "metadata": {},
     "output_type": "execute_result"
    }
   ],
   "source": [
    "df[\"标题\"].drop_duplicates(keep=\"first\")"
   ]
  },
  {
   "cell_type": "code",
   "execution_count": 207,
   "metadata": {},
   "outputs": [],
   "source": [
    "df=dt.read_clip()"
   ]
  },
  {
   "cell_type": "code",
   "execution_count": 359,
   "metadata": {},
   "outputs": [],
   "source": [
    "s=np.log(df['stock'].ffill())"
   ]
  },
  {
   "cell_type": "code",
   "execution_count": 330,
   "metadata": {},
   "outputs": [],
   "source": [
    "signals=[]\n",
    "for i in range(5,121,5):\n",
    "    # signal=np.sign(s.ewm(span=i).mean()-s.ewm(span=i*3).mean())\n",
    "    signal=np.sign(s.diff(i))\n",
    "\n",
    "    signals.append((signal.shift(1)).rename(str(i)))\n",
    "signals=pd.concat(signals,axis=1)"
   ]
  },
  {
   "cell_type": "code",
   "execution_count": 331,
   "metadata": {},
   "outputs": [
    {
     "data": {
      "text/plain": [
       "10     0.000721\n",
       "30     0.000467\n",
       "35     0.000387\n",
       "15     0.000381\n",
       "45     0.000379\n",
       "20     0.000374\n",
       "50     0.000246\n",
       "25     0.000238\n",
       "55     0.000154\n",
       "60     0.000124\n",
       "5      0.000100\n",
       "40     0.000022\n",
       "65    -0.000230\n",
       "95    -0.000424\n",
       "75    -0.000481\n",
       "90    -0.000512\n",
       "70    -0.000568\n",
       "85    -0.000700\n",
       "100   -0.000743\n",
       "80    -0.000750\n",
       "105   -0.001002\n",
       "115   -0.001006\n",
       "110   -0.001038\n",
       "120   -0.001039\n",
       "dtype: float64"
      ]
     },
     "execution_count": 331,
     "metadata": {},
     "output_type": "execute_result"
    }
   ],
   "source": [
    "pd.concat(r,axis=1)[:'2020-7'].mean().sort_values(ascending=False)"
   ]
  },
  {
   "cell_type": "code",
   "execution_count": 332,
   "metadata": {},
   "outputs": [
    {
     "data": {
      "text/plain": [
       "10     0.000721\n",
       "30     0.000467\n",
       "35     0.000387\n",
       "15     0.000381\n",
       "45     0.000379\n",
       "20     0.000374\n",
       "50     0.000246\n",
       "25     0.000238\n",
       "55     0.000154\n",
       "60     0.000124\n",
       "5      0.000100\n",
       "40     0.000022\n",
       "65    -0.000230\n",
       "95    -0.000424\n",
       "75    -0.000481\n",
       "90    -0.000512\n",
       "70    -0.000568\n",
       "85    -0.000700\n",
       "100   -0.000743\n",
       "80    -0.000750\n",
       "105   -0.001002\n",
       "115   -0.001006\n",
       "110   -0.001038\n",
       "120   -0.001039\n",
       "dtype: float64"
      ]
     },
     "execution_count": 332,
     "metadata": {},
     "output_type": "execute_result"
    }
   ],
   "source": [
    "(signals.mul(s.diff(),axis=0))[:'2020-7'].mean().sort_values(ascending=False)"
   ]
  },
  {
   "cell_type": "code",
   "execution_count": 333,
   "metadata": {},
   "outputs": [
    {
     "data": {
      "text/plain": [
       "<Axes: xlabel='Date'>"
      ]
     },
     "execution_count": 333,
     "metadata": {},
     "output_type": "execute_result"
    },
    {
     "data": {
      "image/png": "[encoded data removed]",
      "text/plain": [
       "<Figure size 1100x400 with 1 Axes>"
      ]
     },
     "metadata": {},
     "output_type": "display_data"
    }
   ],
   "source": [
    "pd.concat(r+[s.diff()],axis=1)[['5','10','20','60','stock']].cumsum()[:\"2020-7\"].plot()"
   ]
  },
  {
   "cell_type": "code",
   "execution_count": 335,
   "metadata": {},
   "outputs": [],
   "source": [
    "tech_signal=signals['10']"
   ]
  },
  {
   "cell_type": "code",
   "execution_count": 272,
   "metadata": {},
   "outputs": [],
   "source": [
    "nlp_pretrain=dt.read_clip()"
   ]
  },
  {
   "cell_type": "code",
   "execution_count": 275,
   "metadata": {},
   "outputs": [],
   "source": [
    "nlp_pretrain['Time']=pd.to_datetime(nlp_pretrain['Time'])"
   ]
  },
  {
   "cell_type": "code",
   "execution_count": 277,
   "metadata": {},
   "outputs": [],
   "source": [
    "nlp_pretrain_signal=nlp_pretrain.groupby('Time').mean()"
   ]
  },
  {
   "cell_type": "code",
   "execution_count": 283,
   "metadata": {},
   "outputs": [],
   "source": [
    "nlp_pretrain_signal['sent']-=1"
   ]
  },
  {
   "cell_type": "code",
   "execution_count": 302,
   "metadata": {},
   "outputs": [],
   "source": [
    "nlp_pretrain_signal=nlp_pretrain_signal.shift(1)"
   ]
  },
  {
   "cell_type": "code",
   "execution_count": 360,
   "metadata": {},
   "outputs": [],
   "source": [
    "dt.to_clip(np.sign(nlp_pretrain_signal['prob_diff']))"
   ]
  },
  {
   "cell_type": "code",
   "execution_count": 366,
   "metadata": {},
   "outputs": [],
   "source": [
    "nlp_signal=np.sign(nlp_pretrain_signal['prob_diff'])"
   ]
  },
  {
   "cell_type": "code",
   "execution_count": 350,
   "metadata": {},
   "outputs": [
    {
     "data": {
      "text/plain": [
       "Time\n",
       "2018-03-20    NaN\n",
       "2018-03-21    0.0\n",
       "2018-03-22    0.0\n",
       "2018-03-23   -1.0\n",
       "2018-03-24    0.0\n",
       "             ... \n",
       "2020-01-26    1.0\n",
       "2020-01-27    0.0\n",
       "2020-01-28    0.0\n",
       "2020-01-29    0.0\n",
       "2020-01-30    0.0\n",
       "Name: sent, Length: 682, dtype: float64"
      ]
     },
     "execution_count": 350,
     "metadata": {},
     "output_type": "execute_result"
    }
   ],
   "source": [
    "nlp_signal[:round(len(nlp_signal)*0.8)]"
   ]
  },
  {
   "cell_type": "code",
   "execution_count": 367,
   "metadata": {},
   "outputs": [],
   "source": [
    "combine_signal=tech_signal+nlp_signal"
   ]
  },
  {
   "cell_type": "code",
   "execution_count": 373,
   "metadata": {},
   "outputs": [
    {
     "data": {
      "text/plain": [
       "<Axes: >"
      ]
     },
     "execution_count": 373,
     "metadata": {},
     "output_type": "execute_result"
    },
    {
     "data": {
      "image/png": "[encoded data removed]",
      "text/plain": [
       "<Figure size 1100x400 with 1 Axes>"
      ]
     },
     "metadata": {},
     "output_type": "display_data"
    }
   ],
   "source": [
    "all_signals=pd.concat([combine_signal.rename('combine'),nlp_signal,tech_signal,],axis=1)\n",
    "all_signals['bench']=1\n",
    "all_signals.mul(s.diff(),axis=0).cumsum().plot()"
   ]
  },
  {
   "cell_type": "code",
   "execution_count": 362,
   "metadata": {},
   "outputs": [],
   "source": [
    "fine_tuned=dt.read_clip()"
   ]
  },
  {
   "cell_type": "code",
   "execution_count": 374,
   "metadata": {},
   "outputs": [],
   "source": [
    "final_all_signals=pd.concat([all_signals,fine_tuned],axis=1)"
   ]
  },
  {
   "cell_type": "code",
   "execution_count": 379,
   "metadata": {},
   "outputs": [],
   "source": [
    "dt.to_clip(final_all_signals.mul(s.diff(),axis=0).dropna())"
   ]
  },
  {
   "cell_type": "code",
   "execution_count": 377,
   "metadata": {},
   "outputs": [
    {
     "data": {
      "text/plain": [
       "<Axes: >"
      ]
     },
     "execution_count": 377,
     "metadata": {},
     "output_type": "execute_result"
    },
    {
     "data": {
      "image/png": "[encoded data removed]",
      "text/plain": [
       "<Figure size 1100x400 with 1 Axes>"
      ]
     },
     "metadata": {},
     "output_type": "display_data"
    }
   ],
   "source": [
    "final_all_signals.mul(s.diff(),axis=0)['2020-1-30':'2020-7-20'].dropna()"
   ]
  },
  {
   "cell_type": "code",
   "execution_count": 371,
   "metadata": {},
   "outputs": [
    {
     "data": {
      "text/html": [
       "<div>\n",
       "<style scoped>\n",
       "    .dataframe tbody tr th:only-of-type {\n",
       "        vertical-align: middle;\n",
       "    }\n",
       "\n",
       "    .dataframe tbody tr th {\n",
       "        vertical-align: top;\n",
       "    }\n",
       "\n",
       "    .dataframe thead th {\n",
       "        text-align: right;\n",
       "    }\n",
       "</style>\n",
       "<table border=\"1\" class=\"dataframe\">\n",
       "  <thead>\n",
       "    <tr style=\"text-align: right;\">\n",
       "      <th></th>\n",
       "      <th>combine</th>\n",
       "      <th>prob_diff</th>\n",
       "      <th>10</th>\n",
       "      <th>bench</th>\n",
       "      <th>fine_tuned_logits</th>\n",
       "      <th>fine_tuned_pooler</th>\n",
       "    </tr>\n",
       "  </thead>\n",
       "  <tbody>\n",
       "    <tr>\n",
       "      <th>2018-03-21</th>\n",
       "      <td>-2.0</td>\n",
       "      <td>-1.0</td>\n",
       "      <td>-1.0</td>\n",
       "      <td>1.0</td>\n",
       "      <td>NaN</td>\n",
       "      <td>NaN</td>\n",
       "    </tr>\n",
       "    <tr>\n",
       "      <th>2018-03-22</th>\n",
       "      <td>-2.0</td>\n",
       "      <td>-1.0</td>\n",
       "      <td>-1.0</td>\n",
       "      <td>1.0</td>\n",
       "      <td>NaN</td>\n",
       "      <td>NaN</td>\n",
       "    </tr>\n",
       "    <tr>\n",
       "      <th>2018-03-23</th>\n",
       "      <td>-2.0</td>\n",
       "      <td>-1.0</td>\n",
       "      <td>-1.0</td>\n",
       "      <td>1.0</td>\n",
       "      <td>NaN</td>\n",
       "      <td>NaN</td>\n",
       "    </tr>\n",
       "    <tr>\n",
       "      <th>2018-03-26</th>\n",
       "      <td>-2.0</td>\n",
       "      <td>-1.0</td>\n",
       "      <td>-1.0</td>\n",
       "      <td>1.0</td>\n",
       "      <td>NaN</td>\n",
       "      <td>NaN</td>\n",
       "    </tr>\n",
       "    <tr>\n",
       "      <th>2018-03-27</th>\n",
       "      <td>-2.0</td>\n",
       "      <td>-1.0</td>\n",
       "      <td>-1.0</td>\n",
       "      <td>1.0</td>\n",
       "      <td>NaN</td>\n",
       "      <td>NaN</td>\n",
       "    </tr>\n",
       "    <tr>\n",
       "      <th>...</th>\n",
       "      <td>...</td>\n",
       "      <td>...</td>\n",
       "      <td>...</td>\n",
       "      <td>...</td>\n",
       "      <td>...</td>\n",
       "      <td>...</td>\n",
       "    </tr>\n",
       "    <tr>\n",
       "      <th>2020-07-14</th>\n",
       "      <td>0.0</td>\n",
       "      <td>-1.0</td>\n",
       "      <td>1.0</td>\n",
       "      <td>1.0</td>\n",
       "      <td>1.0</td>\n",
       "      <td>-1.0</td>\n",
       "    </tr>\n",
       "    <tr>\n",
       "      <th>2020-07-15</th>\n",
       "      <td>0.0</td>\n",
       "      <td>-1.0</td>\n",
       "      <td>1.0</td>\n",
       "      <td>1.0</td>\n",
       "      <td>-1.0</td>\n",
       "      <td>-1.0</td>\n",
       "    </tr>\n",
       "    <tr>\n",
       "      <th>2020-07-16</th>\n",
       "      <td>2.0</td>\n",
       "      <td>1.0</td>\n",
       "      <td>1.0</td>\n",
       "      <td>1.0</td>\n",
       "      <td>-1.0</td>\n",
       "      <td>1.0</td>\n",
       "    </tr>\n",
       "    <tr>\n",
       "      <th>2020-07-17</th>\n",
       "      <td>0.0</td>\n",
       "      <td>-1.0</td>\n",
       "      <td>1.0</td>\n",
       "      <td>1.0</td>\n",
       "      <td>1.0</td>\n",
       "      <td>-1.0</td>\n",
       "    </tr>\n",
       "    <tr>\n",
       "      <th>2020-07-20</th>\n",
       "      <td>NaN</td>\n",
       "      <td>NaN</td>\n",
       "      <td>NaN</td>\n",
       "      <td>NaN</td>\n",
       "      <td>1.0</td>\n",
       "      <td>-1.0</td>\n",
       "    </tr>\n",
       "  </tbody>\n",
       "</table>\n",
       "<p>591 rows × 6 columns</p>\n",
       "</div>"
      ],
      "text/plain": [
       "            combine  prob_diff   10  bench  fine_tuned_logits  \\\n",
       "2018-03-21     -2.0       -1.0 -1.0    1.0                NaN   \n",
       "2018-03-22     -2.0       -1.0 -1.0    1.0                NaN   \n",
       "2018-03-23     -2.0       -1.0 -1.0    1.0                NaN   \n",
       "2018-03-26     -2.0       -1.0 -1.0    1.0                NaN   \n",
       "2018-03-27     -2.0       -1.0 -1.0    1.0                NaN   \n",
       "...             ...        ...  ...    ...                ...   \n",
       "2020-07-14      0.0       -1.0  1.0    1.0                1.0   \n",
       "2020-07-15      0.0       -1.0  1.0    1.0               -1.0   \n",
       "2020-07-16      2.0        1.0  1.0    1.0               -1.0   \n",
       "2020-07-17      0.0       -1.0  1.0    1.0                1.0   \n",
       "2020-07-20      NaN        NaN  NaN    NaN                1.0   \n",
       "\n",
       "            fine_tuned_pooler  \n",
       "2018-03-21                NaN  \n",
       "2018-03-22                NaN  \n",
       "2018-03-23                NaN  \n",
       "2018-03-26                NaN  \n",
       "2018-03-27                NaN  \n",
       "...                       ...  \n",
       "2020-07-14               -1.0  \n",
       "2020-07-15               -1.0  \n",
       "2020-07-16                1.0  \n",
       "2020-07-17               -1.0  \n",
       "2020-07-20               -1.0  \n",
       "\n",
       "[591 rows x 6 columns]"
      ]
     },
     "execution_count": 371,
     "metadata": {},
     "output_type": "execute_result"
    }
   ],
   "source": [
    "all_signals"
   ]
  },
  {
   "cell_type": "code",
   "execution_count": 383,
   "metadata": {},
   "outputs": [],
   "source": [
    "returns=dt.read_clip()"
   ]
  },
  {
   "cell_type": "code",
   "execution_count": 384,
   "metadata": {},
   "outputs": [
    {
     "data": {
      "text/plain": [
       "bench               -0.081117\n",
       "pretrained          -0.179510\n",
       "fine_tuned_logits    0.411982\n",
       "fine_tuned_pooler    0.680905\n",
       "dtype: float64"
      ]
     },
     "execution_count": 384,
     "metadata": {},
     "output_type": "execute_result"
    }
   ],
   "source": [
    "returns.mean()/returns.std()*252**0.5"
   ]
  },
  {
   "cell_type": "code",
   "execution_count": 3,
   "metadata": {},
   "outputs": [],
   "source": [
    "def clean(tweet):\n",
    "    # tweet = re.sub(r'http\\S+|www\\S+|@\\S+|#\\S+|[^A-Za-z\\s]', '', tweet)\n",
    "    tweet = re.sub(r\"http\\S+\", \"\", tweet)\n",
    "    tweet = re.sub(\"(@[A-Za-z]+[A-Za-z0-9-_]+)\", \"\", tweet)\n",
    "    tweet = re.sub(r\"#(\\w+)\", \"\", tweet)\n",
    "    tweet = re.sub(\"([_]+)\", \"\", tweet)\n",
    "    if not re.search(r'[.,!?;:\"]$', tweet[-1]):\n",
    "        tweet += \". \"\n",
    "    return tweet"
   ]
  },
  {
   "cell_type": "code",
   "execution_count": 4,
   "metadata": {},
   "outputs": [],
   "source": [
    "def extract(ticker, date):\n",
    "    data = \"\"\n",
    "    with open(f\"{ticker}/{date}\") as f:\n",
    "        for line in f:\n",
    "            j = json.loads(line)\n",
    "            if not \"retweeted_status\" in j:\n",
    "                data += clean(j[\"text\"])\n",
    "    return data"
   ]
  },
  {
   "cell_type": "code",
   "execution_count": 5,
   "metadata": {},
   "outputs": [],
   "source": [
    "def extract_ticker_all(ticker):\n",
    "    data = []\n",
    "    for date in os.listdir(ticker):\n",
    "        data.append((date, extract(ticker, date)))\n",
    "    return pd.DataFrame(data, columns=[\"date\", \"tweets\"])"
   ]
  },
  {
   "cell_type": "code",
   "execution_count": 67,
   "metadata": {},
   "outputs": [],
   "source": [
    "for ticker in os.listdir()[2:]:\n",
    "    data = extract_ticker_all(ticker)\n",
    "    data.to_csv(f\"../clean/{ticker}.csv\", index=False)"
   ]
  },
  {
   "cell_type": "code",
   "execution_count": 68,
   "metadata": {},
   "outputs": [
    {
     "data": {
      "text/html": [
       "<div>\n",
       "<style scoped>\n",
       "    .dataframe tbody tr th:only-of-type {\n",
       "        vertical-align: middle;\n",
       "    }\n",
       "\n",
       "    .dataframe tbody tr th {\n",
       "        vertical-align: top;\n",
       "    }\n",
       "\n",
       "    .dataframe thead th {\n",
       "        text-align: right;\n",
       "    }\n",
       "</style>\n",
       "<table border=\"1\" class=\"dataframe\">\n",
       "  <thead>\n",
       "    <tr style=\"text-align: right;\">\n",
       "      <th></th>\n",
       "      <th>date</th>\n",
       "      <th>tweets</th>\n",
       "    </tr>\n",
       "  </thead>\n",
       "  <tbody>\n",
       "    <tr>\n",
       "      <th>0</th>\n",
       "      <td>2014-01-02</td>\n",
       "      <td>Not as diversified as $SLB (think $HAL is muc...</td>\n",
       "    </tr>\n",
       "    <tr>\n",
       "      <th>1</th>\n",
       "      <td>2014-01-07</td>\n",
       "      <td>$SLB call at $94.50ish was perfect…haven't tri...</td>\n",
       "    </tr>\n",
       "    <tr>\n",
       "      <th>2</th>\n",
       "      <td>2014-01-11</td>\n",
       "      <td>S&amp;amp;P100  Performance $BHI $BMY $AEP $SLB $L...</td>\n",
       "    </tr>\n",
       "    <tr>\n",
       "      <th>3</th>\n",
       "      <td>2014-01-12</td>\n",
       "      <td>$SLB - China Believes that it Can Duplicate Ou...</td>\n",
       "    </tr>\n",
       "    <tr>\n",
       "      <th>4</th>\n",
       "      <td>2014-01-15</td>\n",
       "      <td>Wow. Great   on $CCRN $WTI $SLB $VALE Click .</td>\n",
       "    </tr>\n",
       "    <tr>\n",
       "      <th>...</th>\n",
       "      <td>...</td>\n",
       "      <td>...</td>\n",
       "    </tr>\n",
       "    <tr>\n",
       "      <th>311</th>\n",
       "      <td>2016-03-25</td>\n",
       "      <td>-Cameron deal clears final regulatory hurdle. ...</td>\n",
       "    </tr>\n",
       "    <tr>\n",
       "      <th>312</th>\n",
       "      <td>2016-03-27</td>\n",
       "      <td>$SLB:\\n\\nKey Stocks of the Day: Schlumberger L...</td>\n",
       "    </tr>\n",
       "    <tr>\n",
       "      <th>313</th>\n",
       "      <td>2016-03-28</td>\n",
       "      <td>BRIEF-Cameron expresses no opinion on debt ten...</td>\n",
       "    </tr>\n",
       "    <tr>\n",
       "      <th>314</th>\n",
       "      <td>2016-03-30</td>\n",
       "      <td>Limited. Given \"Buy\" Rating at Citigroup Inc....</td>\n",
       "    </tr>\n",
       "    <tr>\n",
       "      <th>315</th>\n",
       "      <td>2016-03-31</td>\n",
       "      <td>Schlumberger Limited. $SLB PT Lowered to $78.0...</td>\n",
       "    </tr>\n",
       "  </tbody>\n",
       "</table>\n",
       "<p>316 rows × 2 columns</p>\n",
       "</div>"
      ],
      "text/plain": [
       "           date                                             tweets\n",
       "0    2014-01-02   Not as diversified as $SLB (think $HAL is muc...\n",
       "1    2014-01-07  $SLB call at $94.50ish was perfect…haven't tri...\n",
       "2    2014-01-11  S&amp;P100  Performance $BHI $BMY $AEP $SLB $L...\n",
       "3    2014-01-12  $SLB - China Believes that it Can Duplicate Ou...\n",
       "4    2014-01-15     Wow. Great   on $CCRN $WTI $SLB $VALE Click . \n",
       "..          ...                                                ...\n",
       "311  2016-03-25  -Cameron deal clears final regulatory hurdle. ...\n",
       "312  2016-03-27  $SLB:\\n\\nKey Stocks of the Day: Schlumberger L...\n",
       "313  2016-03-28  BRIEF-Cameron expresses no opinion on debt ten...\n",
       "314  2016-03-30   Limited. Given \"Buy\" Rating at Citigroup Inc....\n",
       "315  2016-03-31  Schlumberger Limited. $SLB PT Lowered to $78.0...\n",
       "\n",
       "[316 rows x 2 columns]"
      ]
     },
     "execution_count": 68,
     "metadata": {},
     "output_type": "execute_result"
    }
   ],
   "source": [
    "pd.read_csv(\"../clean/SLB.csv\")"
   ]
  },
  {
   "cell_type": "code",
   "execution_count": 14,
   "metadata": {},
   "outputs": [],
   "source": [
    "os.chdir(\n",
    "    r\"C:\\Users\\mingxi.liu\\OneDrive - Dymon Asia Capital (Singapore) Pte Ltd\\MIDS\\W266\\stocknet-dataset\"\n",
    ")"
   ]
  },
  {
   "cell_type": "code",
   "execution_count": 4,
   "metadata": {},
   "outputs": [],
   "source": [
    "data_all = []\n",
    "for i in os.listdir():\n",
    "    data_all.append(\n",
    "        pd.read_csv(i, index_col=0, parse_dates=True)[\"Adj Close\"].rename(i[:-4])\n",
    "    )\n",
    "p = pd.concat(data_all, axis=1)"
   ]
  },
  {
   "cell_type": "code",
   "execution_count": 5,
   "metadata": {},
   "outputs": [
    {
     "data": {
      "text/html": [
       "<div>\n",
       "<style scoped>\n",
       "    .dataframe tbody tr th:only-of-type {\n",
       "        vertical-align: middle;\n",
       "    }\n",
       "\n",
       "    .dataframe tbody tr th {\n",
       "        vertical-align: top;\n",
       "    }\n",
       "\n",
       "    .dataframe thead th {\n",
       "        text-align: right;\n",
       "    }\n",
       "</style>\n",
       "<table border=\"1\" class=\"dataframe\">\n",
       "  <thead>\n",
       "    <tr style=\"text-align: right;\">\n",
       "      <th></th>\n",
       "      <th>AAPL</th>\n",
       "      <th>ABB</th>\n",
       "      <th>ABBV</th>\n",
       "      <th>AEP</th>\n",
       "      <th>AGFS</th>\n",
       "      <th>AMGN</th>\n",
       "      <th>AMZN</th>\n",
       "      <th>BA</th>\n",
       "      <th>BABA</th>\n",
       "      <th>BAC</th>\n",
       "      <th>...</th>\n",
       "      <th>UL</th>\n",
       "      <th>UN</th>\n",
       "      <th>UNH</th>\n",
       "      <th>UPS</th>\n",
       "      <th>UTX</th>\n",
       "      <th>V</th>\n",
       "      <th>VZ</th>\n",
       "      <th>WFC</th>\n",
       "      <th>WMT</th>\n",
       "      <th>XOM</th>\n",
       "    </tr>\n",
       "    <tr>\n",
       "      <th>Date</th>\n",
       "      <th></th>\n",
       "      <th></th>\n",
       "      <th></th>\n",
       "      <th></th>\n",
       "      <th></th>\n",
       "      <th></th>\n",
       "      <th></th>\n",
       "      <th></th>\n",
       "      <th></th>\n",
       "      <th></th>\n",
       "      <th></th>\n",
       "      <th></th>\n",
       "      <th></th>\n",
       "      <th></th>\n",
       "      <th></th>\n",
       "      <th></th>\n",
       "      <th></th>\n",
       "      <th></th>\n",
       "      <th></th>\n",
       "      <th></th>\n",
       "      <th></th>\n",
       "    </tr>\n",
       "  </thead>\n",
       "  <tbody>\n",
       "    <tr>\n",
       "      <th>2017-08-28</th>\n",
       "      <td>161.470001</td>\n",
       "      <td>23.07</td>\n",
       "      <td>73.320000</td>\n",
       "      <td>74.099998</td>\n",
       "      <td>7.05</td>\n",
       "      <td>171.779999</td>\n",
       "      <td>946.020020</td>\n",
       "      <td>237.179993</td>\n",
       "      <td>168.300003</td>\n",
       "      <td>23.599287</td>\n",
       "      <td>...</td>\n",
       "      <td>58.119999</td>\n",
       "      <td>59.470001</td>\n",
       "      <td>195.089996</td>\n",
       "      <td>113.790001</td>\n",
       "      <td>115.330002</td>\n",
       "      <td>103.779999</td>\n",
       "      <td>48.610001</td>\n",
       "      <td>51.630001</td>\n",
       "      <td>78.029999</td>\n",
       "      <td>76.470001</td>\n",
       "    </tr>\n",
       "    <tr>\n",
       "      <th>2017-08-29</th>\n",
       "      <td>162.910004</td>\n",
       "      <td>22.92</td>\n",
       "      <td>73.889999</td>\n",
       "      <td>73.940002</td>\n",
       "      <td>7.02</td>\n",
       "      <td>172.229996</td>\n",
       "      <td>954.059998</td>\n",
       "      <td>240.490005</td>\n",
       "      <td>167.410004</td>\n",
       "      <td>23.460001</td>\n",
       "      <td>...</td>\n",
       "      <td>58.119999</td>\n",
       "      <td>59.490002</td>\n",
       "      <td>196.729996</td>\n",
       "      <td>114.889999</td>\n",
       "      <td>118.699997</td>\n",
       "      <td>103.769997</td>\n",
       "      <td>48.509998</td>\n",
       "      <td>51.419998</td>\n",
       "      <td>78.769997</td>\n",
       "      <td>76.449997</td>\n",
       "    </tr>\n",
       "    <tr>\n",
       "      <th>2017-08-30</th>\n",
       "      <td>163.350006</td>\n",
       "      <td>22.84</td>\n",
       "      <td>73.919998</td>\n",
       "      <td>73.750000</td>\n",
       "      <td>7.03</td>\n",
       "      <td>173.649994</td>\n",
       "      <td>967.590027</td>\n",
       "      <td>240.460007</td>\n",
       "      <td>171.250000</td>\n",
       "      <td>23.870001</td>\n",
       "      <td>...</td>\n",
       "      <td>57.639999</td>\n",
       "      <td>59.020000</td>\n",
       "      <td>195.880005</td>\n",
       "      <td>114.970001</td>\n",
       "      <td>119.599998</td>\n",
       "      <td>103.730003</td>\n",
       "      <td>48.119999</td>\n",
       "      <td>51.360001</td>\n",
       "      <td>78.540001</td>\n",
       "      <td>76.099998</td>\n",
       "    </tr>\n",
       "    <tr>\n",
       "      <th>2017-08-31</th>\n",
       "      <td>164.000000</td>\n",
       "      <td>23.18</td>\n",
       "      <td>75.300003</td>\n",
       "      <td>73.629997</td>\n",
       "      <td>7.12</td>\n",
       "      <td>177.770004</td>\n",
       "      <td>980.599976</td>\n",
       "      <td>239.660004</td>\n",
       "      <td>171.740005</td>\n",
       "      <td>23.889999</td>\n",
       "      <td>...</td>\n",
       "      <td>58.209999</td>\n",
       "      <td>59.500000</td>\n",
       "      <td>198.899994</td>\n",
       "      <td>114.360001</td>\n",
       "      <td>119.720001</td>\n",
       "      <td>103.519997</td>\n",
       "      <td>47.970001</td>\n",
       "      <td>51.070000</td>\n",
       "      <td>78.070000</td>\n",
       "      <td>76.330002</td>\n",
       "    </tr>\n",
       "    <tr>\n",
       "      <th>2017-09-01</th>\n",
       "      <td>164.050003</td>\n",
       "      <td>23.26</td>\n",
       "      <td>75.419998</td>\n",
       "      <td>73.540001</td>\n",
       "      <td>7.16</td>\n",
       "      <td>178.710007</td>\n",
       "      <td>978.250000</td>\n",
       "      <td>240.330002</td>\n",
       "      <td>171.039993</td>\n",
       "      <td>24.090000</td>\n",
       "      <td>...</td>\n",
       "      <td>58.290001</td>\n",
       "      <td>59.540001</td>\n",
       "      <td>199.750000</td>\n",
       "      <td>114.389999</td>\n",
       "      <td>117.919998</td>\n",
       "      <td>103.900002</td>\n",
       "      <td>47.919998</td>\n",
       "      <td>50.970001</td>\n",
       "      <td>78.370003</td>\n",
       "      <td>76.570000</td>\n",
       "    </tr>\n",
       "  </tbody>\n",
       "</table>\n",
       "<p>5 rows × 88 columns</p>\n",
       "</div>"
      ],
      "text/plain": [
       "                  AAPL    ABB       ABBV        AEP  AGFS        AMGN  \\\n",
       "Date                                                                    \n",
       "2017-08-28  161.470001  23.07  73.320000  74.099998  7.05  171.779999   \n",
       "2017-08-29  162.910004  22.92  73.889999  73.940002  7.02  172.229996   \n",
       "2017-08-30  163.350006  22.84  73.919998  73.750000  7.03  173.649994   \n",
       "2017-08-31  164.000000  23.18  75.300003  73.629997  7.12  177.770004   \n",
       "2017-09-01  164.050003  23.26  75.419998  73.540001  7.16  178.710007   \n",
       "\n",
       "                  AMZN          BA        BABA        BAC  ...         UL  \\\n",
       "Date                                                       ...              \n",
       "2017-08-28  946.020020  237.179993  168.300003  23.599287  ...  58.119999   \n",
       "2017-08-29  954.059998  240.490005  167.410004  23.460001  ...  58.119999   \n",
       "2017-08-30  967.590027  240.460007  171.250000  23.870001  ...  57.639999   \n",
       "2017-08-31  980.599976  239.660004  171.740005  23.889999  ...  58.209999   \n",
       "2017-09-01  978.250000  240.330002  171.039993  24.090000  ...  58.290001   \n",
       "\n",
       "                   UN         UNH         UPS         UTX           V  \\\n",
       "Date                                                                    \n",
       "2017-08-28  59.470001  195.089996  113.790001  115.330002  103.779999   \n",
       "2017-08-29  59.490002  196.729996  114.889999  118.699997  103.769997   \n",
       "2017-08-30  59.020000  195.880005  114.970001  119.599998  103.730003   \n",
       "2017-08-31  59.500000  198.899994  114.360001  119.720001  103.519997   \n",
       "2017-09-01  59.540001  199.750000  114.389999  117.919998  103.900002   \n",
       "\n",
       "                   VZ        WFC        WMT        XOM  \n",
       "Date                                                    \n",
       "2017-08-28  48.610001  51.630001  78.029999  76.470001  \n",
       "2017-08-29  48.509998  51.419998  78.769997  76.449997  \n",
       "2017-08-30  48.119999  51.360001  78.540001  76.099998  \n",
       "2017-08-31  47.970001  51.070000  78.070000  76.330002  \n",
       "2017-09-01  47.919998  50.970001  78.370003  76.570000  \n",
       "\n",
       "[5 rows x 88 columns]"
      ]
     },
     "execution_count": 5,
     "metadata": {},
     "output_type": "execute_result"
    }
   ],
   "source": [
    "p.tail()"
   ]
  },
  {
   "cell_type": "code",
   "execution_count": 8,
   "metadata": {},
   "outputs": [],
   "source": [
    "r_now = np.log(p).diff()[\"2014\":\"2015\"]\n",
    "r_next = np.log(p).diff(2).shift(-2)[\"2014\":\"2015\"]"
   ]
  },
  {
   "cell_type": "code",
   "execution_count": 10,
   "metadata": {},
   "outputs": [],
   "source": [
    "def zscore(data):\n",
    "    return (data - data.mean()) / data.std()"
   ]
  },
  {
   "cell_type": "code",
   "execution_count": 12,
   "metadata": {},
   "outputs": [],
   "source": [
    "r_now = zscore(r_now)\n",
    "r_next = zscore(r_next)"
   ]
  },
  {
   "cell_type": "code",
   "execution_count": 108,
   "metadata": {},
   "outputs": [],
   "source": [
    "r = np.log(p).diff(2).shift(-2)[\"2014\":\"2015\"]"
   ]
  },
  {
   "cell_type": "code",
   "execution_count": 109,
   "metadata": {},
   "outputs": [],
   "source": [
    "upper = r.quantile(0.66)\n",
    "lower = r.quantile(0.33)"
   ]
  },
  {
   "cell_type": "code",
   "execution_count": 110,
   "metadata": {},
   "outputs": [],
   "source": [
    "labels = r.copy()"
   ]
  },
  {
   "cell_type": "code",
   "execution_count": 111,
   "metadata": {},
   "outputs": [],
   "source": [
    "labels[labels > upper] = 200\n",
    "labels[labels < lower] = -200\n",
    "labels[(labels <= upper) & (labels >= lower)] = 0"
   ]
  },
  {
   "cell_type": "code",
   "execution_count": 112,
   "metadata": {},
   "outputs": [],
   "source": [
    "labels = labels.replace(0, 1).replace(-200, 0).replace(200, 2)"
   ]
  },
  {
   "cell_type": "code",
   "execution_count": 113,
   "metadata": {},
   "outputs": [],
   "source": [
    "labels.to_csv(\"price\\clean\\labels_next2day.csv\")"
   ]
  },
  {
   "cell_type": "code",
   "execution_count": 97,
   "metadata": {},
   "outputs": [],
   "source": [
    "os.chdir(\"..\")"
   ]
  },
  {
   "cell_type": "code",
   "execution_count": 98,
   "metadata": {},
   "outputs": [
    {
     "data": {
      "text/plain": [
       "'C:\\\\Users\\\\mingxi.liu\\\\OneDrive - Dymon Asia Capital (Singapore) Pte Ltd\\\\MIDS\\\\W266\\\\stocknet-dataset'"
      ]
     },
     "execution_count": 98,
     "metadata": {},
     "output_type": "execute_result"
    }
   ],
   "source": [
    "os.getcwd()"
   ]
  },
  {
   "cell_type": "code",
   "execution_count": 100,
   "metadata": {},
   "outputs": [
    {
     "data": {
      "text/html": [
       "<div>\n",
       "<style scoped>\n",
       "    .dataframe tbody tr th:only-of-type {\n",
       "        vertical-align: middle;\n",
       "    }\n",
       "\n",
       "    .dataframe tbody tr th {\n",
       "        vertical-align: top;\n",
       "    }\n",
       "\n",
       "    .dataframe thead th {\n",
       "        text-align: right;\n",
       "    }\n",
       "</style>\n",
       "<table border=\"1\" class=\"dataframe\">\n",
       "  <thead>\n",
       "    <tr style=\"text-align: right;\">\n",
       "      <th></th>\n",
       "      <th>date</th>\n",
       "      <th>tweets</th>\n",
       "    </tr>\n",
       "  </thead>\n",
       "  <tbody>\n",
       "    <tr>\n",
       "      <th>0</th>\n",
       "      <td>2014-01-01</td>\n",
       "      <td>iTV Will Boost Apple  $AAPL .  users are more ...</td>\n",
       "    </tr>\n",
       "    <tr>\n",
       "      <th>1</th>\n",
       "      <td>2014-01-02</td>\n",
       "      <td>$AAPL - Wall St. kicks off New Year on lower n...</td>\n",
       "    </tr>\n",
       "    <tr>\n",
       "      <th>2</th>\n",
       "      <td>2014-01-03</td>\n",
       "      <td>The Five-Year-Old iPad: When Will People Stop ...</td>\n",
       "    </tr>\n",
       "    <tr>\n",
       "      <th>3</th>\n",
       "      <td>2014-01-04</td>\n",
       "      <td>$AAPL - Boeing contract with machinists - deta...</td>\n",
       "    </tr>\n",
       "    <tr>\n",
       "      <th>4</th>\n",
       "      <td>2014-01-05</td>\n",
       "      <td>$AAPL Machinists vote helps Boeing avoid hirin...</td>\n",
       "    </tr>\n",
       "    <tr>\n",
       "      <th>...</th>\n",
       "      <td>...</td>\n",
       "      <td>...</td>\n",
       "    </tr>\n",
       "    <tr>\n",
       "      <th>779</th>\n",
       "      <td>2016-03-27</td>\n",
       "      <td>Here's how much money Apple makes when you buy...</td>\n",
       "    </tr>\n",
       "    <tr>\n",
       "      <th>780</th>\n",
       "      <td>2016-03-28</td>\n",
       "      <td>$VDRM  HUGE FILING OUT REVENUES! 1000% run i...</td>\n",
       "    </tr>\n",
       "    <tr>\n",
       "      <th>781</th>\n",
       "      <td>2016-03-29</td>\n",
       "      <td>$AAPL Facebook hints at possible Apple Pay tea...</td>\n",
       "    </tr>\n",
       "    <tr>\n",
       "      <th>782</th>\n",
       "      <td>2016-03-30</td>\n",
       "      <td>Top Gainers at Dow: Apple (NASDAQ:AAPL), Micro...</td>\n",
       "    </tr>\n",
       "    <tr>\n",
       "      <th>783</th>\n",
       "      <td>2016-03-31</td>\n",
       "      <td>$FIT furry this am on stronger than expected  ...</td>\n",
       "    </tr>\n",
       "  </tbody>\n",
       "</table>\n",
       "<p>784 rows × 2 columns</p>\n",
       "</div>"
      ],
      "text/plain": [
       "           date                                             tweets\n",
       "0    2014-01-01  iTV Will Boost Apple  $AAPL .  users are more ...\n",
       "1    2014-01-02  $AAPL - Wall St. kicks off New Year on lower n...\n",
       "2    2014-01-03  The Five-Year-Old iPad: When Will People Stop ...\n",
       "3    2014-01-04  $AAPL - Boeing contract with machinists - deta...\n",
       "4    2014-01-05  $AAPL Machinists vote helps Boeing avoid hirin...\n",
       "..          ...                                                ...\n",
       "779  2016-03-27  Here's how much money Apple makes when you buy...\n",
       "780  2016-03-28    $VDRM  HUGE FILING OUT REVENUES! 1000% run i...\n",
       "781  2016-03-29  $AAPL Facebook hints at possible Apple Pay tea...\n",
       "782  2016-03-30  Top Gainers at Dow: Apple (NASDAQ:AAPL), Micro...\n",
       "783  2016-03-31  $FIT furry this am on stronger than expected  ...\n",
       "\n",
       "[784 rows x 2 columns]"
      ]
     },
     "execution_count": 100,
     "metadata": {},
     "output_type": "execute_result"
    }
   ],
   "source": [
    "pd.read_csv(\"tweet\\clean\\AAPL.csv\")"
   ]
  },
  {
   "cell_type": "code",
   "execution_count": 16,
   "metadata": {},
   "outputs": [],
   "source": [
    "def match_text_label(ticker, labels_current, labels_next, r_now, r_next):\n",
    "    try:\n",
    "        tweets = pd.read_csv(f\"tweet/clean/{ticker}.csv\", index_col=0, parse_dates=True)\n",
    "    except FileNotFoundError:\n",
    "        return\n",
    "    pairs = pd.concat(\n",
    "        [\n",
    "            tweets,\n",
    "            labels_current[ticker].rename(\"cls_now\"),\n",
    "            labels_next[ticker].rename(\"cls_next\"),\n",
    "            r_now[ticker].rename(\"reg_now\"),\n",
    "            r_next[ticker].rename(\"reg_next\"),\n",
    "        ],\n",
    "        axis=1,\n",
    "    )\n",
    "    pairs[\"ticker\"] = ticker\n",
    "    return pairs.reset_index()"
   ]
  },
  {
   "cell_type": "code",
   "execution_count": 15,
   "metadata": {},
   "outputs": [],
   "source": [
    "labels_current = pd.read_csv(\n",
    "    \"price/clean/labels_current.csv\", parse_dates=True, index_col=0\n",
    ")\n",
    "labels_next = pd.read_csv(\n",
    "    \"price/clean/labels_next2day.csv\", parse_dates=True, index_col=0\n",
    ")"
   ]
  },
  {
   "cell_type": "code",
   "execution_count": 18,
   "metadata": {},
   "outputs": [],
   "source": [
    "pairs = pd.concat(\n",
    "    [\n",
    "        match_text_label(t, labels_current, labels_next, r_now, r_next)\n",
    "        for t in labels_current.columns\n",
    "    ]\n",
    ")"
   ]
  },
  {
   "cell_type": "code",
   "execution_count": 22,
   "metadata": {},
   "outputs": [
    {
     "data": {
      "text/html": [
       "<div>\n",
       "<style scoped>\n",
       "    .dataframe tbody tr th:only-of-type {\n",
       "        vertical-align: middle;\n",
       "    }\n",
       "\n",
       "    .dataframe tbody tr th {\n",
       "        vertical-align: top;\n",
       "    }\n",
       "\n",
       "    .dataframe thead th {\n",
       "        text-align: right;\n",
       "    }\n",
       "</style>\n",
       "<table border=\"1\" class=\"dataframe\">\n",
       "  <thead>\n",
       "    <tr style=\"text-align: right;\">\n",
       "      <th></th>\n",
       "      <th>date</th>\n",
       "      <th>tweets</th>\n",
       "      <th>cls_now</th>\n",
       "      <th>cls_next</th>\n",
       "      <th>reg_now</th>\n",
       "      <th>reg_next</th>\n",
       "      <th>ticker</th>\n",
       "    </tr>\n",
       "  </thead>\n",
       "  <tbody>\n",
       "    <tr>\n",
       "      <th>709</th>\n",
       "      <td>2016-03-25</td>\n",
       "      <td>$XOM Analysts Ratings on Exxon Mobil Corporati...</td>\n",
       "      <td>NaN</td>\n",
       "      <td>NaN</td>\n",
       "      <td>NaN</td>\n",
       "      <td>NaN</td>\n",
       "      <td>XOM</td>\n",
       "    </tr>\n",
       "    <tr>\n",
       "      <th>710</th>\n",
       "      <td>2016-03-28</td>\n",
       "      <td>Dow  Trend $GE $MMM $UNH $TRV $WMT $JNJ $KO $I...</td>\n",
       "      <td>NaN</td>\n",
       "      <td>NaN</td>\n",
       "      <td>NaN</td>\n",
       "      <td>NaN</td>\n",
       "      <td>XOM</td>\n",
       "    </tr>\n",
       "    <tr>\n",
       "      <th>711</th>\n",
       "      <td>2016-03-29</td>\n",
       "      <td>$XOM:\\n\\nExxon Mobil – The Turnaround Has Begu...</td>\n",
       "      <td>NaN</td>\n",
       "      <td>NaN</td>\n",
       "      <td>NaN</td>\n",
       "      <td>NaN</td>\n",
       "      <td>XOM</td>\n",
       "    </tr>\n",
       "    <tr>\n",
       "      <th>712</th>\n",
       "      <td>2016-03-30</td>\n",
       "      <td>NEW POST: Proving Oil's Guilt  $DWTI $SPY $USO...</td>\n",
       "      <td>NaN</td>\n",
       "      <td>NaN</td>\n",
       "      <td>NaN</td>\n",
       "      <td>NaN</td>\n",
       "      <td>XOM</td>\n",
       "    </tr>\n",
       "    <tr>\n",
       "      <th>713</th>\n",
       "      <td>2016-03-31</td>\n",
       "      <td>$XOM Shares in Focus: Exxon Mobil Corporation ...</td>\n",
       "      <td>NaN</td>\n",
       "      <td>NaN</td>\n",
       "      <td>NaN</td>\n",
       "      <td>NaN</td>\n",
       "      <td>XOM</td>\n",
       "    </tr>\n",
       "  </tbody>\n",
       "</table>\n",
       "</div>"
      ],
      "text/plain": [
       "          date                                             tweets  cls_now  \\\n",
       "709 2016-03-25  $XOM Analysts Ratings on Exxon Mobil Corporati...      NaN   \n",
       "710 2016-03-28  Dow  Trend $GE $MMM $UNH $TRV $WMT $JNJ $KO $I...      NaN   \n",
       "711 2016-03-29  $XOM:\\n\\nExxon Mobil – The Turnaround Has Begu...      NaN   \n",
       "712 2016-03-30  NEW POST: Proving Oil's Guilt  $DWTI $SPY $USO...      NaN   \n",
       "713 2016-03-31  $XOM Shares in Focus: Exxon Mobil Corporation ...      NaN   \n",
       "\n",
       "     cls_next  reg_now  reg_next ticker  \n",
       "709       NaN      NaN       NaN    XOM  \n",
       "710       NaN      NaN       NaN    XOM  \n",
       "711       NaN      NaN       NaN    XOM  \n",
       "712       NaN      NaN       NaN    XOM  \n",
       "713       NaN      NaN       NaN    XOM  "
      ]
     },
     "execution_count": 22,
     "metadata": {},
     "output_type": "execute_result"
    }
   ],
   "source": [
    "pairs.tail()"
   ]
  },
  {
   "cell_type": "code",
   "execution_count": 21,
   "metadata": {},
   "outputs": [],
   "source": [
    "pairs.columns = [\n",
    "    \"date\",\n",
    "    \"tweets\",\n",
    "    \"cls_now\",\n",
    "    \"cls_next\",\n",
    "    \"reg_now\",\n",
    "    \"reg_next\",\n",
    "    \"ticker\",\n",
    "]"
   ]
  },
  {
   "cell_type": "code",
   "execution_count": 24,
   "metadata": {},
   "outputs": [],
   "source": [
    "pairs.dropna().to_csv(\"clean_data.csv\", index=False)"
   ]
  },
  {
   "cell_type": "code",
   "execution_count": 136,
   "metadata": {},
   "outputs": [
    {
     "name": "stdout",
     "output_type": "stream",
     "text": [
      "<class 'pandas.core.frame.DataFrame'>\n",
      "RangeIndex: 18359 entries, 0 to 18358\n",
      "Data columns (total 5 columns):\n",
      " #   Column   Non-Null Count  Dtype  \n",
      "---  ------   --------------  -----  \n",
      " 0   date     18359 non-null  object \n",
      " 1   tweets   18359 non-null  object \n",
      " 2   current  18359 non-null  float64\n",
      " 3   next     18359 non-null  float64\n",
      " 4   ticker   18359 non-null  object \n",
      "dtypes: float64(2), object(3)\n",
      "memory usage: 717.3+ KB\n"
     ]
    }
   ],
   "source": [
    "pd.read_csv(\"clean_data.csv\").info()"
   ]
  }
 ],
 "metadata": {
  "kernelspec": {
   "display_name": "py310",
   "language": "python",
   "name": "python3"
  },
  "language_info": {
   "codemirror_mode": {
    "name": "ipython",
    "version": 3
   },
   "file_extension": ".py",
   "mimetype": "text/x-python",
   "name": "python",
   "nbconvert_exporter": "python",
   "pygments_lexer": "ipython3",
   "version": "3.10.10"
  }
 },
 "nbformat": 4,
 "nbformat_minor": 2
}

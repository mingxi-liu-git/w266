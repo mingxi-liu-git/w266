{
  "cells": [
    {
      "cell_type": "code",
      "execution_count": 1,
      "metadata": {
        "colab": {
          "base_uri": "https://localhost:8080/"
        },
        "id": "v0HTPLrL5k7a",
        "outputId": "86e36626-c64b-416b-8bdc-83943d977e61"
      },
      "outputs": [
        {
          "name": "stdout",
          "output_type": "stream",
          "text": [
            "Mounted at /content/drive\n"
          ]
        }
      ],
      "source": [
        "from google.colab import drive\n",
        "drive.mount('/content/drive')"
      ]
    },
    {
      "cell_type": "code",
      "execution_count": 2,
      "metadata": {
        "id": "wXNS04pg5uRN"
      },
      "outputs": [],
      "source": [
        "import os\n",
        "os.chdir('/content/drive/MyDrive/Colab Notebooks/w266')"
      ]
    },
    {
      "cell_type": "code",
      "execution_count": 44,
      "metadata": {
        "id": "6haN4LSe5ijE"
      },
      "outputs": [],
      "source": [
        "import re\n",
        "import json\n",
        "import numpy as np\n",
        "import pandas as pd\n",
        "\n",
        "import tensorflow as tf\n",
        "from tensorflow import keras\n",
        "\n",
        "from transformers import AutoTokenizer,TFAutoModel,TFAutoModelForSequenceClassification\n",
        "from transformers import logging\n",
        "logging.set_verbosity_error()  # skip warnings\n",
        "\n",
        "import seaborn as sns\n",
        "import matplotlib.pyplot as plt\n",
        "from sklearn.metrics import classification_report,confusion_matrix\n",
        "\n",
        "tf.random.set_seed(66)"
      ]
    },
    {
      "cell_type": "markdown",
      "metadata": {
        "id": "BDtRSSLkgcXi"
      },
      "source": [
        "# Load Data"
      ]
    },
    {
      "cell_type": "code",
      "execution_count": 5,
      "metadata": {
        "colab": {
          "base_uri": "https://localhost:8080/"
        },
        "id": "7MCD17exmX-9",
        "outputId": "6d4ef46f-8d21-4163-ecdd-9c07fdedfd2f"
      },
      "outputs": [
        {
          "data": {
            "text/plain": [
              "(105343, 3)"
            ]
          },
          "execution_count": 5,
          "metadata": {},
          "output_type": "execute_result"
        }
      ],
      "source": [
        "news=pd.read_csv('reuters_news_2006_2013.csv').dropna()\n",
        "news.shape"
      ]
    },
    {
      "cell_type": "code",
      "execution_count": 6,
      "metadata": {
        "id": "m26gII9Sjrel"
      },
      "outputs": [],
      "source": [
        "news['date']=pd.to_datetime(news['date'],format=\"%Y%m%d\")"
      ]
    },
    {
      "cell_type": "code",
      "execution_count": 7,
      "metadata": {
        "colab": {
          "base_uri": "https://localhost:8080/",
          "height": 206
        },
        "id": "udpGve4TjnJr",
        "outputId": "c44e4739-95c0-4f92-d097-374ce34ae84b"
      },
      "outputs": [
        {
          "data": {
            "text/html": [
              "\n",
              "  <div id=\"df-7aa255c6-c72b-4880-af49-7dc8aff959ee\" class=\"colab-df-container\">\n",
              "    <div>\n",
              "<style scoped>\n",
              "    .dataframe tbody tr th:only-of-type {\n",
              "        vertical-align: middle;\n",
              "    }\n",
              "\n",
              "    .dataframe tbody tr th {\n",
              "        vertical-align: top;\n",
              "    }\n",
              "\n",
              "    .dataframe thead th {\n",
              "        text-align: right;\n",
              "    }\n",
              "</style>\n",
              "<table border=\"1\" class=\"dataframe\">\n",
              "  <thead>\n",
              "    <tr style=\"text-align: right;\">\n",
              "      <th></th>\n",
              "      <th>date</th>\n",
              "      <th>title</th>\n",
              "      <th>summary</th>\n",
              "    </tr>\n",
              "  </thead>\n",
              "  <tbody>\n",
              "    <tr>\n",
              "      <th>0</th>\n",
              "      <td>2006-11-13</td>\n",
              "      <td>Hitachi, GE boost alliance in nuclear power bu...</td>\n",
              "      <td>TOKYO  (Reuters) - Hitachi Ltd. ( 6501.T ) sai...</td>\n",
              "    </tr>\n",
              "    <tr>\n",
              "      <th>1</th>\n",
              "      <td>2006-11-13</td>\n",
              "      <td>Volvo to cut 1,000 staff at Virginia plant</td>\n",
              "      <td>STOCKHOLM  (Reuters) - Truck maker Volvo said ...</td>\n",
              "    </tr>\n",
              "    <tr>\n",
              "      <th>2</th>\n",
              "      <td>2006-11-13</td>\n",
              "      <td>European banks hiding full pension obligations</td>\n",
              "      <td>ZURICH, Nov 13 (Reuter) - West European banks ...</td>\n",
              "    </tr>\n",
              "    <tr>\n",
              "      <th>3</th>\n",
              "      <td>2006-11-13</td>\n",
              "      <td>Hitachi, GE to form joint nuclear power ventures</td>\n",
              "      <td>TOKYO  (Reuters) - Japan's Hitachi Ltd. and U....</td>\n",
              "    </tr>\n",
              "    <tr>\n",
              "      <th>4</th>\n",
              "      <td>2006-11-13</td>\n",
              "      <td>Eddie Bauer agrees to be bought for $286 million</td>\n",
              "      <td>(Reuters) - Eddie Bauer Holdings Inc. EBHI.O s...</td>\n",
              "    </tr>\n",
              "  </tbody>\n",
              "</table>\n",
              "</div>\n",
              "    <div class=\"colab-df-buttons\">\n",
              "\n",
              "  <div class=\"colab-df-container\">\n",
              "    <button class=\"colab-df-convert\" onclick=\"convertToInteractive('df-7aa255c6-c72b-4880-af49-7dc8aff959ee')\"\n",
              "            title=\"Convert this dataframe to an interactive table.\"\n",
              "            style=\"display:none;\">\n",
              "\n",
              "  <svg xmlns=\"http://www.w3.org/2000/svg\" height=\"24px\" viewBox=\"0 -960 960 960\">\n",
              "    <path d=\"M120-120v-720h720v720H120Zm60-500h600v-160H180v160Zm220 220h160v-160H400v160Zm0 220h160v-160H400v160ZM180-400h160v-160H180v160Zm440 0h160v-160H620v160ZM180-180h160v-160H180v160Zm440 0h160v-160H620v160Z\"/>\n",
              "  </svg>\n",
              "    </button>\n",
              "\n",
              "  <style>\n",
              "    .colab-df-container {\n",
              "      display:flex;\n",
              "      gap: 12px;\n",
              "    }\n",
              "\n",
              "    .colab-df-convert {\n",
              "      background-color: #E8F0FE;\n",
              "      border: none;\n",
              "      border-radius: 50%;\n",
              "      cursor: pointer;\n",
              "      display: none;\n",
              "      fill: #1967D2;\n",
              "      height: 32px;\n",
              "      padding: 0 0 0 0;\n",
              "      width: 32px;\n",
              "    }\n",
              "\n",
              "    .colab-df-convert:hover {\n",
              "      background-color: #E2EBFA;\n",
              "      box-shadow: 0px 1px 2px rgba(60, 64, 67, 0.3), 0px 1px 3px 1px rgba(60, 64, 67, 0.15);\n",
              "      fill: #174EA6;\n",
              "    }\n",
              "\n",
              "    .colab-df-buttons div {\n",
              "      margin-bottom: 4px;\n",
              "    }\n",
              "\n",
              "    [theme=dark] .colab-df-convert {\n",
              "      background-color: #3B4455;\n",
              "      fill: #D2E3FC;\n",
              "    }\n",
              "\n",
              "    [theme=dark] .colab-df-convert:hover {\n",
              "      background-color: #434B5C;\n",
              "      box-shadow: 0px 1px 3px 1px rgba(0, 0, 0, 0.15);\n",
              "      filter: drop-shadow(0px 1px 2px rgba(0, 0, 0, 0.3));\n",
              "      fill: #FFFFFF;\n",
              "    }\n",
              "  </style>\n",
              "\n",
              "    <script>\n",
              "      const buttonEl =\n",
              "        document.querySelector('#df-7aa255c6-c72b-4880-af49-7dc8aff959ee button.colab-df-convert');\n",
              "      buttonEl.style.display =\n",
              "        google.colab.kernel.accessAllowed ? 'block' : 'none';\n",
              "\n",
              "      async function convertToInteractive(key) {\n",
              "        const element = document.querySelector('#df-7aa255c6-c72b-4880-af49-7dc8aff959ee');\n",
              "        const dataTable =\n",
              "          await google.colab.kernel.invokeFunction('convertToInteractive',\n",
              "                                                    [key], {});\n",
              "        if (!dataTable) return;\n",
              "\n",
              "        const docLinkHtml = 'Like what you see? Visit the ' +\n",
              "          '<a target=\"_blank\" href=https://colab.research.google.com/notebooks/data_table.ipynb>data table notebook</a>'\n",
              "          + ' to learn more about interactive tables.';\n",
              "        element.innerHTML = '';\n",
              "        dataTable['output_type'] = 'display_data';\n",
              "        await google.colab.output.renderOutput(dataTable, element);\n",
              "        const docLink = document.createElement('div');\n",
              "        docLink.innerHTML = docLinkHtml;\n",
              "        element.appendChild(docLink);\n",
              "      }\n",
              "    </script>\n",
              "  </div>\n",
              "\n",
              "\n",
              "<div id=\"df-110eb9da-eeb7-414e-83ec-ba3cb68b5db0\">\n",
              "  <button class=\"colab-df-quickchart\" onclick=\"quickchart('df-110eb9da-eeb7-414e-83ec-ba3cb68b5db0')\"\n",
              "            title=\"Suggest charts\"\n",
              "            style=\"display:none;\">\n",
              "\n",
              "<svg xmlns=\"http://www.w3.org/2000/svg\" height=\"24px\"viewBox=\"0 0 24 24\"\n",
              "     width=\"24px\">\n",
              "    <g>\n",
              "        <path d=\"M19 3H5c-1.1 0-2 .9-2 2v14c0 1.1.9 2 2 2h14c1.1 0 2-.9 2-2V5c0-1.1-.9-2-2-2zM9 17H7v-7h2v7zm4 0h-2V7h2v10zm4 0h-2v-4h2v4z\"/>\n",
              "    </g>\n",
              "</svg>\n",
              "  </button>\n",
              "\n",
              "<style>\n",
              "  .colab-df-quickchart {\n",
              "      --bg-color: #E8F0FE;\n",
              "      --fill-color: #1967D2;\n",
              "      --hover-bg-color: #E2EBFA;\n",
              "      --hover-fill-color: #174EA6;\n",
              "      --disabled-fill-color: #AAA;\n",
              "      --disabled-bg-color: #DDD;\n",
              "  }\n",
              "\n",
              "  [theme=dark] .colab-df-quickchart {\n",
              "      --bg-color: #3B4455;\n",
              "      --fill-color: #D2E3FC;\n",
              "      --hover-bg-color: #434B5C;\n",
              "      --hover-fill-color: #FFFFFF;\n",
              "      --disabled-bg-color: #3B4455;\n",
              "      --disabled-fill-color: #666;\n",
              "  }\n",
              "\n",
              "  .colab-df-quickchart {\n",
              "    background-color: var(--bg-color);\n",
              "    border: none;\n",
              "    border-radius: 50%;\n",
              "    cursor: pointer;\n",
              "    display: none;\n",
              "    fill: var(--fill-color);\n",
              "    height: 32px;\n",
              "    padding: 0;\n",
              "    width: 32px;\n",
              "  }\n",
              "\n",
              "  .colab-df-quickchart:hover {\n",
              "    background-color: var(--hover-bg-color);\n",
              "    box-shadow: 0 1px 2px rgba(60, 64, 67, 0.3), 0 1px 3px 1px rgba(60, 64, 67, 0.15);\n",
              "    fill: var(--button-hover-fill-color);\n",
              "  }\n",
              "\n",
              "  .colab-df-quickchart-complete:disabled,\n",
              "  .colab-df-quickchart-complete:disabled:hover {\n",
              "    background-color: var(--disabled-bg-color);\n",
              "    fill: var(--disabled-fill-color);\n",
              "    box-shadow: none;\n",
              "  }\n",
              "\n",
              "  .colab-df-spinner {\n",
              "    border: 2px solid var(--fill-color);\n",
              "    border-color: transparent;\n",
              "    border-bottom-color: var(--fill-color);\n",
              "    animation:\n",
              "      spin 1s steps(1) infinite;\n",
              "  }\n",
              "\n",
              "  @keyframes spin {\n",
              "    0% {\n",
              "      border-color: transparent;\n",
              "      border-bottom-color: var(--fill-color);\n",
              "      border-left-color: var(--fill-color);\n",
              "    }\n",
              "    20% {\n",
              "      border-color: transparent;\n",
              "      border-left-color: var(--fill-color);\n",
              "      border-top-color: var(--fill-color);\n",
              "    }\n",
              "    30% {\n",
              "      border-color: transparent;\n",
              "      border-left-color: var(--fill-color);\n",
              "      border-top-color: var(--fill-color);\n",
              "      border-right-color: var(--fill-color);\n",
              "    }\n",
              "    40% {\n",
              "      border-color: transparent;\n",
              "      border-right-color: var(--fill-color);\n",
              "      border-top-color: var(--fill-color);\n",
              "    }\n",
              "    60% {\n",
              "      border-color: transparent;\n",
              "      border-right-color: var(--fill-color);\n",
              "    }\n",
              "    80% {\n",
              "      border-color: transparent;\n",
              "      border-right-color: var(--fill-color);\n",
              "      border-bottom-color: var(--fill-color);\n",
              "    }\n",
              "    90% {\n",
              "      border-color: transparent;\n",
              "      border-bottom-color: var(--fill-color);\n",
              "    }\n",
              "  }\n",
              "</style>\n",
              "\n",
              "  <script>\n",
              "    async function quickchart(key) {\n",
              "      const quickchartButtonEl =\n",
              "        document.querySelector('#' + key + ' button');\n",
              "      quickchartButtonEl.disabled = true;  // To prevent multiple clicks.\n",
              "      quickchartButtonEl.classList.add('colab-df-spinner');\n",
              "      try {\n",
              "        const charts = await google.colab.kernel.invokeFunction(\n",
              "            'suggestCharts', [key], {});\n",
              "      } catch (error) {\n",
              "        console.error('Error during call to suggestCharts:', error);\n",
              "      }\n",
              "      quickchartButtonEl.classList.remove('colab-df-spinner');\n",
              "      quickchartButtonEl.classList.add('colab-df-quickchart-complete');\n",
              "    }\n",
              "    (() => {\n",
              "      let quickchartButtonEl =\n",
              "        document.querySelector('#df-110eb9da-eeb7-414e-83ec-ba3cb68b5db0 button');\n",
              "      quickchartButtonEl.style.display =\n",
              "        google.colab.kernel.accessAllowed ? 'block' : 'none';\n",
              "    })();\n",
              "  </script>\n",
              "</div>\n",
              "    </div>\n",
              "  </div>\n"
            ],
            "text/plain": [
              "        date                                              title  \\\n",
              "0 2006-11-13  Hitachi, GE boost alliance in nuclear power bu...   \n",
              "1 2006-11-13         Volvo to cut 1,000 staff at Virginia plant   \n",
              "2 2006-11-13     European banks hiding full pension obligations   \n",
              "3 2006-11-13   Hitachi, GE to form joint nuclear power ventures   \n",
              "4 2006-11-13   Eddie Bauer agrees to be bought for $286 million   \n",
              "\n",
              "                                             summary  \n",
              "0  TOKYO  (Reuters) - Hitachi Ltd. ( 6501.T ) sai...  \n",
              "1  STOCKHOLM  (Reuters) - Truck maker Volvo said ...  \n",
              "2  ZURICH, Nov 13 (Reuter) - West European banks ...  \n",
              "3  TOKYO  (Reuters) - Japan's Hitachi Ltd. and U....  \n",
              "4  (Reuters) - Eddie Bauer Holdings Inc. EBHI.O s...  "
            ]
          },
          "execution_count": 7,
          "metadata": {},
          "output_type": "execute_result"
        }
      ],
      "source": [
        "news.head()"
      ]
    },
    {
      "cell_type": "code",
      "execution_count": 8,
      "metadata": {
        "id": "LwBrk5oV4cL5"
      },
      "outputs": [],
      "source": [
        "p=pd.read_csv('spx_2006_2013.csv',index_col=0,parse_dates=True)['Adj Close']"
      ]
    },
    {
      "cell_type": "code",
      "execution_count": 9,
      "metadata": {
        "colab": {
          "base_uri": "https://localhost:8080/",
          "height": 439
        },
        "id": "fXZXbdsntFyR",
        "outputId": "9a671d4a-fae3-4ce5-dd07-f0c09ea9a95d"
      },
      "outputs": [
        {
          "data": {
            "text/plain": [
              "<Axes: xlabel='Date'>"
            ]
          },
          "execution_count": 9,
          "metadata": {},
          "output_type": "execute_result"
        },
        {
          "data": {
            "image/png": "[encoded data removed]",
            "text/plain": [
              "<Figure size 640x480 with 1 Axes>"
            ]
          },
          "metadata": {},
          "output_type": "display_data"
        }
      ],
      "source": [
        "p.plot()"
      ]
    },
    {
      "cell_type": "code",
      "execution_count": 10,
      "metadata": {
        "id": "ypSk7sLa5KVY"
      },
      "outputs": [],
      "source": [
        "labels=np.log(p).diff().shift(-1).rename('label') # we need to predict next day's change\n",
        "hist_returns=np.log(p).diff().rename('hist_ret') # we also want to include past returns as information"
      ]
    },
    {
      "cell_type": "code",
      "execution_count": 11,
      "metadata": {
        "id": "O7ivzY-e5Tt5"
      },
      "outputs": [],
      "source": [
        "combined=news.merge(pd.concat([labels,hist_returns],axis=1).reset_index(),left_on='date',right_on='Date') # join the news with returns data"
      ]
    },
    {
      "cell_type": "code",
      "execution_count": 12,
      "metadata": {
        "id": "Hok5YhYt8U1Q"
      },
      "outputs": [],
      "source": [
        "combined.drop('Date',axis=1,inplace=True)\n",
        "combined=combined.sort_values('date')"
      ]
    },
    {
      "cell_type": "code",
      "execution_count": 13,
      "metadata": {
        "colab": {
          "base_uri": "https://localhost:8080/",
          "height": 206
        },
        "id": "nnaCNr5vjxMW",
        "outputId": "30a2635c-698b-417c-aa3b-5af91863f5cc"
      },
      "outputs": [
        {
          "data": {
            "text/html": [
              "\n",
              "  <div id=\"df-6fbb19b0-0785-4541-9851-c4d2c03e474e\" class=\"colab-df-container\">\n",
              "    <div>\n",
              "<style scoped>\n",
              "    .dataframe tbody tr th:only-of-type {\n",
              "        vertical-align: middle;\n",
              "    }\n",
              "\n",
              "    .dataframe tbody tr th {\n",
              "        vertical-align: top;\n",
              "    }\n",
              "\n",
              "    .dataframe thead th {\n",
              "        text-align: right;\n",
              "    }\n",
              "</style>\n",
              "<table border=\"1\" class=\"dataframe\">\n",
              "  <thead>\n",
              "    <tr style=\"text-align: right;\">\n",
              "      <th></th>\n",
              "      <th>date</th>\n",
              "      <th>title</th>\n",
              "      <th>summary</th>\n",
              "      <th>label</th>\n",
              "      <th>hist_ret</th>\n",
              "    </tr>\n",
              "  </thead>\n",
              "  <tbody>\n",
              "    <tr>\n",
              "      <th>52839</th>\n",
              "      <td>2013-11-20</td>\n",
              "      <td>Bernanke: looking forward to writing, speaking...</td>\n",
              "      <td>WASHINGTON  (Reuters) - Federal Reserve Chairm...</td>\n",
              "      <td>0.008096</td>\n",
              "      <td>-0.003642</td>\n",
              "    </tr>\n",
              "    <tr>\n",
              "      <th>52838</th>\n",
              "      <td>2013-11-20</td>\n",
              "      <td>Mazda CEO says to begin production at key Mexi...</td>\n",
              "      <td>TOKYO  (Reuters) - Mazda Motor Corp ( 7261.T )...</td>\n",
              "      <td>0.008096</td>\n",
              "      <td>-0.003642</td>\n",
              "    </tr>\n",
              "    <tr>\n",
              "      <th>52837</th>\n",
              "      <td>2013-11-20</td>\n",
              "      <td>J&amp;J unit to pay $2.5 billion in U.S. hip impla...</td>\n",
              "      <td>NEW YORK  (Reuters) - A unit of Johnson &amp; John...</td>\n",
              "      <td>0.008096</td>\n",
              "      <td>-0.003642</td>\n",
              "    </tr>\n",
              "    <tr>\n",
              "      <th>52836</th>\n",
              "      <td>2013-11-20</td>\n",
              "      <td>Nissan to lift U.S. output of Leaf electric ca...</td>\n",
              "      <td>LOS ANGELES  (Reuters) - Nissan Motor Co Ltd (...</td>\n",
              "      <td>0.008096</td>\n",
              "      <td>-0.003642</td>\n",
              "    </tr>\n",
              "    <tr>\n",
              "      <th>52842</th>\n",
              "      <td>2013-11-20</td>\n",
              "      <td>Dow, S&amp;P retreat for second day; Best Buy weighs</td>\n",
              "      <td>NEW YORK  (Reuters) - U.S. stocks fell on Tues...</td>\n",
              "      <td>0.008096</td>\n",
              "      <td>-0.003642</td>\n",
              "    </tr>\n",
              "  </tbody>\n",
              "</table>\n",
              "</div>\n",
              "    <div class=\"colab-df-buttons\">\n",
              "\n",
              "  <div class=\"colab-df-container\">\n",
              "    <button class=\"colab-df-convert\" onclick=\"convertToInteractive('df-6fbb19b0-0785-4541-9851-c4d2c03e474e')\"\n",
              "            title=\"Convert this dataframe to an interactive table.\"\n",
              "            style=\"display:none;\">\n",
              "\n",
              "  <svg xmlns=\"http://www.w3.org/2000/svg\" height=\"24px\" viewBox=\"0 -960 960 960\">\n",
              "    <path d=\"M120-120v-720h720v720H120Zm60-500h600v-160H180v160Zm220 220h160v-160H400v160Zm0 220h160v-160H400v160ZM180-400h160v-160H180v160Zm440 0h160v-160H620v160ZM180-180h160v-160H180v160Zm440 0h160v-160H620v160Z\"/>\n",
              "  </svg>\n",
              "    </button>\n",
              "\n",
              "  <style>\n",
              "    .colab-df-container {\n",
              "      display:flex;\n",
              "      gap: 12px;\n",
              "    }\n",
              "\n",
              "    .colab-df-convert {\n",
              "      background-color: #E8F0FE;\n",
              "      border: none;\n",
              "      border-radius: 50%;\n",
              "      cursor: pointer;\n",
              "      display: none;\n",
              "      fill: #1967D2;\n",
              "      height: 32px;\n",
              "      padding: 0 0 0 0;\n",
              "      width: 32px;\n",
              "    }\n",
              "\n",
              "    .colab-df-convert:hover {\n",
              "      background-color: #E2EBFA;\n",
              "      box-shadow: 0px 1px 2px rgba(60, 64, 67, 0.3), 0px 1px 3px 1px rgba(60, 64, 67, 0.15);\n",
              "      fill: #174EA6;\n",
              "    }\n",
              "\n",
              "    .colab-df-buttons div {\n",
              "      margin-bottom: 4px;\n",
              "    }\n",
              "\n",
              "    [theme=dark] .colab-df-convert {\n",
              "      background-color: #3B4455;\n",
              "      fill: #D2E3FC;\n",
              "    }\n",
              "\n",
              "    [theme=dark] .colab-df-convert:hover {\n",
              "      background-color: #434B5C;\n",
              "      box-shadow: 0px 1px 3px 1px rgba(0, 0, 0, 0.15);\n",
              "      filter: drop-shadow(0px 1px 2px rgba(0, 0, 0, 0.3));\n",
              "      fill: #FFFFFF;\n",
              "    }\n",
              "  </style>\n",
              "\n",
              "    <script>\n",
              "      const buttonEl =\n",
              "        document.querySelector('#df-6fbb19b0-0785-4541-9851-c4d2c03e474e button.colab-df-convert');\n",
              "      buttonEl.style.display =\n",
              "        google.colab.kernel.accessAllowed ? 'block' : 'none';\n",
              "\n",
              "      async function convertToInteractive(key) {\n",
              "        const element = document.querySelector('#df-6fbb19b0-0785-4541-9851-c4d2c03e474e');\n",
              "        const dataTable =\n",
              "          await google.colab.kernel.invokeFunction('convertToInteractive',\n",
              "                                                    [key], {});\n",
              "        if (!dataTable) return;\n",
              "\n",
              "        const docLinkHtml = 'Like what you see? Visit the ' +\n",
              "          '<a target=\"_blank\" href=https://colab.research.google.com/notebooks/data_table.ipynb>data table notebook</a>'\n",
              "          + ' to learn more about interactive tables.';\n",
              "        element.innerHTML = '';\n",
              "        dataTable['output_type'] = 'display_data';\n",
              "        await google.colab.output.renderOutput(dataTable, element);\n",
              "        const docLink = document.createElement('div');\n",
              "        docLink.innerHTML = docLinkHtml;\n",
              "        element.appendChild(docLink);\n",
              "      }\n",
              "    </script>\n",
              "  </div>\n",
              "\n",
              "\n",
              "<div id=\"df-afa161df-3a42-40dc-92f9-ee7ba8da49af\">\n",
              "  <button class=\"colab-df-quickchart\" onclick=\"quickchart('df-afa161df-3a42-40dc-92f9-ee7ba8da49af')\"\n",
              "            title=\"Suggest charts\"\n",
              "            style=\"display:none;\">\n",
              "\n",
              "<svg xmlns=\"http://www.w3.org/2000/svg\" height=\"24px\"viewBox=\"0 0 24 24\"\n",
              "     width=\"24px\">\n",
              "    <g>\n",
              "        <path d=\"M19 3H5c-1.1 0-2 .9-2 2v14c0 1.1.9 2 2 2h14c1.1 0 2-.9 2-2V5c0-1.1-.9-2-2-2zM9 17H7v-7h2v7zm4 0h-2V7h2v10zm4 0h-2v-4h2v4z\"/>\n",
              "    </g>\n",
              "</svg>\n",
              "  </button>\n",
              "\n",
              "<style>\n",
              "  .colab-df-quickchart {\n",
              "      --bg-color: #E8F0FE;\n",
              "      --fill-color: #1967D2;\n",
              "      --hover-bg-color: #E2EBFA;\n",
              "      --hover-fill-color: #174EA6;\n",
              "      --disabled-fill-color: #AAA;\n",
              "      --disabled-bg-color: #DDD;\n",
              "  }\n",
              "\n",
              "  [theme=dark] .colab-df-quickchart {\n",
              "      --bg-color: #3B4455;\n",
              "      --fill-color: #D2E3FC;\n",
              "      --hover-bg-color: #434B5C;\n",
              "      --hover-fill-color: #FFFFFF;\n",
              "      --disabled-bg-color: #3B4455;\n",
              "      --disabled-fill-color: #666;\n",
              "  }\n",
              "\n",
              "  .colab-df-quickchart {\n",
              "    background-color: var(--bg-color);\n",
              "    border: none;\n",
              "    border-radius: 50%;\n",
              "    cursor: pointer;\n",
              "    display: none;\n",
              "    fill: var(--fill-color);\n",
              "    height: 32px;\n",
              "    padding: 0;\n",
              "    width: 32px;\n",
              "  }\n",
              "\n",
              "  .colab-df-quickchart:hover {\n",
              "    background-color: var(--hover-bg-color);\n",
              "    box-shadow: 0 1px 2px rgba(60, 64, 67, 0.3), 0 1px 3px 1px rgba(60, 64, 67, 0.15);\n",
              "    fill: var(--button-hover-fill-color);\n",
              "  }\n",
              "\n",
              "  .colab-df-quickchart-complete:disabled,\n",
              "  .colab-df-quickchart-complete:disabled:hover {\n",
              "    background-color: var(--disabled-bg-color);\n",
              "    fill: var(--disabled-fill-color);\n",
              "    box-shadow: none;\n",
              "  }\n",
              "\n",
              "  .colab-df-spinner {\n",
              "    border: 2px solid var(--fill-color);\n",
              "    border-color: transparent;\n",
              "    border-bottom-color: var(--fill-color);\n",
              "    animation:\n",
              "      spin 1s steps(1) infinite;\n",
              "  }\n",
              "\n",
              "  @keyframes spin {\n",
              "    0% {\n",
              "      border-color: transparent;\n",
              "      border-bottom-color: var(--fill-color);\n",
              "      border-left-color: var(--fill-color);\n",
              "    }\n",
              "    20% {\n",
              "      border-color: transparent;\n",
              "      border-left-color: var(--fill-color);\n",
              "      border-top-color: var(--fill-color);\n",
              "    }\n",
              "    30% {\n",
              "      border-color: transparent;\n",
              "      border-left-color: var(--fill-color);\n",
              "      border-top-color: var(--fill-color);\n",
              "      border-right-color: var(--fill-color);\n",
              "    }\n",
              "    40% {\n",
              "      border-color: transparent;\n",
              "      border-right-color: var(--fill-color);\n",
              "      border-top-color: var(--fill-color);\n",
              "    }\n",
              "    60% {\n",
              "      border-color: transparent;\n",
              "      border-right-color: var(--fill-color);\n",
              "    }\n",
              "    80% {\n",
              "      border-color: transparent;\n",
              "      border-right-color: var(--fill-color);\n",
              "      border-bottom-color: var(--fill-color);\n",
              "    }\n",
              "    90% {\n",
              "      border-color: transparent;\n",
              "      border-bottom-color: var(--fill-color);\n",
              "    }\n",
              "  }\n",
              "</style>\n",
              "\n",
              "  <script>\n",
              "    async function quickchart(key) {\n",
              "      const quickchartButtonEl =\n",
              "        document.querySelector('#' + key + ' button');\n",
              "      quickchartButtonEl.disabled = true;  // To prevent multiple clicks.\n",
              "      quickchartButtonEl.classList.add('colab-df-spinner');\n",
              "      try {\n",
              "        const charts = await google.colab.kernel.invokeFunction(\n",
              "            'suggestCharts', [key], {});\n",
              "      } catch (error) {\n",
              "        console.error('Error during call to suggestCharts:', error);\n",
              "      }\n",
              "      quickchartButtonEl.classList.remove('colab-df-spinner');\n",
              "      quickchartButtonEl.classList.add('colab-df-quickchart-complete');\n",
              "    }\n",
              "    (() => {\n",
              "      let quickchartButtonEl =\n",
              "        document.querySelector('#df-afa161df-3a42-40dc-92f9-ee7ba8da49af button');\n",
              "      quickchartButtonEl.style.display =\n",
              "        google.colab.kernel.accessAllowed ? 'block' : 'none';\n",
              "    })();\n",
              "  </script>\n",
              "</div>\n",
              "    </div>\n",
              "  </div>\n"
            ],
            "text/plain": [
              "            date                                              title  \\\n",
              "52839 2013-11-20  Bernanke: looking forward to writing, speaking...   \n",
              "52838 2013-11-20  Mazda CEO says to begin production at key Mexi...   \n",
              "52837 2013-11-20  J&J unit to pay $2.5 billion in U.S. hip impla...   \n",
              "52836 2013-11-20  Nissan to lift U.S. output of Leaf electric ca...   \n",
              "52842 2013-11-20   Dow, S&P retreat for second day; Best Buy weighs   \n",
              "\n",
              "                                                 summary     label  hist_ret  \n",
              "52839  WASHINGTON  (Reuters) - Federal Reserve Chairm...  0.008096 -0.003642  \n",
              "52838  TOKYO  (Reuters) - Mazda Motor Corp ( 7261.T )...  0.008096 -0.003642  \n",
              "52837  NEW YORK  (Reuters) - A unit of Johnson & John...  0.008096 -0.003642  \n",
              "52836  LOS ANGELES  (Reuters) - Nissan Motor Co Ltd (...  0.008096 -0.003642  \n",
              "52842  NEW YORK  (Reuters) - U.S. stocks fell on Tues...  0.008096 -0.003642  "
            ]
          },
          "execution_count": 13,
          "metadata": {},
          "output_type": "execute_result"
        }
      ],
      "source": [
        "combined.tail()"
      ]
    },
    {
      "cell_type": "markdown",
      "metadata": {
        "id": "MQ9ZU9Q1gsGf"
      },
      "source": [
        "# Load Pre-trained Model"
      ]
    },
    {
      "cell_type": "code",
      "execution_count": null,
      "metadata": {
        "colab": {
          "base_uri": "https://localhost:8080/",
          "height": 113,
          "referenced_widgets": [
            "be4c2ec394644bbc8e3ee7937af43e3b",
            "4e68bdb5f550466e88fc274d507fa559",
            "0feac6edf6224806bf570d78f6e6b2d2",
            "ef6870fb7c604c77bd24747e85b84f86",
            "acea5520aea9445a88cba586709b0e20",
            "9330240ca3354dd5b444bef44de9a351",
            "176d9f5e3a5f4ea9bc8fb3ac02969a6f",
            "2d8419728e024afca6d070e19f994415",
            "241f62f31e8d4e2eb43c21746e9f9a11",
            "8de5a07df7e64ca7befd1445d8163d99",
            "0ee8dbe1e3fb403e97d53b733c6d6199",
            "02ade52e99fc4c2683aa7f4433d5deeb",
            "bf3df52b32184578bc09e8230bbba94b",
            "5dcce4bbd7424aef882b51beacfc3e97",
            "1b79586358114f32b6cd7af3a68bfca5",
            "cd1d1825b1544c8c9984304a8724f0a5",
            "217001bea9f14db4aa00155c32f13622",
            "e60a7db4cbf14a00a9dfd3a6c922fc42",
            "d4fe9102d32149cdaa7b75c310a25d4e",
            "887c9f9b904c42cdb6efca1393e448d9",
            "97780dfab3594cd3b7b50cff4308e563",
            "45f1d2136ea1459c9f060b95ba2b5391",
            "015a10c76a234a928cd108f0eb2911fa",
            "eb4058a440b64f3aada205824b6bfa1c",
            "8edded11063c4c999129011bc0ddf58f",
            "b304d350180b4627a4fb265207787162",
            "40a3f17c0bfe42b0b8d75ce7523e247c",
            "b6f7716b32b843bab3e4e07cdacdbaed",
            "e76d3065e3d748b4b850aa6561042cc3",
            "f3dfadfd186f4fc38721abfe92b981ac",
            "102f7a8b933f49f5aa8aefe607ec805f",
            "5a6dd4db54af439cb1806fe7ece76669",
            "91e87a4504154a75ba9e9ffeacd4c4a4"
          ]
        },
        "id": "tlsqKLjGiCfu",
        "outputId": "af608805-531f-4d61-e474-425fd6579e92"
      },
      "outputs": [
        {
          "data": {
            "application/vnd.jupyter.widget-view+json": {
              "model_id": "be4c2ec394644bbc8e3ee7937af43e3b",
              "version_major": 2,
              "version_minor": 0
            },
            "text/plain": [
              "config.json:   0%|          | 0.00/533 [00:00<?, ?B/s]"
            ]
          },
          "metadata": {},
          "output_type": "display_data"
        },
        {
          "data": {
            "application/vnd.jupyter.widget-view+json": {
              "model_id": "02ade52e99fc4c2683aa7f4433d5deeb",
              "version_major": 2,
              "version_minor": 0
            },
            "text/plain": [
              "vocab.txt:   0%|          | 0.00/226k [00:00<?, ?B/s]"
            ]
          },
          "metadata": {},
          "output_type": "display_data"
        },
        {
          "data": {
            "application/vnd.jupyter.widget-view+json": {
              "model_id": "015a10c76a234a928cd108f0eb2911fa",
              "version_major": 2,
              "version_minor": 0
            },
            "text/plain": [
              "tf_model.h5:   0%|          | 0.00/439M [00:00<?, ?B/s]"
            ]
          },
          "metadata": {},
          "output_type": "display_data"
        }
      ],
      "source": [
        "checkpoint = 'yiyanghkust/finbert-tone'\n",
        "# This is a bert model fine-tuned with financial news and articles. It can output sentiments(POSTIVE, NERUTRAL and NEGATIVE) directly\n",
        "tokenizer = AutoTokenizer.from_pretrained(checkpoint)\n",
        "model = TFAutoModel.from_pretrained(checkpoint)\n",
        "model_class = TFAutoModelForSequenceClassification.from_pretrained(checkpoint)"
      ]
    },
    {
      "cell_type": "code",
      "execution_count": null,
      "metadata": {
        "colab": {
          "base_uri": "https://localhost:8080/"
        },
        "id": "LkjuHt_IjIfO",
        "outputId": "09a52641-71fd-45b7-e297-c37979401f50"
      },
      "outputs": [
        {
          "data": {
            "text/plain": [
              "52.0"
            ]
          },
          "execution_count": 26,
          "metadata": {},
          "output_type": "execute_result"
        }
      ],
      "source": [
        "def count_words(text):\n",
        "    words = text.split()\n",
        "    return len(words)\n",
        "\n",
        "# combined['summary'].apply(count_words).describe()\n",
        "combined['summary'].apply(count_words).quantile(0.99)\n",
        "# the word count shows MAX_SEQUENCE_LENGTH=100 may be enough"
      ]
    },
    {
      "cell_type": "code",
      "execution_count": null,
      "metadata": {
        "id": "S0kKkoxZjO4C"
      },
      "outputs": [],
      "source": [
        "MAX_SEQUENCE_LENGTH=100"
      ]
    },
    {
      "cell_type": "code",
      "execution_count": null,
      "metadata": {
        "id": "tKTJDMzSkGYU"
      },
      "outputs": [],
      "source": [
        "text=combined['summary'].to_list()\n",
        "text_tokenized = tokenizer(text,\n",
        "              max_length=MAX_SEQUENCE_LENGTH,\n",
        "              truncation=True,\n",
        "              padding='max_length',\n",
        "              return_tensors='tf')"
      ]
    },
    {
      "cell_type": "code",
      "execution_count": null,
      "metadata": {
        "colab": {
          "base_uri": "https://localhost:8080/"
        },
        "id": "QCtHD-s5kSkv",
        "outputId": "b76d2b52-5cb4-4f85-bdaf-7eb9fd76633a"
      },
      "outputs": [
        {
          "name": "stdout",
          "output_type": "stream",
          "text": [
            "2891/2891 [==============================] - 637s 217ms/step\n"
          ]
        }
      ],
      "source": [
        "# get the output from the pretrained model\n",
        "output=model_class.predict([text_tokenized['input_ids'],text_tokenized['attention_mask']])"
      ]
    },
    {
      "cell_type": "code",
      "execution_count": null,
      "metadata": {
        "id": "9xlVxuESkvQB"
      },
      "outputs": [],
      "source": [
        "probs = tf.nn.softmax(output['logits'], axis=-1)"
      ]
    },
    {
      "cell_type": "code",
      "execution_count": null,
      "metadata": {
        "id": "YLpJIeIwkwWY"
      },
      "outputs": [],
      "source": [
        "combined[['prob_netrual','prob_positive','prob_negative']]=probs\n",
        "combined['sentiment']=np.argmax(probs,axis=1)\n",
        "combined['sentiment'].replace({2:0,0:1,1:2},inplace=True) #adjust the levels\n",
        "combined['prob_diff']=combined['prob_positive']-combined['prob_negative']"
      ]
    },
    {
      "cell_type": "code",
      "execution_count": null,
      "metadata": {
        "id": "Eb71soA6l-_r"
      },
      "outputs": [],
      "source": [
        "combined.to_csv(\"reuters_news_0613_with_prob.csv\",index=False)"
      ]
    },
    {
      "cell_type": "markdown",
      "metadata": {
        "id": "fD5OTxGjmZUW"
      },
      "source": [
        "# Solution 1: averaging the sentiment for the same date"
      ]
    },
    {
      "cell_type": "code",
      "execution_count": null,
      "metadata": {
        "id": "AhHoLfR5npyr"
      },
      "outputs": [],
      "source": [
        "sentiment_daily=combined.groupby('date')[['prob_diff','Adj Close']].mean()"
      ]
    },
    {
      "cell_type": "code",
      "execution_count": null,
      "metadata": {
        "colab": {
          "base_uri": "https://localhost:8080/",
          "height": 455
        },
        "id": "GxP2TMcjxr16",
        "outputId": "9be5f96d-7594-4014-bfbd-498d64db84a8"
      },
      "outputs": [
        {
          "data": {
            "text/html": [
              "\n",
              "  <div id=\"df-17debd30-febe-4e26-8e62-fb4157990c09\" class=\"colab-df-container\">\n",
              "    <div>\n",
              "<style scoped>\n",
              "    .dataframe tbody tr th:only-of-type {\n",
              "        vertical-align: middle;\n",
              "    }\n",
              "\n",
              "    .dataframe tbody tr th {\n",
              "        vertical-align: top;\n",
              "    }\n",
              "\n",
              "    .dataframe thead th {\n",
              "        text-align: right;\n",
              "    }\n",
              "</style>\n",
              "<table border=\"1\" class=\"dataframe\">\n",
              "  <thead>\n",
              "    <tr style=\"text-align: right;\">\n",
              "      <th></th>\n",
              "      <th>prob_diff</th>\n",
              "      <th>Adj Close</th>\n",
              "    </tr>\n",
              "    <tr>\n",
              "      <th>date</th>\n",
              "      <th></th>\n",
              "      <th></th>\n",
              "    </tr>\n",
              "  </thead>\n",
              "  <tbody>\n",
              "    <tr>\n",
              "      <th>2006-10-20</th>\n",
              "      <td>-0.000027</td>\n",
              "      <td>0.006133</td>\n",
              "    </tr>\n",
              "    <tr>\n",
              "      <th>2006-10-23</th>\n",
              "      <td>-0.024661</td>\n",
              "      <td>0.000261</td>\n",
              "    </tr>\n",
              "    <tr>\n",
              "      <th>2006-10-24</th>\n",
              "      <td>0.031204</td>\n",
              "      <td>0.003508</td>\n",
              "    </tr>\n",
              "    <tr>\n",
              "      <th>2006-10-25</th>\n",
              "      <td>0.114205</td>\n",
              "      <td>0.004951</td>\n",
              "    </tr>\n",
              "    <tr>\n",
              "      <th>2006-10-26</th>\n",
              "      <td>0.289727</td>\n",
              "      <td>-0.008488</td>\n",
              "    </tr>\n",
              "    <tr>\n",
              "      <th>...</th>\n",
              "      <td>...</td>\n",
              "      <td>...</td>\n",
              "    </tr>\n",
              "    <tr>\n",
              "      <th>2013-11-14</th>\n",
              "      <td>-0.036648</td>\n",
              "      <td>0.004213</td>\n",
              "    </tr>\n",
              "    <tr>\n",
              "      <th>2013-11-15</th>\n",
              "      <td>-0.146649</td>\n",
              "      <td>-0.003705</td>\n",
              "    </tr>\n",
              "    <tr>\n",
              "      <th>2013-11-18</th>\n",
              "      <td>-0.005740</td>\n",
              "      <td>-0.002045</td>\n",
              "    </tr>\n",
              "    <tr>\n",
              "      <th>2013-11-19</th>\n",
              "      <td>-0.119824</td>\n",
              "      <td>-0.003642</td>\n",
              "    </tr>\n",
              "    <tr>\n",
              "      <th>2013-11-20</th>\n",
              "      <td>-0.111189</td>\n",
              "      <td>0.008096</td>\n",
              "    </tr>\n",
              "  </tbody>\n",
              "</table>\n",
              "<p>1784 rows × 2 columns</p>\n",
              "</div>\n",
              "    <div class=\"colab-df-buttons\">\n",
              "\n",
              "  <div class=\"colab-df-container\">\n",
              "    <button class=\"colab-df-convert\" onclick=\"convertToInteractive('df-17debd30-febe-4e26-8e62-fb4157990c09')\"\n",
              "            title=\"Convert this dataframe to an interactive table.\"\n",
              "            style=\"display:none;\">\n",
              "\n",
              "  <svg xmlns=\"http://www.w3.org/2000/svg\" height=\"24px\" viewBox=\"0 -960 960 960\">\n",
              "    <path d=\"M120-120v-720h720v720H120Zm60-500h600v-160H180v160Zm220 220h160v-160H400v160Zm0 220h160v-160H400v160ZM180-400h160v-160H180v160Zm440 0h160v-160H620v160ZM180-180h160v-160H180v160Zm440 0h160v-160H620v160Z\"/>\n",
              "  </svg>\n",
              "    </button>\n",
              "\n",
              "  <style>\n",
              "    .colab-df-container {\n",
              "      display:flex;\n",
              "      gap: 12px;\n",
              "    }\n",
              "\n",
              "    .colab-df-convert {\n",
              "      background-color: #E8F0FE;\n",
              "      border: none;\n",
              "      border-radius: 50%;\n",
              "      cursor: pointer;\n",
              "      display: none;\n",
              "      fill: #1967D2;\n",
              "      height: 32px;\n",
              "      padding: 0 0 0 0;\n",
              "      width: 32px;\n",
              "    }\n",
              "\n",
              "    .colab-df-convert:hover {\n",
              "      background-color: #E2EBFA;\n",
              "      box-shadow: 0px 1px 2px rgba(60, 64, 67, 0.3), 0px 1px 3px 1px rgba(60, 64, 67, 0.15);\n",
              "      fill: #174EA6;\n",
              "    }\n",
              "\n",
              "    .colab-df-buttons div {\n",
              "      margin-bottom: 4px;\n",
              "    }\n",
              "\n",
              "    [theme=dark] .colab-df-convert {\n",
              "      background-color: #3B4455;\n",
              "      fill: #D2E3FC;\n",
              "    }\n",
              "\n",
              "    [theme=dark] .colab-df-convert:hover {\n",
              "      background-color: #434B5C;\n",
              "      box-shadow: 0px 1px 3px 1px rgba(0, 0, 0, 0.15);\n",
              "      filter: drop-shadow(0px 1px 2px rgba(0, 0, 0, 0.3));\n",
              "      fill: #FFFFFF;\n",
              "    }\n",
              "  </style>\n",
              "\n",
              "    <script>\n",
              "      const buttonEl =\n",
              "        document.querySelector('#df-17debd30-febe-4e26-8e62-fb4157990c09 button.colab-df-convert');\n",
              "      buttonEl.style.display =\n",
              "        google.colab.kernel.accessAllowed ? 'block' : 'none';\n",
              "\n",
              "      async function convertToInteractive(key) {\n",
              "        const element = document.querySelector('#df-17debd30-febe-4e26-8e62-fb4157990c09');\n",
              "        const dataTable =\n",
              "          await google.colab.kernel.invokeFunction('convertToInteractive',\n",
              "                                                    [key], {});\n",
              "        if (!dataTable) return;\n",
              "\n",
              "        const docLinkHtml = 'Like what you see? Visit the ' +\n",
              "          '<a target=\"_blank\" href=https://colab.research.google.com/notebooks/data_table.ipynb>data table notebook</a>'\n",
              "          + ' to learn more about interactive tables.';\n",
              "        element.innerHTML = '';\n",
              "        dataTable['output_type'] = 'display_data';\n",
              "        await google.colab.output.renderOutput(dataTable, element);\n",
              "        const docLink = document.createElement('div');\n",
              "        docLink.innerHTML = docLinkHtml;\n",
              "        element.appendChild(docLink);\n",
              "      }\n",
              "    </script>\n",
              "  </div>\n",
              "\n",
              "\n",
              "<div id=\"df-cd6d7412-1c13-4dd7-853e-c43aea5c368e\">\n",
              "  <button class=\"colab-df-quickchart\" onclick=\"quickchart('df-cd6d7412-1c13-4dd7-853e-c43aea5c368e')\"\n",
              "            title=\"Suggest charts\"\n",
              "            style=\"display:none;\">\n",
              "\n",
              "<svg xmlns=\"http://www.w3.org/2000/svg\" height=\"24px\"viewBox=\"0 0 24 24\"\n",
              "     width=\"24px\">\n",
              "    <g>\n",
              "        <path d=\"M19 3H5c-1.1 0-2 .9-2 2v14c0 1.1.9 2 2 2h14c1.1 0 2-.9 2-2V5c0-1.1-.9-2-2-2zM9 17H7v-7h2v7zm4 0h-2V7h2v10zm4 0h-2v-4h2v4z\"/>\n",
              "    </g>\n",
              "</svg>\n",
              "  </button>\n",
              "\n",
              "<style>\n",
              "  .colab-df-quickchart {\n",
              "      --bg-color: #E8F0FE;\n",
              "      --fill-color: #1967D2;\n",
              "      --hover-bg-color: #E2EBFA;\n",
              "      --hover-fill-color: #174EA6;\n",
              "      --disabled-fill-color: #AAA;\n",
              "      --disabled-bg-color: #DDD;\n",
              "  }\n",
              "\n",
              "  [theme=dark] .colab-df-quickchart {\n",
              "      --bg-color: #3B4455;\n",
              "      --fill-color: #D2E3FC;\n",
              "      --hover-bg-color: #434B5C;\n",
              "      --hover-fill-color: #FFFFFF;\n",
              "      --disabled-bg-color: #3B4455;\n",
              "      --disabled-fill-color: #666;\n",
              "  }\n",
              "\n",
              "  .colab-df-quickchart {\n",
              "    background-color: var(--bg-color);\n",
              "    border: none;\n",
              "    border-radius: 50%;\n",
              "    cursor: pointer;\n",
              "    display: none;\n",
              "    fill: var(--fill-color);\n",
              "    height: 32px;\n",
              "    padding: 0;\n",
              "    width: 32px;\n",
              "  }\n",
              "\n",
              "  .colab-df-quickchart:hover {\n",
              "    background-color: var(--hover-bg-color);\n",
              "    box-shadow: 0 1px 2px rgba(60, 64, 67, 0.3), 0 1px 3px 1px rgba(60, 64, 67, 0.15);\n",
              "    fill: var(--button-hover-fill-color);\n",
              "  }\n",
              "\n",
              "  .colab-df-quickchart-complete:disabled,\n",
              "  .colab-df-quickchart-complete:disabled:hover {\n",
              "    background-color: var(--disabled-bg-color);\n",
              "    fill: var(--disabled-fill-color);\n",
              "    box-shadow: none;\n",
              "  }\n",
              "\n",
              "  .colab-df-spinner {\n",
              "    border: 2px solid var(--fill-color);\n",
              "    border-color: transparent;\n",
              "    border-bottom-color: var(--fill-color);\n",
              "    animation:\n",
              "      spin 1s steps(1) infinite;\n",
              "  }\n",
              "\n",
              "  @keyframes spin {\n",
              "    0% {\n",
              "      border-color: transparent;\n",
              "      border-bottom-color: var(--fill-color);\n",
              "      border-left-color: var(--fill-color);\n",
              "    }\n",
              "    20% {\n",
              "      border-color: transparent;\n",
              "      border-left-color: var(--fill-color);\n",
              "      border-top-color: var(--fill-color);\n",
              "    }\n",
              "    30% {\n",
              "      border-color: transparent;\n",
              "      border-left-color: var(--fill-color);\n",
              "      border-top-color: var(--fill-color);\n",
              "      border-right-color: var(--fill-color);\n",
              "    }\n",
              "    40% {\n",
              "      border-color: transparent;\n",
              "      border-right-color: var(--fill-color);\n",
              "      border-top-color: var(--fill-color);\n",
              "    }\n",
              "    60% {\n",
              "      border-color: transparent;\n",
              "      border-right-color: var(--fill-color);\n",
              "    }\n",
              "    80% {\n",
              "      border-color: transparent;\n",
              "      border-right-color: var(--fill-color);\n",
              "      border-bottom-color: var(--fill-color);\n",
              "    }\n",
              "    90% {\n",
              "      border-color: transparent;\n",
              "      border-bottom-color: var(--fill-color);\n",
              "    }\n",
              "  }\n",
              "</style>\n",
              "\n",
              "  <script>\n",
              "    async function quickchart(key) {\n",
              "      const quickchartButtonEl =\n",
              "        document.querySelector('#' + key + ' button');\n",
              "      quickchartButtonEl.disabled = true;  // To prevent multiple clicks.\n",
              "      quickchartButtonEl.classList.add('colab-df-spinner');\n",
              "      try {\n",
              "        const charts = await google.colab.kernel.invokeFunction(\n",
              "            'suggestCharts', [key], {});\n",
              "      } catch (error) {\n",
              "        console.error('Error during call to suggestCharts:', error);\n",
              "      }\n",
              "      quickchartButtonEl.classList.remove('colab-df-spinner');\n",
              "      quickchartButtonEl.classList.add('colab-df-quickchart-complete');\n",
              "    }\n",
              "    (() => {\n",
              "      let quickchartButtonEl =\n",
              "        document.querySelector('#df-cd6d7412-1c13-4dd7-853e-c43aea5c368e button');\n",
              "      quickchartButtonEl.style.display =\n",
              "        google.colab.kernel.accessAllowed ? 'block' : 'none';\n",
              "    })();\n",
              "  </script>\n",
              "</div>\n",
              "    </div>\n",
              "  </div>\n"
            ],
            "text/plain": [
              "            prob_diff  Adj Close\n",
              "date                            \n",
              "2006-10-20  -0.000027   0.006133\n",
              "2006-10-23  -0.024661   0.000261\n",
              "2006-10-24   0.031204   0.003508\n",
              "2006-10-25   0.114205   0.004951\n",
              "2006-10-26   0.289727  -0.008488\n",
              "...               ...        ...\n",
              "2013-11-14  -0.036648   0.004213\n",
              "2013-11-15  -0.146649  -0.003705\n",
              "2013-11-18  -0.005740  -0.002045\n",
              "2013-11-19  -0.119824  -0.003642\n",
              "2013-11-20  -0.111189   0.008096\n",
              "\n",
              "[1784 rows x 2 columns]"
            ]
          },
          "execution_count": 39,
          "metadata": {},
          "output_type": "execute_result"
        }
      ],
      "source": [
        "sentiment_daily"
      ]
    },
    {
      "cell_type": "code",
      "execution_count": null,
      "metadata": {
        "id": "X9H0aJk8oAdz"
      },
      "outputs": [],
      "source": [
        "sentiment_daily['signal_pretrained']=np.sign(sentiment_daily['prob_diff'])"
      ]
    },
    {
      "cell_type": "code",
      "execution_count": null,
      "metadata": {
        "colab": {
          "base_uri": "https://localhost:8080/",
          "height": 450
        },
        "id": "K8uya_UKz-f5",
        "outputId": "4bfe1154-593b-449f-d4ab-68656406992a"
      },
      "outputs": [
        {
          "data": {
            "text/plain": [
              "<Axes: xlabel='date'>"
            ]
          },
          "execution_count": 104,
          "metadata": {},
          "output_type": "execute_result"
        },
        {
          "data": {
            "image/png": "[encoded data removed]",
            "text/plain": [
              "<Figure size 640x480 with 1 Axes>"
            ]
          },
          "metadata": {},
          "output_type": "display_data"
        }
      ],
      "source": [
        "(sentiment_daily['signal_pretrained']*sentiment_daily['Adj Close'])['2012-7':].cumsum().plot()"
      ]
    },
    {
      "cell_type": "markdown",
      "metadata": {
        "id": "iFivcKLsozMP"
      },
      "source": [
        "# Solution 2: fine-tuning with logits"
      ]
    },
    {
      "cell_type": "code",
      "execution_count": null,
      "metadata": {
        "colab": {
          "base_uri": "https://localhost:8080/"
        },
        "id": "RukomTqY4WyT",
        "outputId": "caed14b0-b16f-42fd-c123-a1186ff47159"
      },
      "outputs": [
        {
          "data": {
            "text/plain": [
              "count    1784.000000\n",
              "mean       51.843610\n",
              "std        15.134606\n",
              "min         2.000000\n",
              "25%        41.000000\n",
              "50%        50.000000\n",
              "75%        60.000000\n",
              "max       114.000000\n",
              "Name: summary, dtype: float64"
            ]
          },
          "execution_count": 14,
          "metadata": {},
          "output_type": "execute_result"
        }
      ],
      "source": [
        "combined.groupby('date')['summary'].count().describe()"
      ]
    },
    {
      "cell_type": "code",
      "execution_count": null,
      "metadata": {
        "colab": {
          "base_uri": "https://localhost:8080/"
        },
        "id": "EfEUl5mkxOqJ",
        "outputId": "c4fa3968-2fb3-40a5-fccb-c53e597ca3af"
      },
      "outputs": [
        {
          "data": {
            "text/plain": [
              "80.0"
            ]
          },
          "execution_count": 15,
          "metadata": {},
          "output_type": "execute_result"
        }
      ],
      "source": [
        "combined.groupby('date')['summary'].count().quantile(0.95) # choose a maxium of 80 news per day"
      ]
    },
    {
      "cell_type": "code",
      "execution_count": 14,
      "metadata": {
        "id": "W9Z2Ced3YNZR"
      },
      "outputs": [],
      "source": [
        "y=combined.groupby('date')['label'].last()"
      ]
    },
    {
      "cell_type": "code",
      "execution_count": 15,
      "metadata": {
        "id": "i75l1-86fW0t"
      },
      "outputs": [],
      "source": [
        "hist=combined.groupby('date')['hist_ret'].last()"
      ]
    },
    {
      "cell_type": "code",
      "execution_count": 25,
      "metadata": {
        "id": "kx3rXEC0N-Fl"
      },
      "outputs": [],
      "source": [
        "MAX_X_LEN=80"
      ]
    },
    {
      "cell_type": "code",
      "execution_count": null,
      "metadata": {
        "id": "TGXuiALDXuwV"
      },
      "outputs": [],
      "source": [
        "\n",
        "x_all=[]\n",
        "for i in y.index:\n",
        "  x=combined[combined['date']==i][['prob_negative','prob_netrual','prob_positive']].to_numpy()\n",
        "  if x.shape[0]<MAX_X_LEN:\n",
        "    x=x.copy()\n",
        "    x.resize((MAX_X_LEN,3)) # if there are less than 80 news, we need to pad\n",
        "    x_all.append(x)\n",
        "  else:\n",
        "    x_all.append(x[:MAX_X_LEN,:]) # if there are more than 80 news, we need to cut"
      ]
    },
    {
      "cell_type": "code",
      "execution_count": null,
      "metadata": {
        "id": "O0ImJX8VEAwU"
      },
      "outputs": [],
      "source": [
        "x_all=np.array(x_all)"
      ]
    },
    {
      "cell_type": "code",
      "execution_count": null,
      "metadata": {
        "colab": {
          "base_uri": "https://localhost:8080/"
        },
        "id": "dMi5lSyvEEzA",
        "outputId": "4cded52b-fe7a-40a8-a2f5-3284567010e6"
      },
      "outputs": [
        {
          "data": {
            "text/plain": [
              "(1784, 80, 3)"
            ]
          },
          "execution_count": 112,
          "metadata": {},
          "output_type": "execute_result"
        }
      ],
      "source": [
        "x_all.shape"
      ]
    },
    {
      "cell_type": "code",
      "execution_count": null,
      "metadata": {
        "id": "r_hi7_C-aNn0"
      },
      "outputs": [],
      "source": [
        "np.save('padded_x_0613.npy',np.array(x_all))"
      ]
    },
    {
      "cell_type": "code",
      "execution_count": 16,
      "metadata": {
        "id": "3nuuCUcjOSmt"
      },
      "outputs": [],
      "source": [
        "x_all=np.load('padded_x_0613.npy')"
      ]
    },
    {
      "cell_type": "code",
      "execution_count": 17,
      "metadata": {
        "id": "jHgR3R3fkENa"
      },
      "outputs": [],
      "source": [
        "WINDOW=60"
      ]
    },
    {
      "cell_type": "code",
      "execution_count": 18,
      "metadata": {
        "id": "-O5oeb-ez2gy"
      },
      "outputs": [],
      "source": [
        "from numpy.lib.stride_tricks import sliding_window_view\n",
        "x_all_roll=sliding_window_view(x_all,WINDOW,axis=0)\n",
        "x_hist_roll=sliding_window_view(hist.to_numpy(),WINDOW,axis=0)"
      ]
    },
    {
      "cell_type": "code",
      "execution_count": 19,
      "metadata": {
        "colab": {
          "base_uri": "https://localhost:8080/"
        },
        "id": "wvzsuEWBF0BQ",
        "outputId": "4cd9e4b1-ac42-4e1c-ddbc-2da010f97736"
      },
      "outputs": [
        {
          "data": {
            "text/plain": [
              "1380"
            ]
          },
          "execution_count": 19,
          "metadata": {},
          "output_type": "execute_result"
        }
      ],
      "source": [
        "train_size=round(x_all_roll.shape[0]*0.8)\n",
        "train_size"
      ]
    },
    {
      "cell_type": "code",
      "execution_count": 20,
      "metadata": {
        "id": "19M63Z0iJIZe"
      },
      "outputs": [],
      "source": [
        "train_x=x_all[:train_size]\n",
        "test_x=x_all[train_size:]"
      ]
    },
    {
      "cell_type": "code",
      "execution_count": 21,
      "metadata": {
        "id": "6O_Tjoyoz9RZ"
      },
      "outputs": [],
      "source": [
        "x_news_train=x_all_roll[:train_size]\n",
        "x_hist_train=x_hist_roll[:train_size]\n",
        "x_news_test=x_all_roll[train_size:]\n",
        "x_hist_test=x_hist_roll[train_size:]"
      ]
    },
    {
      "cell_type": "code",
      "execution_count": 22,
      "metadata": {
        "id": "w7PkYQRD4MkZ"
      },
      "outputs": [],
      "source": [
        "y_train=y[WINDOW-1:WINDOW+train_size-1]\n",
        "y_test=y[WINDOW+train_size-1:]"
      ]
    },
    {
      "cell_type": "code",
      "execution_count": null,
      "metadata": {
        "id": "a8Jrta7jkk2H"
      },
      "outputs": [],
      "source": [
        "def create_model_with_attention(max_input_len=MAX_X_LEN,dropout=0.3,hidden_dim=32,learning_rate=0.005):\n",
        "  input= tf.keras.layers.Input(shape=(max_input_len,3))\n",
        "  attention=tf.keras.layers.MultiHeadAttention(num_heads=1, key_dim=MAX_X_LEN)(input,input)\n",
        "  attention_flatten=tf.keras.layers.Flatten()(attention)\n",
        "  hidden=tf.keras.layers.Dense(hidden_dim,)(attention_flatten)\n",
        "  droput=tf.keras.layers.Dropout(dropout)(hidden)\n",
        "  reg=tf.keras.layers.Dense(1)(droput)\n",
        "  wan_model = tf.keras.models.Model(inputs=[input], outputs=[reg])\n",
        "  wan_model.compile(optimizer=tf.keras.optimizers.Adam(learning_rate=learning_rate),\n",
        "                                 loss='mse')\n",
        "  return wan_model"
      ]
    },
    {
      "cell_type": "code",
      "execution_count": 45,
      "metadata": {
        "id": "tx4ip0RalfC8"
      },
      "outputs": [],
      "source": [
        "def create_model_transformer(max_input_len=MAX_X_LEN,dropout=0.3,hidden_dim=32,learning_rate=0.005):\n",
        "\n",
        "  # two inputs source\n",
        "  input_news= tf.keras.layers.Input(shape=(max_input_len,3,WINDOW))\n",
        "  input_hist= tf.keras.layers.Input(shape=(WINDOW))\n",
        "\n",
        "  # news input with attention\n",
        "  attention_news=tf.keras.layers.MultiHeadAttention(num_heads=2, key_dim=2,attention_axes=1)(input_news,input_news)\n",
        "  attention_news_mean=tf.reduce_mean(attention_news,axis=1) # combine data within the same date\n",
        "  flatten_news=tf.keras.layers.Flatten()(attention_news_mean)\n",
        "  dropout_news=tf.keras.layers.Dropout(dropout)(flatten_news)\n",
        "\n",
        "  # hist returns with attention\n",
        "  attention_hist=tf.keras.layers.MultiHeadAttention(num_heads=2, key_dim=2,attention_axes=1)(input_hist,input_hist)\n",
        "  flatten_hist=tf.keras.layers.Flatten()(attention_hist)\n",
        "  dropout_hist=tf.keras.layers.Dropout(dropout)(flatten_hist)\n",
        "\n",
        "  # combine two inputs together\n",
        "  combined=tf.concat([dropout_news,dropout_hist],axis=1)\n",
        "  droput=tf.keras.layers.Dropout(dropout)(combined)\n",
        "  reg=tf.keras.layers.Dense(1)(droput)\n",
        "  model = tf.keras.models.Model(inputs=[input_news,input_hist], outputs=[reg])\n",
        "  model.compile(optimizer=tf.keras.optimizers.Adam(learning_rate=learning_rate),\n",
        "                                 loss='mse')\n",
        "  return model"
      ]
    },
    {
      "cell_type": "code",
      "execution_count": 27,
      "metadata": {
        "id": "gwMzphmfArNy"
      },
      "outputs": [],
      "source": [
        "keras.backend.clear_session()"
      ]
    },
    {
      "cell_type": "code",
      "execution_count": 57,
      "metadata": {
        "id": "Q6sWxAzklfAS"
      },
      "outputs": [],
      "source": [
        "model_transformer=create_model_transformer()"
      ]
    },
    {
      "cell_type": "code",
      "execution_count": 58,
      "metadata": {
        "colab": {
          "base_uri": "https://localhost:8080/"
        },
        "id": "xdAxgUN_jlmt",
        "outputId": "cbdcf1de-83c9-456a-944c-98c17d8ff07d"
      },
      "outputs": [
        {
          "name": "stdout",
          "output_type": "stream",
          "text": [
            "Model: \"model_3\"\n",
            "__________________________________________________________________________________________________\n",
            " Layer (type)                Output Shape                 Param #   Connected to                  \n",
            "==================================================================================================\n",
            " input_7 (InputLayer)        [(None, 80, 3, 60)]          0         []                            \n",
            "                                                                                                  \n",
            " multi_head_attention_6 (Mu  (None, 80, 3, 60)            1032      ['input_7[0][0]',             \n",
            " ltiHeadAttention)                                                   'input_7[0][0]']             \n",
            "                                                                                                  \n",
            " input_8 (InputLayer)        [(None, 60)]                 0         []                            \n",
            "                                                                                                  \n",
            " tf.math.reduce_mean_3 (TFO  (None, 3, 60)                0         ['multi_head_attention_6[0][0]\n",
            " pLambda)                                                           ']                            \n",
            "                                                                                                  \n",
            " multi_head_attention_7 (Mu  (None, 60)                   1032      ['input_8[0][0]',             \n",
            " ltiHeadAttention)                                                   'input_8[0][0]']             \n",
            "                                                                                                  \n",
            " flatten_6 (Flatten)         (None, 180)                  0         ['tf.math.reduce_mean_3[0][0]'\n",
            "                                                                    ]                             \n",
            "                                                                                                  \n",
            " flatten_7 (Flatten)         (None, 60)                   0         ['multi_head_attention_7[0][0]\n",
            "                                                                    ']                            \n",
            "                                                                                                  \n",
            " dropout_9 (Dropout)         (None, 180)                  0         ['flatten_6[0][0]']           \n",
            "                                                                                                  \n",
            " dropout_10 (Dropout)        (None, 60)                   0         ['flatten_7[0][0]']           \n",
            "                                                                                                  \n",
            " tf.concat_3 (TFOpLambda)    (None, 240)                  0         ['dropout_9[0][0]',           \n",
            "                                                                     'dropout_10[0][0]']          \n",
            "                                                                                                  \n",
            " dropout_11 (Dropout)        (None, 240)                  0         ['tf.concat_3[0][0]']         \n",
            "                                                                                                  \n",
            " dense_3 (Dense)             (None, 1)                    241       ['dropout_11[0][0]']          \n",
            "                                                                                                  \n",
            "==================================================================================================\n",
            "Total params: 2305 (9.00 KB)\n",
            "Trainable params: 2305 (9.00 KB)\n",
            "Non-trainable params: 0 (0.00 Byte)\n",
            "__________________________________________________________________________________________________\n"
          ]
        }
      ],
      "source": [
        "model_transformer.summary()"
      ]
    },
    {
      "cell_type": "code",
      "execution_count": 59,
      "metadata": {
        "colab": {
          "base_uri": "https://localhost:8080/",
          "height": 865
        },
        "id": "Wxu4Hc4ele9j",
        "outputId": "f59fb784-b557-483a-ea4d-5423524a2a15"
      },
      "outputs": [
        {
          "data": {
            "image/png": "[encoded data removed]",
            "text/plain": [
              "<IPython.core.display.Image object>"
            ]
          },
          "execution_count": 59,
          "metadata": {},
          "output_type": "execute_result"
        }
      ],
      "source": [
        "tf.keras.utils.plot_model(model_transformer,show_shapes=True)"
      ]
    },
    {
      "cell_type": "code",
      "execution_count": 60,
      "metadata": {
        "id": "RSSyUmEsle7K"
      },
      "outputs": [],
      "source": [
        "early_stopping = tf.keras.callbacks.EarlyStopping(\n",
        "        monitor=\"val_loss\", patience=5, mode=\"auto\", restore_best_weights=True\n",
        "    )"
      ]
    },
    {
      "cell_type": "code",
      "execution_count": 49,
      "metadata": {
        "colab": {
          "base_uri": "https://localhost:8080/"
        },
        "id": "w_uN2sNAle4n",
        "outputId": "68f5c52f-a236-44f7-a008-f9e871822e9f"
      },
      "outputs": [
        {
          "name": "stdout",
          "output_type": "stream",
          "text": [
            "Epoch 1/20\n",
            "18/18 [==============================] - 4s 101ms/step - loss: 9.1981e-04 - val_loss: 3.4518e-04\n",
            "Epoch 2/20\n",
            "18/18 [==============================] - 2s 97ms/step - loss: 4.5423e-04 - val_loss: 2.2954e-04\n",
            "Epoch 3/20\n",
            "18/18 [==============================] - 2s 104ms/step - loss: 3.5265e-04 - val_loss: 2.2366e-04\n",
            "Epoch 4/20\n",
            "18/18 [==============================] - 2s 102ms/step - loss: 3.5347e-04 - val_loss: 2.2116e-04\n",
            "Epoch 5/20\n",
            "18/18 [==============================] - 1s 79ms/step - loss: 3.3806e-04 - val_loss: 2.3142e-04\n",
            "Epoch 6/20\n",
            "18/18 [==============================] - 1s 64ms/step - loss: 3.1084e-04 - val_loss: 2.6426e-04\n",
            "Epoch 7/20\n",
            "18/18 [==============================] - 1s 65ms/step - loss: 3.1379e-04 - val_loss: 2.4307e-04\n",
            "Epoch 8/20\n",
            "18/18 [==============================] - 1s 65ms/step - loss: 2.8805e-04 - val_loss: 2.3796e-04\n",
            "Epoch 9/20\n",
            "18/18 [==============================] - 1s 64ms/step - loss: 2.8956e-04 - val_loss: 2.4256e-04\n"
          ]
        }
      ],
      "source": [
        "hist_model_using_logits=model_transformer.fit(\n",
        "    [x_news_train,x_hist_train],\n",
        "    y_train,\n",
        "    validation_split=0.2,\n",
        "    batch_size=64,\n",
        "    epochs=20,\n",
        "    callbacks=early_stopping\n",
        ")"
      ]
    },
    {
      "cell_type": "code",
      "execution_count": 50,
      "metadata": {
        "colab": {
          "base_uri": "https://localhost:8080/",
          "height": 447
        },
        "id": "gJ_i4Rt3EYsv",
        "outputId": "dfeabc5e-8dbd-4be4-a82c-b35e6988b5a9"
      },
      "outputs": [
        {
          "data": {
            "text/plain": [
              "<Axes: >"
            ]
          },
          "execution_count": 50,
          "metadata": {},
          "output_type": "execute_result"
        },
        {
          "data": {
            "image/png": "[encoded data removed]",
            "text/plain": [
              "<Figure size 640x480 with 1 Axes>"
            ]
          },
          "metadata": {},
          "output_type": "display_data"
        }
      ],
      "source": [
        "pd.DataFrame(hist_model_using_logits.history).plot()"
      ]
    },
    {
      "cell_type": "code",
      "execution_count": 51,
      "metadata": {
        "colab": {
          "base_uri": "https://localhost:8080/"
        },
        "id": "9iTth7zME1JN",
        "outputId": "4171b97b-2ba7-461c-8bf5-7bfa6af740c9"
      },
      "outputs": [
        {
          "name": "stdout",
          "output_type": "stream",
          "text": [
            "11/11 [==============================] - 0s 26ms/step\n"
          ]
        }
      ],
      "source": [
        "predicts=model_transformer.predict([x_news_test,x_hist_test])"
      ]
    },
    {
      "cell_type": "code",
      "execution_count": null,
      "metadata": {
        "colab": {
          "base_uri": "https://localhost:8080/"
        },
        "id": "A3FMhDXlFkrL",
        "outputId": "92637c94-6d36-4d1f-c3ef-6e1366b78e96"
      },
      "outputs": [
        {
          "name": "stdout",
          "output_type": "stream",
          "text": [
            "12/12 [==============================] - 0s 11ms/step - loss: 0.0011\n"
          ]
        },
        {
          "data": {
            "text/plain": [
              "0.0011049157474189997"
            ]
          },
          "execution_count": 327,
          "metadata": {},
          "output_type": "execute_result"
        }
      ],
      "source": [
        "model_with_attention.evaluate(test_x,test_y)"
      ]
    },
    {
      "cell_type": "code",
      "execution_count": 52,
      "metadata": {
        "colab": {
          "base_uri": "https://localhost:8080/",
          "height": 447
        },
        "id": "jaXL9cHkE8u6",
        "outputId": "6ff6b1aa-20f7-401e-c7b0-51c3f2bafd40"
      },
      "outputs": [
        {
          "data": {
            "text/plain": [
              "<matplotlib.legend.Legend at 0x7d94c4781ae0>"
            ]
          },
          "execution_count": 52,
          "metadata": {},
          "output_type": "execute_result"
        },
        {
          "data": {
            "image/png": "[encoded data removed]",
            "text/plain": [
              "<Figure size 640x480 with 1 Axes>"
            ]
          },
          "metadata": {},
          "output_type": "display_data"
        }
      ],
      "source": [
        "plt.plot(predicts,label='predict')\n",
        "plt.plot(y_test.to_numpy(),label='true')\n",
        "plt.legend()"
      ]
    },
    {
      "cell_type": "code",
      "execution_count": 53,
      "metadata": {
        "id": "PLlxNX3GFa4w"
      },
      "outputs": [],
      "source": [
        "test_y_df=pd.DataFrame(y[WINDOW+train_size-1:])"
      ]
    },
    {
      "cell_type": "code",
      "execution_count": 54,
      "metadata": {
        "id": "U_kDkeNoF6jD"
      },
      "outputs": [],
      "source": [
        "test_y_df['predict']=predicts"
      ]
    },
    {
      "cell_type": "code",
      "execution_count": 55,
      "metadata": {
        "id": "3Cj3r_UiF_H_"
      },
      "outputs": [],
      "source": [
        "test_y_df['pos_quantile']=pd.qcut(test_y_df['predict'],[0,0.2,0.8,1],labels=False)-1\n",
        "test_y_df['pos_sign']=np.sign(test_y_df['predict'])"
      ]
    },
    {
      "cell_type": "code",
      "execution_count": 56,
      "metadata": {
        "colab": {
          "base_uri": "https://localhost:8080/",
          "height": 175
        },
        "id": "gvfG2F2J1h3Y",
        "outputId": "bf9ccbf4-35b4-4d93-fa64-038fb199e4dc"
      },
      "outputs": [
        {
          "data": {
            "text/html": [
              "\n",
              "  <div id=\"df-1dc813cf-2804-4bf9-9b05-79420a44c7b5\" class=\"colab-df-container\">\n",
              "    <div>\n",
              "<style scoped>\n",
              "    .dataframe tbody tr th:only-of-type {\n",
              "        vertical-align: middle;\n",
              "    }\n",
              "\n",
              "    .dataframe tbody tr th {\n",
              "        vertical-align: top;\n",
              "    }\n",
              "\n",
              "    .dataframe thead th {\n",
              "        text-align: right;\n",
              "    }\n",
              "</style>\n",
              "<table border=\"1\" class=\"dataframe\">\n",
              "  <thead>\n",
              "    <tr style=\"text-align: right;\">\n",
              "      <th></th>\n",
              "      <th>label</th>\n",
              "      <th>predict</th>\n",
              "      <th>pos_quantile</th>\n",
              "      <th>pos_sign</th>\n",
              "    </tr>\n",
              "  </thead>\n",
              "  <tbody>\n",
              "    <tr>\n",
              "      <th>label</th>\n",
              "      <td>1.000000</td>\n",
              "      <td>-0.020940</td>\n",
              "      <td>-0.017997</td>\n",
              "      <td>-0.041387</td>\n",
              "    </tr>\n",
              "    <tr>\n",
              "      <th>predict</th>\n",
              "      <td>-0.020940</td>\n",
              "      <td>1.000000</td>\n",
              "      <td>0.880737</td>\n",
              "      <td>0.644143</td>\n",
              "    </tr>\n",
              "    <tr>\n",
              "      <th>pos_quantile</th>\n",
              "      <td>-0.017997</td>\n",
              "      <td>0.880737</td>\n",
              "      <td>1.000000</td>\n",
              "      <td>0.681115</td>\n",
              "    </tr>\n",
              "    <tr>\n",
              "      <th>pos_sign</th>\n",
              "      <td>-0.041387</td>\n",
              "      <td>0.644143</td>\n",
              "      <td>0.681115</td>\n",
              "      <td>1.000000</td>\n",
              "    </tr>\n",
              "  </tbody>\n",
              "</table>\n",
              "</div>\n",
              "    <div class=\"colab-df-buttons\">\n",
              "\n",
              "  <div class=\"colab-df-container\">\n",
              "    <button class=\"colab-df-convert\" onclick=\"convertToInteractive('df-1dc813cf-2804-4bf9-9b05-79420a44c7b5')\"\n",
              "            title=\"Convert this dataframe to an interactive table.\"\n",
              "            style=\"display:none;\">\n",
              "\n",
              "  <svg xmlns=\"http://www.w3.org/2000/svg\" height=\"24px\" viewBox=\"0 -960 960 960\">\n",
              "    <path d=\"M120-120v-720h720v720H120Zm60-500h600v-160H180v160Zm220 220h160v-160H400v160Zm0 220h160v-160H400v160ZM180-400h160v-160H180v160Zm440 0h160v-160H620v160ZM180-180h160v-160H180v160Zm440 0h160v-160H620v160Z\"/>\n",
              "  </svg>\n",
              "    </button>\n",
              "\n",
              "  <style>\n",
              "    .colab-df-container {\n",
              "      display:flex;\n",
              "      gap: 12px;\n",
              "    }\n",
              "\n",
              "    .colab-df-convert {\n",
              "      background-color: #E8F0FE;\n",
              "      border: none;\n",
              "      border-radius: 50%;\n",
              "      cursor: pointer;\n",
              "      display: none;\n",
              "      fill: #1967D2;\n",
              "      height: 32px;\n",
              "      padding: 0 0 0 0;\n",
              "      width: 32px;\n",
              "    }\n",
              "\n",
              "    .colab-df-convert:hover {\n",
              "      background-color: #E2EBFA;\n",
              "      box-shadow: 0px 1px 2px rgba(60, 64, 67, 0.3), 0px 1px 3px 1px rgba(60, 64, 67, 0.15);\n",
              "      fill: #174EA6;\n",
              "    }\n",
              "\n",
              "    .colab-df-buttons div {\n",
              "      margin-bottom: 4px;\n",
              "    }\n",
              "\n",
              "    [theme=dark] .colab-df-convert {\n",
              "      background-color: #3B4455;\n",
              "      fill: #D2E3FC;\n",
              "    }\n",
              "\n",
              "    [theme=dark] .colab-df-convert:hover {\n",
              "      background-color: #434B5C;\n",
              "      box-shadow: 0px 1px 3px 1px rgba(0, 0, 0, 0.15);\n",
              "      filter: drop-shadow(0px 1px 2px rgba(0, 0, 0, 0.3));\n",
              "      fill: #FFFFFF;\n",
              "    }\n",
              "  </style>\n",
              "\n",
              "    <script>\n",
              "      const buttonEl =\n",
              "        document.querySelector('#df-1dc813cf-2804-4bf9-9b05-79420a44c7b5 button.colab-df-convert');\n",
              "      buttonEl.style.display =\n",
              "        google.colab.kernel.accessAllowed ? 'block' : 'none';\n",
              "\n",
              "      async function convertToInteractive(key) {\n",
              "        const element = document.querySelector('#df-1dc813cf-2804-4bf9-9b05-79420a44c7b5');\n",
              "        const dataTable =\n",
              "          await google.colab.kernel.invokeFunction('convertToInteractive',\n",
              "                                                    [key], {});\n",
              "        if (!dataTable) return;\n",
              "\n",
              "        const docLinkHtml = 'Like what you see? Visit the ' +\n",
              "          '<a target=\"_blank\" href=https://colab.research.google.com/notebooks/data_table.ipynb>data table notebook</a>'\n",
              "          + ' to learn more about interactive tables.';\n",
              "        element.innerHTML = '';\n",
              "        dataTable['output_type'] = 'display_data';\n",
              "        await google.colab.output.renderOutput(dataTable, element);\n",
              "        const docLink = document.createElement('div');\n",
              "        docLink.innerHTML = docLinkHtml;\n",
              "        element.appendChild(docLink);\n",
              "      }\n",
              "    </script>\n",
              "  </div>\n",
              "\n",
              "\n",
              "<div id=\"df-74dead1e-2486-4235-a33f-5cedb124276c\">\n",
              "  <button class=\"colab-df-quickchart\" onclick=\"quickchart('df-74dead1e-2486-4235-a33f-5cedb124276c')\"\n",
              "            title=\"Suggest charts\"\n",
              "            style=\"display:none;\">\n",
              "\n",
              "<svg xmlns=\"http://www.w3.org/2000/svg\" height=\"24px\"viewBox=\"0 0 24 24\"\n",
              "     width=\"24px\">\n",
              "    <g>\n",
              "        <path d=\"M19 3H5c-1.1 0-2 .9-2 2v14c0 1.1.9 2 2 2h14c1.1 0 2-.9 2-2V5c0-1.1-.9-2-2-2zM9 17H7v-7h2v7zm4 0h-2V7h2v10zm4 0h-2v-4h2v4z\"/>\n",
              "    </g>\n",
              "</svg>\n",
              "  </button>\n",
              "\n",
              "<style>\n",
              "  .colab-df-quickchart {\n",
              "      --bg-color: #E8F0FE;\n",
              "      --fill-color: #1967D2;\n",
              "      --hover-bg-color: #E2EBFA;\n",
              "      --hover-fill-color: #174EA6;\n",
              "      --disabled-fill-color: #AAA;\n",
              "      --disabled-bg-color: #DDD;\n",
              "  }\n",
              "\n",
              "  [theme=dark] .colab-df-quickchart {\n",
              "      --bg-color: #3B4455;\n",
              "      --fill-color: #D2E3FC;\n",
              "      --hover-bg-color: #434B5C;\n",
              "      --hover-fill-color: #FFFFFF;\n",
              "      --disabled-bg-color: #3B4455;\n",
              "      --disabled-fill-color: #666;\n",
              "  }\n",
              "\n",
              "  .colab-df-quickchart {\n",
              "    background-color: var(--bg-color);\n",
              "    border: none;\n",
              "    border-radius: 50%;\n",
              "    cursor: pointer;\n",
              "    display: none;\n",
              "    fill: var(--fill-color);\n",
              "    height: 32px;\n",
              "    padding: 0;\n",
              "    width: 32px;\n",
              "  }\n",
              "\n",
              "  .colab-df-quickchart:hover {\n",
              "    background-color: var(--hover-bg-color);\n",
              "    box-shadow: 0 1px 2px rgba(60, 64, 67, 0.3), 0 1px 3px 1px rgba(60, 64, 67, 0.15);\n",
              "    fill: var(--button-hover-fill-color);\n",
              "  }\n",
              "\n",
              "  .colab-df-quickchart-complete:disabled,\n",
              "  .colab-df-quickchart-complete:disabled:hover {\n",
              "    background-color: var(--disabled-bg-color);\n",
              "    fill: var(--disabled-fill-color);\n",
              "    box-shadow: none;\n",
              "  }\n",
              "\n",
              "  .colab-df-spinner {\n",
              "    border: 2px solid var(--fill-color);\n",
              "    border-color: transparent;\n",
              "    border-bottom-color: var(--fill-color);\n",
              "    animation:\n",
              "      spin 1s steps(1) infinite;\n",
              "  }\n",
              "\n",
              "  @keyframes spin {\n",
              "    0% {\n",
              "      border-color: transparent;\n",
              "      border-bottom-color: var(--fill-color);\n",
              "      border-left-color: var(--fill-color);\n",
              "    }\n",
              "    20% {\n",
              "      border-color: transparent;\n",
              "      border-left-color: var(--fill-color);\n",
              "      border-top-color: var(--fill-color);\n",
              "    }\n",
              "    30% {\n",
              "      border-color: transparent;\n",
              "      border-left-color: var(--fill-color);\n",
              "      border-top-color: var(--fill-color);\n",
              "      border-right-color: var(--fill-color);\n",
              "    }\n",
              "    40% {\n",
              "      border-color: transparent;\n",
              "      border-right-color: var(--fill-color);\n",
              "      border-top-color: var(--fill-color);\n",
              "    }\n",
              "    60% {\n",
              "      border-color: transparent;\n",
              "      border-right-color: var(--fill-color);\n",
              "    }\n",
              "    80% {\n",
              "      border-color: transparent;\n",
              "      border-right-color: var(--fill-color);\n",
              "      border-bottom-color: var(--fill-color);\n",
              "    }\n",
              "    90% {\n",
              "      border-color: transparent;\n",
              "      border-bottom-color: var(--fill-color);\n",
              "    }\n",
              "  }\n",
              "</style>\n",
              "\n",
              "  <script>\n",
              "    async function quickchart(key) {\n",
              "      const quickchartButtonEl =\n",
              "        document.querySelector('#' + key + ' button');\n",
              "      quickchartButtonEl.disabled = true;  // To prevent multiple clicks.\n",
              "      quickchartButtonEl.classList.add('colab-df-spinner');\n",
              "      try {\n",
              "        const charts = await google.colab.kernel.invokeFunction(\n",
              "            'suggestCharts', [key], {});\n",
              "      } catch (error) {\n",
              "        console.error('Error during call to suggestCharts:', error);\n",
              "      }\n",
              "      quickchartButtonEl.classList.remove('colab-df-spinner');\n",
              "      quickchartButtonEl.classList.add('colab-df-quickchart-complete');\n",
              "    }\n",
              "    (() => {\n",
              "      let quickchartButtonEl =\n",
              "        document.querySelector('#df-74dead1e-2486-4235-a33f-5cedb124276c button');\n",
              "      quickchartButtonEl.style.display =\n",
              "        google.colab.kernel.accessAllowed ? 'block' : 'none';\n",
              "    })();\n",
              "  </script>\n",
              "</div>\n",
              "    </div>\n",
              "  </div>\n"
            ],
            "text/plain": [
              "                 label   predict  pos_quantile  pos_sign\n",
              "label         1.000000 -0.020940     -0.017997 -0.041387\n",
              "predict      -0.020940  1.000000      0.880737  0.644143\n",
              "pos_quantile -0.017997  0.880737      1.000000  0.681115\n",
              "pos_sign     -0.041387  0.644143      0.681115  1.000000"
            ]
          },
          "execution_count": 56,
          "metadata": {},
          "output_type": "execute_result"
        }
      ],
      "source": [
        "test_y_df.corr()"
      ]
    },
    {
      "cell_type": "code",
      "execution_count": 41,
      "metadata": {
        "colab": {
          "base_uri": "https://localhost:8080/",
          "height": 450
        },
        "id": "Nwd7k9Xf1XyQ",
        "outputId": "625463e4-3c63-4405-9ab3-cb3ca719b71f"
      },
      "outputs": [
        {
          "data": {
            "text/plain": [
              "<Axes: xlabel='date'>"
            ]
          },
          "execution_count": 41,
          "metadata": {},
          "output_type": "execute_result"
        },
        {
          "data": {
            "image/png": "[encoded data removed]",
            "text/plain": [
              "<Figure size 640x480 with 1 Axes>"
            ]
          },
          "metadata": {},
          "output_type": "display_data"
        }
      ],
      "source": [
        "(test_y_df['pos_quantile']*test_y_df['label']).cumsum().plot()"
      ]
    },
    {
      "cell_type": "code",
      "execution_count": null,
      "metadata": {
        "id": "8OYP-GAIHJtk"
      },
      "outputs": [],
      "source": [
        "test_y_df.to_csv('shallow_fine_tune_0613.csv')"
      ]
    },
    {
      "cell_type": "markdown",
      "metadata": {
        "id": "Fq5wWcZpIGgQ"
      },
      "source": [
        "# Solution 3: fine-tune with pooler"
      ]
    },
    {
      "cell_type": "markdown",
      "metadata": {
        "id": "ikJ7YXGDIffp"
      },
      "source": [
        "## Get the pooler output for each news"
      ]
    },
    {
      "cell_type": "code",
      "execution_count": null,
      "metadata": {
        "id": "GUWhsE7dJ0px"
      },
      "outputs": [],
      "source": [
        "def extract_pooler(model):\n",
        "  input_ids = tf.keras.layers.Input(shape=(MAX_SEQUENCE_LENGTH,), dtype=tf.int64, name='input_ids_layer')\n",
        "  attention_mask = tf.keras.layers.Input(shape=(MAX_SEQUENCE_LENGTH,), dtype=tf.int64, name='attention_mask_layer')\n",
        "  input={'input_ids': input_ids, 'attention_mask': attention_mask}\n",
        "  pooler_layer=model(input)['pooler_output']\n",
        "  extract_model = tf.keras.Model(inputs=[input], outputs=[pooler_layer])\n",
        "  return extract_model"
      ]
    },
    {
      "cell_type": "code",
      "execution_count": null,
      "metadata": {
        "id": "fh-Waaq4MSsH"
      },
      "outputs": [],
      "source": [
        "extract_model=extract_pooler(model)"
      ]
    },
    {
      "cell_type": "code",
      "execution_count": null,
      "metadata": {
        "colab": {
          "base_uri": "https://localhost:8080/"
        },
        "id": "L7cR6r3vJaul",
        "outputId": "3d93c76c-4050-4a01-ae56-0c342aa6628f"
      },
      "outputs": [
        {
          "name": "stdout",
          "output_type": "stream",
          "text": [
            "2891/2891 [==============================] - 633s 218ms/step\n"
          ]
        }
      ],
      "source": [
        "output=extract_model.predict([text_tokenized['input_ids'],text_tokenized['attention_mask']])"
      ]
    },
    {
      "cell_type": "code",
      "execution_count": null,
      "metadata": {
        "colab": {
          "base_uri": "https://localhost:8080/"
        },
        "id": "4fJW5Q9DNkzn",
        "outputId": "d491e00c-cbcb-4fc2-af9e-c935bed3fb80"
      },
      "outputs": [
        {
          "data": {
            "text/plain": [
              "(92489, 768)"
            ]
          },
          "execution_count": 76,
          "metadata": {},
          "output_type": "execute_result"
        }
      ],
      "source": [
        "output.shape"
      ]
    },
    {
      "cell_type": "code",
      "execution_count": null,
      "metadata": {
        "id": "5atDpgsJOpiR"
      },
      "outputs": [],
      "source": [
        "np.save('pooler_output',output)"
      ]
    },
    {
      "cell_type": "markdown",
      "metadata": {
        "id": "k0oO9aEYOH0x"
      },
      "source": [
        "## padding the news to 50 per day"
      ]
    },
    {
      "cell_type": "code",
      "execution_count": null,
      "metadata": {
        "id": "EpBW2sbuRj8p"
      },
      "outputs": [],
      "source": [
        "y=combined.groupby('date')['label'].last()"
      ]
    },
    {
      "cell_type": "code",
      "execution_count": null,
      "metadata": {
        "id": "dwiPS5msRj83"
      },
      "outputs": [],
      "source": [
        "hist=combined.groupby('date')['hist_ret'].last().to_numpy()"
      ]
    },
    {
      "cell_type": "code",
      "execution_count": null,
      "metadata": {
        "id": "snnGpbjmLf0Z"
      },
      "outputs": [],
      "source": [
        "MAX_X_LEN=50\n",
        "# we basically follow the process before, only this time the input has dim of 768 instead of 3, so we need to shorten the num of news per day\n"
      ]
    },
    {
      "cell_type": "code",
      "execution_count": null,
      "metadata": {
        "id": "6heVk_T4RA76"
      },
      "outputs": [],
      "source": [
        "x_all=[]\n",
        "for i in y.index:\n",
        "  x=output[combined['date']==i]\n",
        "  if x.shape[0]<MAX_X_LEN:\n",
        "    x=x.copy()\n",
        "    x.resize((MAX_X_LEN,768))\n",
        "    x_all.append(x)\n",
        "  else:\n",
        "    x_all.append(x[:MAX_X_LEN,:])"
      ]
    },
    {
      "cell_type": "code",
      "execution_count": null,
      "metadata": {
        "id": "AC9svFTuRA76"
      },
      "outputs": [],
      "source": [
        "x_all=np.array(x_all)"
      ]
    },
    {
      "cell_type": "code",
      "execution_count": null,
      "metadata": {
        "colab": {
          "base_uri": "https://localhost:8080/"
        },
        "id": "tviIlDD26aOn",
        "outputId": "8868f5eb-f6a3-45c3-9264-625a36693cbf"
      },
      "outputs": [
        {
          "data": {
            "text/plain": [
              "(1784, 50, 768)"
            ]
          },
          "execution_count": 13,
          "metadata": {},
          "output_type": "execute_result"
        }
      ],
      "source": [
        "x_all.shape"
      ]
    },
    {
      "cell_type": "code",
      "execution_count": null,
      "metadata": {
        "id": "G9EU-xLwRA77"
      },
      "outputs": [],
      "source": [
        "np.save('padded_pooler_x_0613.npy',x_all)"
      ]
    },
    {
      "cell_type": "code",
      "execution_count": null,
      "metadata": {
        "id": "w6deNp_aJGN7"
      },
      "outputs": [],
      "source": [
        "x_all=np.load('padded_pooler_x_0613.npy')"
      ]
    },
    {
      "cell_type": "code",
      "execution_count": null,
      "metadata": {
        "id": "l1On06KWBs8-"
      },
      "outputs": [],
      "source": [
        "WINDOW=60"
      ]
    },
    {
      "cell_type": "code",
      "execution_count": null,
      "metadata": {
        "id": "Cx9qW3Y9wZt-"
      },
      "outputs": [],
      "source": [
        "from numpy.lib.stride_tricks import sliding_window_view\n",
        "x_all_roll=sliding_window_view(x_all,WINDOW,axis=0)\n",
        "x_hist_roll=sliding_window_view(hist,WINDOW,axis=0)\n",
        "labels=y[WINDOW-1:].to_numpy()"
      ]
    },
    {
      "cell_type": "code",
      "execution_count": null,
      "metadata": {
        "id": "9xgkctnEwqqy"
      },
      "outputs": [],
      "source": [
        "assert x_all_roll.shape[0]==x_hist_roll.shape[0]==labels.shape[0]"
      ]
    },
    {
      "cell_type": "code",
      "execution_count": null,
      "metadata": {
        "id": "VUbljGSIs0nH"
      },
      "outputs": [],
      "source": [
        "import math\n",
        "class RollingGenerator(tf.keras.utils.Sequence):\n",
        "\n",
        "    def __init__(self, x_news, x_hist, y, batch_size=32):\n",
        "        self.x_news, self.x_hist,self.y = x_news, x_hist, y\n",
        "        self.batch_size = batch_size\n",
        "\n",
        "    def __len__(self):\n",
        "        return math.ceil(self.x_news.shape[0] / self.batch_size)\n",
        "\n",
        "    def __getitem__(self, idx):\n",
        "        low = idx * self.batch_size\n",
        "        # Cap upper bound at array length; the last batch may be smaller\n",
        "        # if the total number of items is not a multiple of batch size.\n",
        "        high = min(low + self.batch_size, self.x_news.shape[0])\n",
        "        batch_x_news = self.x_news[low:high]\n",
        "        batch_x_hist=self.x_hist[low:high]\n",
        "        batch_y = self.y[low:high]\n",
        "\n",
        "        return [batch_x_news,batch_x_hist],batch_y"
      ]
    },
    {
      "cell_type": "code",
      "execution_count": null,
      "metadata": {
        "id": "ZBJLXaz0xY5H"
      },
      "outputs": [],
      "source": [
        "total_size = labels.shape[0]\n",
        "train_size = int(0.7 * total_size)\n",
        "val_size = int(0.1 * total_size)\n",
        "\n",
        "train_ds=RollingGenerator(x_all_roll[:train_size],x_hist_roll[:train_size],labels[:train_size])\n",
        "val_ds=RollingGenerator(x_all_roll[train_size:train_size+val_size],x_hist_roll[train_size:train_size+val_size],labels[train_size:train_size+val_size])\n",
        "test_ds=RollingGenerator(x_all_roll[train_size+val_size:],x_hist_roll[train_size+val_size:],labels[train_size+val_size:])"
      ]
    },
    {
      "cell_type": "code",
      "execution_count": null,
      "metadata": {
        "colab": {
          "base_uri": "https://localhost:8080/"
        },
        "id": "ulmLIDzFBs9M",
        "outputId": "f1a3d030-5624-4f61-8049-2753da124696"
      },
      "outputs": [
        {
          "data": {
            "text/plain": [
              "1380"
            ]
          },
          "execution_count": 193,
          "metadata": {},
          "output_type": "execute_result"
        }
      ],
      "source": [
        "train_size=round(x_all_roll.shape[0]*0.8)\n",
        "train_size"
      ]
    },
    {
      "cell_type": "code",
      "execution_count": null,
      "metadata": {
        "id": "psP1GuAcBs9M"
      },
      "outputs": [],
      "source": [
        "x_news_train=x_all_roll[:train_size]\n",
        "x_hist_train=x_hist_roll[:train_size]\n",
        "x_news_test=x_all_roll[train_size:]\n",
        "x_hist_test=x_hist_roll[train_size:]"
      ]
    },
    {
      "cell_type": "code",
      "execution_count": null,
      "metadata": {
        "id": "S2b9ek2cBs9M"
      },
      "outputs": [],
      "source": [
        "y_train=y[WINDOW-1:WINDOW+train_size-1].to_numpy()\n",
        "y_test=y[WINDOW+train_size-1:].to_numpy()"
      ]
    },
    {
      "cell_type": "code",
      "execution_count": null,
      "metadata": {
        "id": "b1ChrxuxRA78"
      },
      "outputs": [],
      "source": [
        "def create_model_with_attention(max_input_len=MAX_X_LEN,dropout=0.3,hidden_dim=32,learning_rate=0.005):\n",
        "  input= tf.keras.layers.Input(shape=(max_input_len,768))\n",
        "  attention=SelfAttentionLayer(units=64,input_shape=(max_input_len,768))(input)\n",
        "  attention_flatten=tf.keras.layers.Flatten()(attention)\n",
        "  # hidden=tf.keras.layers.Dense(hidden_dim,)(attention_flatten)\n",
        "  droput=tf.keras.layers.Dropout(dropout)(attention_flatten)\n",
        "  reg=tf.keras.layers.Dense(1)(droput)\n",
        "  wan_model = tf.keras.models.Model(inputs=[input], outputs=[reg])\n",
        "  wan_model.compile(optimizer=tf.keras.optimizers.Adam(learning_rate=learning_rate),\n",
        "                                 loss='mse')\n",
        "  return wan_model"
      ]
    },
    {
      "cell_type": "code",
      "execution_count": null,
      "metadata": {
        "id": "SGBZCWVw2p2s"
      },
      "outputs": [],
      "source": [
        "def create_model_with_attention(max_input_len=MAX_X_LEN,dropout=0.3,hidden_dim=32,learning_rate=0.005):\n",
        "  input= tf.keras.layers.Input(shape=(max_input_len,768))\n",
        "  attention=tf.keras.layers.MultiHeadAttention(num_heads=1, key_dim=MAX_X_LEN)(input,input)\n",
        "  attention_flatten=tf.reduce_mean(attention,axis=1)\n",
        "  hidden=tf.keras.layers.Dense(hidden_dim,)(attention_flatten)\n",
        "  droput=tf.keras.layers.Dropout(dropout)(hidden)\n",
        "  reg=tf.keras.layers.Dense(1)(droput)\n",
        "  wan_model = tf.keras.models.Model(inputs=[input], outputs=[reg])\n",
        "  wan_model.compile(optimizer=tf.keras.optimizers.Adam(learning_rate=learning_rate),\n",
        "                                 loss='mse')\n",
        "  return wan_model"
      ]
    },
    {
      "cell_type": "code",
      "execution_count": null,
      "metadata": {
        "id": "8rqj7kHvRA79"
      },
      "outputs": [],
      "source": [
        "model_with_attention=create_model_with_attention()"
      ]
    },
    {
      "cell_type": "code",
      "execution_count": null,
      "metadata": {
        "colab": {
          "base_uri": "https://localhost:8080/",
          "height": 644
        },
        "id": "a6dAvEAiRA79",
        "outputId": "faf90fb6-2c31-421b-ed40-fb26b8a3fa5f"
      },
      "outputs": [
        {
          "data": {
            "image/png": "[encoded data removed]",
            "text/plain": [
              "<IPython.core.display.Image object>"
            ]
          },
          "execution_count": 81,
          "metadata": {},
          "output_type": "execute_result"
        }
      ],
      "source": [
        "tf.keras.utils.plot_model(model_with_attention,show_shapes=True)"
      ]
    },
    {
      "cell_type": "code",
      "execution_count": null,
      "metadata": {
        "id": "nlkX_HMkRA79"
      },
      "outputs": [],
      "source": [
        "early_stopping = tf.keras.callbacks.EarlyStopping(\n",
        "        monitor=\"val_loss\", patience=5, mode=\"auto\", restore_best_weights=True\n",
        "    )"
      ]
    },
    {
      "cell_type": "code",
      "execution_count": null,
      "metadata": {
        "colab": {
          "base_uri": "https://localhost:8080/",
          "height": 249
        },
        "id": "0F8H08VWRA79",
        "outputId": "085e4228-23f0-40c9-a40e-dcd4cd92d229"
      },
      "outputs": [
        {
          "ename": "NameError",
          "evalue": "ignored",
          "output_type": "error",
          "traceback": [
            "\u001b[0;31m---------------------------------------------------------------------------\u001b[0m",
            "\u001b[0;31mNameError\u001b[0m                                 Traceback (most recent call last)",
            "\u001b[0;32m<ipython-input-73-987277c1e5a7>\u001b[0m in \u001b[0;36m<cell line: 1>\u001b[0;34m()\u001b[0m\n\u001b[0;32m----> 1\u001b[0;31m hist_model_using_logits=model_with_attention.fit(\n\u001b[0m\u001b[1;32m      2\u001b[0m     \u001b[0mtrain_x\u001b[0m\u001b[0;34m,\u001b[0m\u001b[0;34m\u001b[0m\u001b[0;34m\u001b[0m\u001b[0m\n\u001b[1;32m      3\u001b[0m     \u001b[0mtrain_y\u001b[0m\u001b[0;34m,\u001b[0m\u001b[0;34m\u001b[0m\u001b[0;34m\u001b[0m\u001b[0m\n\u001b[1;32m      4\u001b[0m     \u001b[0mvalidation_split\u001b[0m\u001b[0;34m=\u001b[0m\u001b[0;36m0.2\u001b[0m\u001b[0;34m,\u001b[0m\u001b[0;34m\u001b[0m\u001b[0;34m\u001b[0m\u001b[0m\n\u001b[1;32m      5\u001b[0m     \u001b[0mbatch_size\u001b[0m\u001b[0;34m=\u001b[0m\u001b[0;36m128\u001b[0m\u001b[0;34m,\u001b[0m\u001b[0;34m\u001b[0m\u001b[0;34m\u001b[0m\u001b[0m\n",
            "\u001b[0;31mNameError\u001b[0m: name 'model_with_attention' is not defined"
          ]
        }
      ],
      "source": [
        "hist_model_using_logits=model_with_attention.fit(\n",
        "    train_x,\n",
        "    train_y,\n",
        "    validation_split=0.2,\n",
        "    batch_size=128,\n",
        "    epochs=50,\n",
        "    callbacks=early_stopping\n",
        ")"
      ]
    },
    {
      "cell_type": "code",
      "execution_count": null,
      "metadata": {
        "colab": {
          "base_uri": "https://localhost:8080/",
          "height": 447
        },
        "id": "XWu3cXlhRA79",
        "outputId": "bca94441-02ad-4a8d-8f93-41c4e658cac8"
      },
      "outputs": [
        {
          "data": {
            "text/plain": [
              "<Axes: >"
            ]
          },
          "execution_count": 84,
          "metadata": {},
          "output_type": "execute_result"
        },
        {
          "data": {
            "image/png": "[encoded data removed]",
            "text/plain": [
              "<Figure size 640x480 with 1 Axes>"
            ]
          },
          "metadata": {},
          "output_type": "display_data"
        }
      ],
      "source": [
        "pd.DataFrame(hist_model_using_logits.history)[1:].plot()"
      ]
    },
    {
      "cell_type": "code",
      "execution_count": null,
      "metadata": {
        "colab": {
          "base_uri": "https://localhost:8080/"
        },
        "id": "Dv1KQD6HRA79",
        "outputId": "6d58e390-81bb-4c58-81f5-cc624cc17b40"
      },
      "outputs": [
        {
          "name": "stdout",
          "output_type": "stream",
          "text": [
            "12/12 [==============================] - 0s 4ms/step\n"
          ]
        }
      ],
      "source": [
        "predicts=model_with_attention.predict(test_x)"
      ]
    },
    {
      "cell_type": "code",
      "execution_count": null,
      "metadata": {
        "colab": {
          "base_uri": "https://localhost:8080/"
        },
        "id": "z9vcmW3vRA7-",
        "outputId": "1c4da22d-1818-4566-aeac-9943bbbe444e"
      },
      "outputs": [
        {
          "name": "stdout",
          "output_type": "stream",
          "text": [
            "12/12 [==============================] - 0s 7ms/step - loss: 9.0133e-05\n"
          ]
        },
        {
          "data": {
            "text/plain": [
              "9.01332387002185e-05"
            ]
          },
          "execution_count": 86,
          "metadata": {},
          "output_type": "execute_result"
        }
      ],
      "source": [
        "model_with_attention.evaluate(test_x,test_y)"
      ]
    },
    {
      "cell_type": "code",
      "execution_count": null,
      "metadata": {
        "colab": {
          "base_uri": "https://localhost:8080/",
          "height": 447
        },
        "id": "qgf3BDm3RA7-",
        "outputId": "4fa7332c-307c-48ec-9519-a26cb3c8865e"
      },
      "outputs": [
        {
          "data": {
            "text/plain": [
              "<matplotlib.legend.Legend at 0x7be1747aa7a0>"
            ]
          },
          "execution_count": 87,
          "metadata": {},
          "output_type": "execute_result"
        },
        {
          "data": {
            "image/png": "[encoded data removed]",
            "text/plain": [
              "<Figure size 640x480 with 1 Axes>"
            ]
          },
          "metadata": {},
          "output_type": "display_data"
        }
      ],
      "source": [
        "plt.plot(predicts,label='predict')\n",
        "plt.plot(test_y,label='true')\n",
        "plt.legend()"
      ]
    },
    {
      "cell_type": "code",
      "execution_count": null,
      "metadata": {
        "id": "R7w8Et9KVclH"
      },
      "outputs": [],
      "source": [
        "test_y_df=pd.DataFrame(y[train_size:])"
      ]
    },
    {
      "cell_type": "code",
      "execution_count": null,
      "metadata": {
        "id": "bOEy6ZXEVclH"
      },
      "outputs": [],
      "source": [
        "test_y_df['predict']=predicts"
      ]
    },
    {
      "cell_type": "code",
      "execution_count": null,
      "metadata": {
        "id": "ctI1nCB3VclH"
      },
      "outputs": [],
      "source": [
        "test_y_df['pos_quantile']=pd.qcut(test_y_df['predict'],[0,0.2,0.8,1],labels=False)-1\n",
        "test_y_df['pos_sign']=np.sign(test_y_df['predict'])"
      ]
    },
    {
      "cell_type": "code",
      "execution_count": null,
      "metadata": {
        "colab": {
          "base_uri": "https://localhost:8080/",
          "height": 450
        },
        "id": "Gnt9M5W07bic",
        "outputId": "70e13897-991b-4142-c371-b0a3d99b1eac"
      },
      "outputs": [
        {
          "data": {
            "text/plain": [
              "<Axes: xlabel='date'>"
            ]
          },
          "execution_count": 93,
          "metadata": {},
          "output_type": "execute_result"
        },
        {
          "data": {
            "image/png": "[encoded data removed]",
            "text/plain": [
              "<Figure size 640x480 with 1 Axes>"
            ]
          },
          "metadata": {},
          "output_type": "display_data"
        }
      ],
      "source": [
        "(test_y_df['pos_sign']*test_y_df['Adj Close']).cumsum().plot()"
      ]
    },
    {
      "cell_type": "code",
      "execution_count": null,
      "metadata": {
        "colab": {
          "base_uri": "https://localhost:8080/",
          "height": 175
        },
        "id": "j6CZvNaQ7iTY",
        "outputId": "582c6074-8a1b-4621-df1c-2143aff2fc0f"
      },
      "outputs": [
        {
          "data": {
            "text/html": [
              "\n",
              "  <div id=\"df-178c5b83-6868-44ce-b0e2-e0f8a7166bb9\" class=\"colab-df-container\">\n",
              "    <div>\n",
              "<style scoped>\n",
              "    .dataframe tbody tr th:only-of-type {\n",
              "        vertical-align: middle;\n",
              "    }\n",
              "\n",
              "    .dataframe tbody tr th {\n",
              "        vertical-align: top;\n",
              "    }\n",
              "\n",
              "    .dataframe thead th {\n",
              "        text-align: right;\n",
              "    }\n",
              "</style>\n",
              "<table border=\"1\" class=\"dataframe\">\n",
              "  <thead>\n",
              "    <tr style=\"text-align: right;\">\n",
              "      <th></th>\n",
              "      <th>Adj Close</th>\n",
              "      <th>predict</th>\n",
              "      <th>pos_quantile</th>\n",
              "      <th>pos_sign</th>\n",
              "    </tr>\n",
              "  </thead>\n",
              "  <tbody>\n",
              "    <tr>\n",
              "      <th>Adj Close</th>\n",
              "      <td>1.000000</td>\n",
              "      <td>0.097523</td>\n",
              "      <td>0.079569</td>\n",
              "      <td>0.078949</td>\n",
              "    </tr>\n",
              "    <tr>\n",
              "      <th>predict</th>\n",
              "      <td>0.097523</td>\n",
              "      <td>1.000000</td>\n",
              "      <td>0.789175</td>\n",
              "      <td>0.821143</td>\n",
              "    </tr>\n",
              "    <tr>\n",
              "      <th>pos_quantile</th>\n",
              "      <td>0.079569</td>\n",
              "      <td>0.789175</td>\n",
              "      <td>1.000000</td>\n",
              "      <td>0.649046</td>\n",
              "    </tr>\n",
              "    <tr>\n",
              "      <th>pos_sign</th>\n",
              "      <td>0.078949</td>\n",
              "      <td>0.821143</td>\n",
              "      <td>0.649046</td>\n",
              "      <td>1.000000</td>\n",
              "    </tr>\n",
              "  </tbody>\n",
              "</table>\n",
              "</div>\n",
              "    <div class=\"colab-df-buttons\">\n",
              "\n",
              "  <div class=\"colab-df-container\">\n",
              "    <button class=\"colab-df-convert\" onclick=\"convertToInteractive('df-178c5b83-6868-44ce-b0e2-e0f8a7166bb9')\"\n",
              "            title=\"Convert this dataframe to an interactive table.\"\n",
              "            style=\"display:none;\">\n",
              "\n",
              "  <svg xmlns=\"http://www.w3.org/2000/svg\" height=\"24px\" viewBox=\"0 -960 960 960\">\n",
              "    <path d=\"M120-120v-720h720v720H120Zm60-500h600v-160H180v160Zm220 220h160v-160H400v160Zm0 220h160v-160H400v160ZM180-400h160v-160H180v160Zm440 0h160v-160H620v160ZM180-180h160v-160H180v160Zm440 0h160v-160H620v160Z\"/>\n",
              "  </svg>\n",
              "    </button>\n",
              "\n",
              "  <style>\n",
              "    .colab-df-container {\n",
              "      display:flex;\n",
              "      gap: 12px;\n",
              "    }\n",
              "\n",
              "    .colab-df-convert {\n",
              "      background-color: #E8F0FE;\n",
              "      border: none;\n",
              "      border-radius: 50%;\n",
              "      cursor: pointer;\n",
              "      display: none;\n",
              "      fill: #1967D2;\n",
              "      height: 32px;\n",
              "      padding: 0 0 0 0;\n",
              "      width: 32px;\n",
              "    }\n",
              "\n",
              "    .colab-df-convert:hover {\n",
              "      background-color: #E2EBFA;\n",
              "      box-shadow: 0px 1px 2px rgba(60, 64, 67, 0.3), 0px 1px 3px 1px rgba(60, 64, 67, 0.15);\n",
              "      fill: #174EA6;\n",
              "    }\n",
              "\n",
              "    .colab-df-buttons div {\n",
              "      margin-bottom: 4px;\n",
              "    }\n",
              "\n",
              "    [theme=dark] .colab-df-convert {\n",
              "      background-color: #3B4455;\n",
              "      fill: #D2E3FC;\n",
              "    }\n",
              "\n",
              "    [theme=dark] .colab-df-convert:hover {\n",
              "      background-color: #434B5C;\n",
              "      box-shadow: 0px 1px 3px 1px rgba(0, 0, 0, 0.15);\n",
              "      filter: drop-shadow(0px 1px 2px rgba(0, 0, 0, 0.3));\n",
              "      fill: #FFFFFF;\n",
              "    }\n",
              "  </style>\n",
              "\n",
              "    <script>\n",
              "      const buttonEl =\n",
              "        document.querySelector('#df-178c5b83-6868-44ce-b0e2-e0f8a7166bb9 button.colab-df-convert');\n",
              "      buttonEl.style.display =\n",
              "        google.colab.kernel.accessAllowed ? 'block' : 'none';\n",
              "\n",
              "      async function convertToInteractive(key) {\n",
              "        const element = document.querySelector('#df-178c5b83-6868-44ce-b0e2-e0f8a7166bb9');\n",
              "        const dataTable =\n",
              "          await google.colab.kernel.invokeFunction('convertToInteractive',\n",
              "                                                    [key], {});\n",
              "        if (!dataTable) return;\n",
              "\n",
              "        const docLinkHtml = 'Like what you see? Visit the ' +\n",
              "          '<a target=\"_blank\" href=https://colab.research.google.com/notebooks/data_table.ipynb>data table notebook</a>'\n",
              "          + ' to learn more about interactive tables.';\n",
              "        element.innerHTML = '';\n",
              "        dataTable['output_type'] = 'display_data';\n",
              "        await google.colab.output.renderOutput(dataTable, element);\n",
              "        const docLink = document.createElement('div');\n",
              "        docLink.innerHTML = docLinkHtml;\n",
              "        element.appendChild(docLink);\n",
              "      }\n",
              "    </script>\n",
              "  </div>\n",
              "\n",
              "\n",
              "<div id=\"df-dad1c7a7-3085-448d-b9d1-b00baabc29c0\">\n",
              "  <button class=\"colab-df-quickchart\" onclick=\"quickchart('df-dad1c7a7-3085-448d-b9d1-b00baabc29c0')\"\n",
              "            title=\"Suggest charts\"\n",
              "            style=\"display:none;\">\n",
              "\n",
              "<svg xmlns=\"http://www.w3.org/2000/svg\" height=\"24px\"viewBox=\"0 0 24 24\"\n",
              "     width=\"24px\">\n",
              "    <g>\n",
              "        <path d=\"M19 3H5c-1.1 0-2 .9-2 2v14c0 1.1.9 2 2 2h14c1.1 0 2-.9 2-2V5c0-1.1-.9-2-2-2zM9 17H7v-7h2v7zm4 0h-2V7h2v10zm4 0h-2v-4h2v4z\"/>\n",
              "    </g>\n",
              "</svg>\n",
              "  </button>\n",
              "\n",
              "<style>\n",
              "  .colab-df-quickchart {\n",
              "      --bg-color: #E8F0FE;\n",
              "      --fill-color: #1967D2;\n",
              "      --hover-bg-color: #E2EBFA;\n",
              "      --hover-fill-color: #174EA6;\n",
              "      --disabled-fill-color: #AAA;\n",
              "      --disabled-bg-color: #DDD;\n",
              "  }\n",
              "\n",
              "  [theme=dark] .colab-df-quickchart {\n",
              "      --bg-color: #3B4455;\n",
              "      --fill-color: #D2E3FC;\n",
              "      --hover-bg-color: #434B5C;\n",
              "      --hover-fill-color: #FFFFFF;\n",
              "      --disabled-bg-color: #3B4455;\n",
              "      --disabled-fill-color: #666;\n",
              "  }\n",
              "\n",
              "  .colab-df-quickchart {\n",
              "    background-color: var(--bg-color);\n",
              "    border: none;\n",
              "    border-radius: 50%;\n",
              "    cursor: pointer;\n",
              "    display: none;\n",
              "    fill: var(--fill-color);\n",
              "    height: 32px;\n",
              "    padding: 0;\n",
              "    width: 32px;\n",
              "  }\n",
              "\n",
              "  .colab-df-quickchart:hover {\n",
              "    background-color: var(--hover-bg-color);\n",
              "    box-shadow: 0 1px 2px rgba(60, 64, 67, 0.3), 0 1px 3px 1px rgba(60, 64, 67, 0.15);\n",
              "    fill: var(--button-hover-fill-color);\n",
              "  }\n",
              "\n",
              "  .colab-df-quickchart-complete:disabled,\n",
              "  .colab-df-quickchart-complete:disabled:hover {\n",
              "    background-color: var(--disabled-bg-color);\n",
              "    fill: var(--disabled-fill-color);\n",
              "    box-shadow: none;\n",
              "  }\n",
              "\n",
              "  .colab-df-spinner {\n",
              "    border: 2px solid var(--fill-color);\n",
              "    border-color: transparent;\n",
              "    border-bottom-color: var(--fill-color);\n",
              "    animation:\n",
              "      spin 1s steps(1) infinite;\n",
              "  }\n",
              "\n",
              "  @keyframes spin {\n",
              "    0% {\n",
              "      border-color: transparent;\n",
              "      border-bottom-color: var(--fill-color);\n",
              "      border-left-color: var(--fill-color);\n",
              "    }\n",
              "    20% {\n",
              "      border-color: transparent;\n",
              "      border-left-color: var(--fill-color);\n",
              "      border-top-color: var(--fill-color);\n",
              "    }\n",
              "    30% {\n",
              "      border-color: transparent;\n",
              "      border-left-color: var(--fill-color);\n",
              "      border-top-color: var(--fill-color);\n",
              "      border-right-color: var(--fill-color);\n",
              "    }\n",
              "    40% {\n",
              "      border-color: transparent;\n",
              "      border-right-color: var(--fill-color);\n",
              "      border-top-color: var(--fill-color);\n",
              "    }\n",
              "    60% {\n",
              "      border-color: transparent;\n",
              "      border-right-color: var(--fill-color);\n",
              "    }\n",
              "    80% {\n",
              "      border-color: transparent;\n",
              "      border-right-color: var(--fill-color);\n",
              "      border-bottom-color: var(--fill-color);\n",
              "    }\n",
              "    90% {\n",
              "      border-color: transparent;\n",
              "      border-bottom-color: var(--fill-color);\n",
              "    }\n",
              "  }\n",
              "</style>\n",
              "\n",
              "  <script>\n",
              "    async function quickchart(key) {\n",
              "      const quickchartButtonEl =\n",
              "        document.querySelector('#' + key + ' button');\n",
              "      quickchartButtonEl.disabled = true;  // To prevent multiple clicks.\n",
              "      quickchartButtonEl.classList.add('colab-df-spinner');\n",
              "      try {\n",
              "        const charts = await google.colab.kernel.invokeFunction(\n",
              "            'suggestCharts', [key], {});\n",
              "      } catch (error) {\n",
              "        console.error('Error during call to suggestCharts:', error);\n",
              "      }\n",
              "      quickchartButtonEl.classList.remove('colab-df-spinner');\n",
              "      quickchartButtonEl.classList.add('colab-df-quickchart-complete');\n",
              "    }\n",
              "    (() => {\n",
              "      let quickchartButtonEl =\n",
              "        document.querySelector('#df-dad1c7a7-3085-448d-b9d1-b00baabc29c0 button');\n",
              "      quickchartButtonEl.style.display =\n",
              "        google.colab.kernel.accessAllowed ? 'block' : 'none';\n",
              "    })();\n",
              "  </script>\n",
              "</div>\n",
              "    </div>\n",
              "  </div>\n"
            ],
            "text/plain": [
              "              Adj Close   predict  pos_quantile  pos_sign\n",
              "Adj Close      1.000000  0.097523      0.079569  0.078949\n",
              "predict        0.097523  1.000000      0.789175  0.821143\n",
              "pos_quantile   0.079569  0.789175      1.000000  0.649046\n",
              "pos_sign       0.078949  0.821143      0.649046  1.000000"
            ]
          },
          "execution_count": 94,
          "metadata": {},
          "output_type": "execute_result"
        }
      ],
      "source": [
        "test_y_df.corr()"
      ]
    },
    {
      "cell_type": "code",
      "execution_count": null,
      "metadata": {
        "id": "l11LPZrdVclH"
      },
      "outputs": [],
      "source": [
        "test_y_df.to_csv('deep_fine_tune_0613_2nd.csv')"
      ]
    },
    {
      "cell_type": "code",
      "execution_count": null,
      "metadata": {
        "id": "_iQwnNy_B5W7"
      },
      "outputs": [],
      "source": [
        "def create_model_transformer(max_input_len=MAX_X_LEN,dropout=0.3,hidden_dim=32,learning_rate=0.005):\n",
        "\n",
        "\n",
        "  # two inputs source\n",
        "  input_news= tf.keras.layers.Input(shape=(max_input_len,768,WINDOW))\n",
        "  input_hist= tf.keras.layers.Input(shape=(WINDOW,))\n",
        "\n",
        "  # news input with attention\n",
        "  attention_news=tf.keras.layers.MultiHeadAttention(num_heads=2, key_dim=4,attention_axes=1)(input_news,input_news)\n",
        "  attention_news_mean=tf.reduce_mean(attention_news,axis=1) # combine data within the same date\n",
        "  attention_news_token=tf.keras.layers.MultiHeadAttention(num_heads=2, key_dim=2,attention_axes=2)(attention_news_mean,attention_news_mean)\n",
        "  attention_news_token_mean=tf.reduce_mean(attention_news_token,axis=2)\n",
        "  # flatten_news=tf.keras.layers.Flatten()(attention_news_token_mean)\n",
        "  flatten_news=tf.keras.layers.Normalization()(attention_news_token_mean)\n",
        "  dropout_news=tf.keras.layers.Dropout(0.5)(flatten_news)\n",
        "\n",
        "  # hist returns with attention\n",
        "  attention_hist=tf.keras.layers.MultiHeadAttention(num_heads=2, key_dim=2,attention_axes=1)(input_hist,input_hist)\n",
        "  # flatten_hist=tf.keras.layers.Flatten()(attention_hist)\n",
        "  flatten_hist=tf.keras.layers.Normalization()(attention_hist)\n",
        "  dropout_hist=tf.keras.layers.Dropout(dropout)(flatten_hist)\n",
        "\n",
        "  # combine two inputs together\n",
        "  combined=tf.concat([dropout_news,dropout_hist],axis=1)\n",
        "  hidden=tf.keras.layers.Dense(32)(combined)\n",
        "  droput=tf.keras.layers.Dropout(dropout)(hidden)\n",
        "  reg=tf.keras.layers.Dense(1)(droput)\n",
        "  model = tf.keras.models.Model(inputs=(input_news,input_hist), outputs=[reg])\n",
        "  model.compile(optimizer=tf.keras.optimizers.Adam(learning_rate=learning_rate),\n",
        "                                 loss='mse')\n",
        "  return model"
      ]
    },
    {
      "cell_type": "code",
      "execution_count": null,
      "metadata": {
        "id": "jwOsHfOWB5W7"
      },
      "outputs": [],
      "source": [
        "keras.backend.clear_session()"
      ]
    },
    {
      "cell_type": "code",
      "execution_count": null,
      "metadata": {
        "id": "s-oBj91_B5W8"
      },
      "outputs": [],
      "source": [
        "model_transformer=create_model_transformer()"
      ]
    },
    {
      "cell_type": "code",
      "execution_count": null,
      "metadata": {
        "colab": {
          "base_uri": "https://localhost:8080/"
        },
        "id": "NzX-c40eB5W8",
        "outputId": "89eb4ab5-5fd5-4c40-ce65-c86286e182bd"
      },
      "outputs": [
        {
          "name": "stdout",
          "output_type": "stream",
          "text": [
            "Model: \"model\"\n",
            "__________________________________________________________________________________________________\n",
            " Layer (type)                Output Shape                 Param #   Connected to                  \n",
            "==================================================================================================\n",
            " input_1 (InputLayer)        [(None, 50, 768, 60)]        0         []                            \n",
            "                                                                                                  \n",
            " multi_head_attention (Mult  (None, 50, 768, 60)          2004      ['input_1[0][0]',             \n",
            " iHeadAttention)                                                     'input_1[0][0]']             \n",
            "                                                                                                  \n",
            " tf.math.reduce_mean (TFOpL  (None, 768, 60)              0         ['multi_head_attention[0][0]']\n",
            " ambda)                                                                                           \n",
            "                                                                                                  \n",
            " multi_head_attention_1 (Mu  (None, 768, 60)              1032      ['tf.math.reduce_mean[0][0]', \n",
            " ltiHeadAttention)                                                   'tf.math.reduce_mean[0][0]'] \n",
            "                                                                                                  \n",
            " input_2 (InputLayer)        [(None, 60)]                 0         []                            \n",
            "                                                                                                  \n",
            " tf.math.reduce_mean_1 (TFO  (None, 768)                  0         ['multi_head_attention_1[0][0]\n",
            " pLambda)                                                           ']                            \n",
            "                                                                                                  \n",
            " multi_head_attention_2 (Mu  (None, 60)                   1032      ['input_2[0][0]',             \n",
            " ltiHeadAttention)                                                   'input_2[0][0]']             \n",
            "                                                                                                  \n",
            " normalization (Normalizati  (None, 768)                  1537      ['tf.math.reduce_mean_1[0][0]'\n",
            " on)                                                                ]                             \n",
            "                                                                                                  \n",
            " normalization_1 (Normaliza  (None, 60)                   121       ['multi_head_attention_2[0][0]\n",
            " tion)                                                              ']                            \n",
            "                                                                                                  \n",
            " dropout (Dropout)           (None, 768)                  0         ['normalization[0][0]']       \n",
            "                                                                                                  \n",
            " dropout_1 (Dropout)         (None, 60)                   0         ['normalization_1[0][0]']     \n",
            "                                                                                                  \n",
            " tf.concat (TFOpLambda)      (None, 828)                  0         ['dropout[0][0]',             \n",
            "                                                                     'dropout_1[0][0]']           \n",
            "                                                                                                  \n",
            " dense (Dense)               (None, 32)                   26528     ['tf.concat[0][0]']           \n",
            "                                                                                                  \n",
            " dropout_2 (Dropout)         (None, 32)                   0         ['dense[0][0]']               \n",
            "                                                                                                  \n",
            " dense_1 (Dense)             (None, 1)                    33        ['dropout_2[0][0]']           \n",
            "                                                                                                  \n",
            "==================================================================================================\n",
            "Total params: 32287 (126.13 KB)\n",
            "Trainable params: 30629 (119.64 KB)\n",
            "Non-trainable params: 1658 (6.48 KB)\n",
            "__________________________________________________________________________________________________\n"
          ]
        }
      ],
      "source": [
        "model_transformer.summary()"
      ]
    },
    {
      "cell_type": "code",
      "execution_count": null,
      "metadata": {
        "colab": {
          "base_uri": "https://localhost:8080/",
          "height": 1000
        },
        "id": "8byAtnBUB5W8",
        "outputId": "36162431-abd8-4c70-bf0d-3f854be2fe7b"
      },
      "outputs": [
        {
          "data": {
            "image/png": "[encoded data removed]",
            "text/plain": [
              "<IPython.core.display.Image object>"
            ]
          },
          "execution_count": 212,
          "metadata": {},
          "output_type": "execute_result"
        }
      ],
      "source": [
        "tf.keras.utils.plot_model(model_transformer,show_shapes=True)"
      ]
    },
    {
      "cell_type": "code",
      "execution_count": null,
      "metadata": {
        "id": "DrUxzvb5B5W8"
      },
      "outputs": [],
      "source": [
        "early_stopping = tf.keras.callbacks.EarlyStopping(\n",
        "        monitor=\"val_loss\", patience=5, mode=\"auto\", restore_best_weights=True\n",
        "    )"
      ]
    },
    {
      "cell_type": "markdown",
      "metadata": {
        "id": "HhVpYjZUzOOM"
      },
      "source": [
        "## train the model"
      ]
    },
    {
      "cell_type": "code",
      "execution_count": null,
      "metadata": {
        "colab": {
          "base_uri": "https://localhost:8080/"
        },
        "id": "C9I-ndhTB5W8",
        "outputId": "ac2a0ed6-a3fc-4084-e0b1-cf9417df3f61"
      },
      "outputs": [
        {
          "name": "stdout",
          "output_type": "stream",
          "text": [
            "Epoch 1/20\n",
            "38/38 [==============================] - 26s 568ms/step - loss: 0.0021 - val_loss: 2.1111e-04\n",
            "Epoch 2/20\n",
            "38/38 [==============================] - 21s 553ms/step - loss: 3.3404e-04 - val_loss: 1.1468e-04\n",
            "Epoch 3/20\n",
            "38/38 [==============================] - 27s 701ms/step - loss: 3.0669e-04 - val_loss: 1.2342e-04\n",
            "Epoch 4/20\n",
            "38/38 [==============================] - 23s 615ms/step - loss: 3.0253e-04 - val_loss: 1.2120e-04\n",
            "Epoch 5/20\n",
            "38/38 [==============================] - 21s 560ms/step - loss: 3.0290e-04 - val_loss: 1.4873e-04\n",
            "Epoch 6/20\n",
            "38/38 [==============================] - 22s 565ms/step - loss: 3.1553e-04 - val_loss: 1.3014e-04\n",
            "Epoch 7/20\n",
            "38/38 [==============================] - 22s 575ms/step - loss: 2.9835e-04 - val_loss: 1.2124e-04\n"
          ]
        }
      ],
      "source": [
        "hist_model_using_logits=model_transformer.fit(\n",
        "    train_ds,\n",
        "    validation_data=val_ds,\n",
        "    batch_size=32,\n",
        "    epochs=20,\n",
        "    callbacks=early_stopping\n",
        ")"
      ]
    },
    {
      "cell_type": "code",
      "execution_count": null,
      "metadata": {
        "colab": {
          "base_uri": "https://localhost:8080/",
          "height": 447
        },
        "id": "_2JKfoBIB5W8",
        "outputId": "2a8059e6-2b9a-4269-b39b-2a7f5948badf"
      },
      "outputs": [
        {
          "data": {
            "text/plain": [
              "<Axes: >"
            ]
          },
          "execution_count": 178,
          "metadata": {},
          "output_type": "execute_result"
        },
        {
          "data": {
            "image/png": "[encoded data removed]",
            "text/plain": [
              "<Figure size 640x480 with 1 Axes>"
            ]
          },
          "metadata": {},
          "output_type": "display_data"
        }
      ],
      "source": [
        "pd.DataFrame(hist_model_using_logits.history).plot()"
      ]
    },
    {
      "cell_type": "code",
      "execution_count": null,
      "metadata": {
        "colab": {
          "base_uri": "https://localhost:8080/"
        },
        "id": "wuPGg56NB5W8",
        "outputId": "1bec1c72-89fa-4545-ca12-144a7715d365"
      },
      "outputs": [
        {
          "name": "stdout",
          "output_type": "stream",
          "text": [
            "11/11 [==============================] - 5s 440ms/step\n"
          ]
        }
      ],
      "source": [
        "predicts=model_transformer.predict(test_ds)"
      ]
    },
    {
      "cell_type": "code",
      "execution_count": null,
      "metadata": {
        "id": "UT3ettV8BGWc"
      },
      "outputs": [],
      "source": [
        "np.save('predicts_temp.npy',predicts)"
      ]
    },
    {
      "cell_type": "code",
      "execution_count": null,
      "metadata": {
        "colab": {
          "base_uri": "https://localhost:8080/"
        },
        "id": "xrljKIjxB5W8",
        "outputId": "d7b6cda0-a3c8-4313-b592-8a9d134382fc"
      },
      "outputs": [
        {
          "name": "stdout",
          "output_type": "stream",
          "text": [
            "12/12 [==============================] - 2s 177ms/step - loss: 0.0057\n"
          ]
        },
        {
          "data": {
            "text/plain": [
              "0.0056875403970479965"
            ]
          },
          "execution_count": 181,
          "metadata": {},
          "output_type": "execute_result"
        }
      ],
      "source": [
        "model_transformer.evaluate(test_ds)"
      ]
    },
    {
      "cell_type": "code",
      "execution_count": null,
      "metadata": {
        "colab": {
          "base_uri": "https://localhost:8080/",
          "height": 447
        },
        "id": "0BJzXkLMB5W9",
        "outputId": "489788ce-b825-4443-f2f5-91b98a6a6e51"
      },
      "outputs": [
        {
          "data": {
            "text/plain": [
              "<matplotlib.legend.Legend at 0x7c503aee04c0>"
            ]
          },
          "execution_count": 183,
          "metadata": {},
          "output_type": "execute_result"
        },
        {
          "data": {
            "image/png": "[encoded data removed]",
            "text/plain": [
              "<Figure size 640x480 with 1 Axes>"
            ]
          },
          "metadata": {},
          "output_type": "display_data"
        }
      ],
      "source": [
        "plt.plot(predicts/predicts.std(),label='predict')\n",
        "plt.plot(labels[train_size+val_size:],label='true')\n",
        "plt.legend()"
      ]
    },
    {
      "cell_type": "code",
      "execution_count": null,
      "metadata": {
        "id": "eBIkSgmJB5W9"
      },
      "outputs": [],
      "source": [
        "test_y_df=pd.DataFrame(y[train_size+val_size+WINDOW-1:])"
      ]
    },
    {
      "cell_type": "code",
      "execution_count": null,
      "metadata": {
        "id": "BVxK0N1vB5W9"
      },
      "outputs": [],
      "source": [
        "test_y_df['predict']=predicts"
      ]
    },
    {
      "cell_type": "code",
      "execution_count": null,
      "metadata": {
        "id": "nXLLc2MLB5W9"
      },
      "outputs": [],
      "source": [
        "test_y_df['pos_quantile']=pd.qcut(test_y_df['predict'],[0,0.2,0.8,1],labels=False)-1\n",
        "test_y_df['pos_sign']=np.sign(test_y_df['predict'])"
      ]
    },
    {
      "cell_type": "code",
      "execution_count": null,
      "metadata": {
        "colab": {
          "base_uri": "https://localhost:8080/",
          "height": 175
        },
        "id": "lxeTNNXrB5W9",
        "outputId": "85df751e-752a-499a-d10d-a45cdde490be"
      },
      "outputs": [
        {
          "data": {
            "text/html": [
              "\n",
              "  <div id=\"df-32e76062-d232-4e6c-b60a-8f92c26b3236\" class=\"colab-df-container\">\n",
              "    <div>\n",
              "<style scoped>\n",
              "    .dataframe tbody tr th:only-of-type {\n",
              "        vertical-align: middle;\n",
              "    }\n",
              "\n",
              "    .dataframe tbody tr th {\n",
              "        vertical-align: top;\n",
              "    }\n",
              "\n",
              "    .dataframe thead th {\n",
              "        text-align: right;\n",
              "    }\n",
              "</style>\n",
              "<table border=\"1\" class=\"dataframe\">\n",
              "  <thead>\n",
              "    <tr style=\"text-align: right;\">\n",
              "      <th></th>\n",
              "      <th>label</th>\n",
              "      <th>predict</th>\n",
              "      <th>pos_quantile</th>\n",
              "      <th>pos_sign</th>\n",
              "    </tr>\n",
              "  </thead>\n",
              "  <tbody>\n",
              "    <tr>\n",
              "      <th>label</th>\n",
              "      <td>1.000000</td>\n",
              "      <td>-0.040978</td>\n",
              "      <td>-0.018002</td>\n",
              "      <td>NaN</td>\n",
              "    </tr>\n",
              "    <tr>\n",
              "      <th>predict</th>\n",
              "      <td>-0.040978</td>\n",
              "      <td>1.000000</td>\n",
              "      <td>0.866222</td>\n",
              "      <td>NaN</td>\n",
              "    </tr>\n",
              "    <tr>\n",
              "      <th>pos_quantile</th>\n",
              "      <td>-0.018002</td>\n",
              "      <td>0.866222</td>\n",
              "      <td>1.000000</td>\n",
              "      <td>NaN</td>\n",
              "    </tr>\n",
              "    <tr>\n",
              "      <th>pos_sign</th>\n",
              "      <td>NaN</td>\n",
              "      <td>NaN</td>\n",
              "      <td>NaN</td>\n",
              "      <td>NaN</td>\n",
              "    </tr>\n",
              "  </tbody>\n",
              "</table>\n",
              "</div>\n",
              "    <div class=\"colab-df-buttons\">\n",
              "\n",
              "  <div class=\"colab-df-container\">\n",
              "    <button class=\"colab-df-convert\" onclick=\"convertToInteractive('df-32e76062-d232-4e6c-b60a-8f92c26b3236')\"\n",
              "            title=\"Convert this dataframe to an interactive table.\"\n",
              "            style=\"display:none;\">\n",
              "\n",
              "  <svg xmlns=\"http://www.w3.org/2000/svg\" height=\"24px\" viewBox=\"0 -960 960 960\">\n",
              "    <path d=\"M120-120v-720h720v720H120Zm60-500h600v-160H180v160Zm220 220h160v-160H400v160Zm0 220h160v-160H400v160ZM180-400h160v-160H180v160Zm440 0h160v-160H620v160ZM180-180h160v-160H180v160Zm440 0h160v-160H620v160Z\"/>\n",
              "  </svg>\n",
              "    </button>\n",
              "\n",
              "  <style>\n",
              "    .colab-df-container {\n",
              "      display:flex;\n",
              "      gap: 12px;\n",
              "    }\n",
              "\n",
              "    .colab-df-convert {\n",
              "      background-color: #E8F0FE;\n",
              "      border: none;\n",
              "      border-radius: 50%;\n",
              "      cursor: pointer;\n",
              "      display: none;\n",
              "      fill: #1967D2;\n",
              "      height: 32px;\n",
              "      padding: 0 0 0 0;\n",
              "      width: 32px;\n",
              "    }\n",
              "\n",
              "    .colab-df-convert:hover {\n",
              "      background-color: #E2EBFA;\n",
              "      box-shadow: 0px 1px 2px rgba(60, 64, 67, 0.3), 0px 1px 3px 1px rgba(60, 64, 67, 0.15);\n",
              "      fill: #174EA6;\n",
              "    }\n",
              "\n",
              "    .colab-df-buttons div {\n",
              "      margin-bottom: 4px;\n",
              "    }\n",
              "\n",
              "    [theme=dark] .colab-df-convert {\n",
              "      background-color: #3B4455;\n",
              "      fill: #D2E3FC;\n",
              "    }\n",
              "\n",
              "    [theme=dark] .colab-df-convert:hover {\n",
              "      background-color: #434B5C;\n",
              "      box-shadow: 0px 1px 3px 1px rgba(0, 0, 0, 0.15);\n",
              "      filter: drop-shadow(0px 1px 2px rgba(0, 0, 0, 0.3));\n",
              "      fill: #FFFFFF;\n",
              "    }\n",
              "  </style>\n",
              "\n",
              "    <script>\n",
              "      const buttonEl =\n",
              "        document.querySelector('#df-32e76062-d232-4e6c-b60a-8f92c26b3236 button.colab-df-convert');\n",
              "      buttonEl.style.display =\n",
              "        google.colab.kernel.accessAllowed ? 'block' : 'none';\n",
              "\n",
              "      async function convertToInteractive(key) {\n",
              "        const element = document.querySelector('#df-32e76062-d232-4e6c-b60a-8f92c26b3236');\n",
              "        const dataTable =\n",
              "          await google.colab.kernel.invokeFunction('convertToInteractive',\n",
              "                                                    [key], {});\n",
              "        if (!dataTable) return;\n",
              "\n",
              "        const docLinkHtml = 'Like what you see? Visit the ' +\n",
              "          '<a target=\"_blank\" href=https://colab.research.google.com/notebooks/data_table.ipynb>data table notebook</a>'\n",
              "          + ' to learn more about interactive tables.';\n",
              "        element.innerHTML = '';\n",
              "        dataTable['output_type'] = 'display_data';\n",
              "        await google.colab.output.renderOutput(dataTable, element);\n",
              "        const docLink = document.createElement('div');\n",
              "        docLink.innerHTML = docLinkHtml;\n",
              "        element.appendChild(docLink);\n",
              "      }\n",
              "    </script>\n",
              "  </div>\n",
              "\n",
              "\n",
              "<div id=\"df-c6ceac4c-a866-4707-b8e8-b87e5b09d257\">\n",
              "  <button class=\"colab-df-quickchart\" onclick=\"quickchart('df-c6ceac4c-a866-4707-b8e8-b87e5b09d257')\"\n",
              "            title=\"Suggest charts\"\n",
              "            style=\"display:none;\">\n",
              "\n",
              "<svg xmlns=\"http://www.w3.org/2000/svg\" height=\"24px\"viewBox=\"0 0 24 24\"\n",
              "     width=\"24px\">\n",
              "    <g>\n",
              "        <path d=\"M19 3H5c-1.1 0-2 .9-2 2v14c0 1.1.9 2 2 2h14c1.1 0 2-.9 2-2V5c0-1.1-.9-2-2-2zM9 17H7v-7h2v7zm4 0h-2V7h2v10zm4 0h-2v-4h2v4z\"/>\n",
              "    </g>\n",
              "</svg>\n",
              "  </button>\n",
              "\n",
              "<style>\n",
              "  .colab-df-quickchart {\n",
              "      --bg-color: #E8F0FE;\n",
              "      --fill-color: #1967D2;\n",
              "      --hover-bg-color: #E2EBFA;\n",
              "      --hover-fill-color: #174EA6;\n",
              "      --disabled-fill-color: #AAA;\n",
              "      --disabled-bg-color: #DDD;\n",
              "  }\n",
              "\n",
              "  [theme=dark] .colab-df-quickchart {\n",
              "      --bg-color: #3B4455;\n",
              "      --fill-color: #D2E3FC;\n",
              "      --hover-bg-color: #434B5C;\n",
              "      --hover-fill-color: #FFFFFF;\n",
              "      --disabled-bg-color: #3B4455;\n",
              "      --disabled-fill-color: #666;\n",
              "  }\n",
              "\n",
              "  .colab-df-quickchart {\n",
              "    background-color: var(--bg-color);\n",
              "    border: none;\n",
              "    border-radius: 50%;\n",
              "    cursor: pointer;\n",
              "    display: none;\n",
              "    fill: var(--fill-color);\n",
              "    height: 32px;\n",
              "    padding: 0;\n",
              "    width: 32px;\n",
              "  }\n",
              "\n",
              "  .colab-df-quickchart:hover {\n",
              "    background-color: var(--hover-bg-color);\n",
              "    box-shadow: 0 1px 2px rgba(60, 64, 67, 0.3), 0 1px 3px 1px rgba(60, 64, 67, 0.15);\n",
              "    fill: var(--button-hover-fill-color);\n",
              "  }\n",
              "\n",
              "  .colab-df-quickchart-complete:disabled,\n",
              "  .colab-df-quickchart-complete:disabled:hover {\n",
              "    background-color: var(--disabled-bg-color);\n",
              "    fill: var(--disabled-fill-color);\n",
              "    box-shadow: none;\n",
              "  }\n",
              "\n",
              "  .colab-df-spinner {\n",
              "    border: 2px solid var(--fill-color);\n",
              "    border-color: transparent;\n",
              "    border-bottom-color: var(--fill-color);\n",
              "    animation:\n",
              "      spin 1s steps(1) infinite;\n",
              "  }\n",
              "\n",
              "  @keyframes spin {\n",
              "    0% {\n",
              "      border-color: transparent;\n",
              "      border-bottom-color: var(--fill-color);\n",
              "      border-left-color: var(--fill-color);\n",
              "    }\n",
              "    20% {\n",
              "      border-color: transparent;\n",
              "      border-left-color: var(--fill-color);\n",
              "      border-top-color: var(--fill-color);\n",
              "    }\n",
              "    30% {\n",
              "      border-color: transparent;\n",
              "      border-left-color: var(--fill-color);\n",
              "      border-top-color: var(--fill-color);\n",
              "      border-right-color: var(--fill-color);\n",
              "    }\n",
              "    40% {\n",
              "      border-color: transparent;\n",
              "      border-right-color: var(--fill-color);\n",
              "      border-top-color: var(--fill-color);\n",
              "    }\n",
              "    60% {\n",
              "      border-color: transparent;\n",
              "      border-right-color: var(--fill-color);\n",
              "    }\n",
              "    80% {\n",
              "      border-color: transparent;\n",
              "      border-right-color: var(--fill-color);\n",
              "      border-bottom-color: var(--fill-color);\n",
              "    }\n",
              "    90% {\n",
              "      border-color: transparent;\n",
              "      border-bottom-color: var(--fill-color);\n",
              "    }\n",
              "  }\n",
              "</style>\n",
              "\n",
              "  <script>\n",
              "    async function quickchart(key) {\n",
              "      const quickchartButtonEl =\n",
              "        document.querySelector('#' + key + ' button');\n",
              "      quickchartButtonEl.disabled = true;  // To prevent multiple clicks.\n",
              "      quickchartButtonEl.classList.add('colab-df-spinner');\n",
              "      try {\n",
              "        const charts = await google.colab.kernel.invokeFunction(\n",
              "            'suggestCharts', [key], {});\n",
              "      } catch (error) {\n",
              "        console.error('Error during call to suggestCharts:', error);\n",
              "      }\n",
              "      quickchartButtonEl.classList.remove('colab-df-spinner');\n",
              "      quickchartButtonEl.classList.add('colab-df-quickchart-complete');\n",
              "    }\n",
              "    (() => {\n",
              "      let quickchartButtonEl =\n",
              "        document.querySelector('#df-c6ceac4c-a866-4707-b8e8-b87e5b09d257 button');\n",
              "      quickchartButtonEl.style.display =\n",
              "        google.colab.kernel.accessAllowed ? 'block' : 'none';\n",
              "    })();\n",
              "  </script>\n",
              "</div>\n",
              "    </div>\n",
              "  </div>\n"
            ],
            "text/plain": [
              "                 label   predict  pos_quantile  pos_sign\n",
              "label         1.000000 -0.040978     -0.018002       NaN\n",
              "predict      -0.040978  1.000000      0.866222       NaN\n",
              "pos_quantile -0.018002  0.866222      1.000000       NaN\n",
              "pos_sign           NaN       NaN           NaN       NaN"
            ]
          },
          "execution_count": 187,
          "metadata": {},
          "output_type": "execute_result"
        }
      ],
      "source": [
        "test_y_df.corr()"
      ]
    },
    {
      "cell_type": "code",
      "execution_count": null,
      "metadata": {
        "colab": {
          "base_uri": "https://localhost:8080/",
          "height": 450
        },
        "id": "7hFOn3Z7B5W9",
        "outputId": "8523f6c6-4862-41f9-8bdc-10d0e2242f17"
      },
      "outputs": [
        {
          "data": {
            "text/plain": [
              "<Axes: xlabel='date'>"
            ]
          },
          "execution_count": 171,
          "metadata": {},
          "output_type": "execute_result"
        },
        {
          "data": {
            "image/png": "[encoded data removed]",
            "text/plain": [
              "<Figure size 640x480 with 1 Axes>"
            ]
          },
          "metadata": {},
          "output_type": "display_data"
        }
      ],
      "source": [
        "(test_y_df['pos_quantile']*test_y_df['label']).cumsum().plot()"
      ]
    },
    {
      "cell_type": "code",
      "execution_count": null,
      "metadata": {
        "id": "JDD7cwHx3TRO"
      },
      "outputs": [],
      "source": []
    }
  ],
  "metadata": {
    "accelerator": "GPU",
    "colab": {
      "gpuType": "T4",
      "provenance": [],
      "toc_visible": true
    },
    "kernelspec": {
      "display_name": "Python 3",
      "name": "python3"
    },
    "language_info": {
      "name": "python"
    },
    "widgets": {
      "application/vnd.jupyter.widget-state+json": {
        "015a10c76a234a928cd108f0eb2911fa": {
          "model_module": "@jupyter-widgets/controls",
          "model_module_version": "1.5.0",
          "model_name": "HBoxModel",
          "state": {
            "_dom_classes": [],
            "_model_module": "@jupyter-widgets/controls",
            "_model_module_version": "1.5.0",
            "_model_name": "HBoxModel",
            "_view_count": null,
            "_view_module": "@jupyter-widgets/controls",
            "_view_module_version": "1.5.0",
            "_view_name": "HBoxView",
            "box_style": "",
            "children": [
              "IPY_MODEL_eb4058a440b64f3aada205824b6bfa1c",
              "IPY_MODEL_8edded11063c4c999129011bc0ddf58f",
              "IPY_MODEL_b304d350180b4627a4fb265207787162"
            ],
            "layout": "IPY_MODEL_40a3f17c0bfe42b0b8d75ce7523e247c"
          }
        },
        "02ade52e99fc4c2683aa7f4433d5deeb": {
          "model_module": "@jupyter-widgets/controls",
          "model_module_version": "1.5.0",
          "model_name": "HBoxModel",
          "state": {
            "_dom_classes": [],
            "_model_module": "@jupyter-widgets/controls",
            "_model_module_version": "1.5.0",
            "_model_name": "HBoxModel",
            "_view_count": null,
            "_view_module": "@jupyter-widgets/controls",
            "_view_module_version": "1.5.0",
            "_view_name": "HBoxView",
            "box_style": "",
            "children": [
              "IPY_MODEL_bf3df52b32184578bc09e8230bbba94b",
              "IPY_MODEL_5dcce4bbd7424aef882b51beacfc3e97",
              "IPY_MODEL_1b79586358114f32b6cd7af3a68bfca5"
            ],
            "layout": "IPY_MODEL_cd1d1825b1544c8c9984304a8724f0a5"
          }
        },
        "0ee8dbe1e3fb403e97d53b733c6d6199": {
          "model_module": "@jupyter-widgets/controls",
          "model_module_version": "1.5.0",
          "model_name": "DescriptionStyleModel",
          "state": {
            "_model_module": "@jupyter-widgets/controls",
            "_model_module_version": "1.5.0",
            "_model_name": "DescriptionStyleModel",
            "_view_count": null,
            "_view_module": "@jupyter-widgets/base",
            "_view_module_version": "1.2.0",
            "_view_name": "StyleView",
            "description_width": ""
          }
        },
        "0feac6edf6224806bf570d78f6e6b2d2": {
          "model_module": "@jupyter-widgets/controls",
          "model_module_version": "1.5.0",
          "model_name": "FloatProgressModel",
          "state": {
            "_dom_classes": [],
            "_model_module": "@jupyter-widgets/controls",
            "_model_module_version": "1.5.0",
            "_model_name": "FloatProgressModel",
            "_view_count": null,
            "_view_module": "@jupyter-widgets/controls",
            "_view_module_version": "1.5.0",
            "_view_name": "ProgressView",
            "bar_style": "success",
            "description": "",
            "description_tooltip": null,
            "layout": "IPY_MODEL_2d8419728e024afca6d070e19f994415",
            "max": 533,
            "min": 0,
            "orientation": "horizontal",
            "style": "IPY_MODEL_241f62f31e8d4e2eb43c21746e9f9a11",
            "value": 533
          }
        },
        "102f7a8b933f49f5aa8aefe607ec805f": {
          "model_module": "@jupyter-widgets/controls",
          "model_module_version": "1.5.0",
          "model_name": "ProgressStyleModel",
          "state": {
            "_model_module": "@jupyter-widgets/controls",
            "_model_module_version": "1.5.0",
            "_model_name": "ProgressStyleModel",
            "_view_count": null,
            "_view_module": "@jupyter-widgets/base",
            "_view_module_version": "1.2.0",
            "_view_name": "StyleView",
            "bar_color": null,
            "description_width": ""
          }
        },
        "176d9f5e3a5f4ea9bc8fb3ac02969a6f": {
          "model_module": "@jupyter-widgets/controls",
          "model_module_version": "1.5.0",
          "model_name": "DescriptionStyleModel",
          "state": {
            "_model_module": "@jupyter-widgets/controls",
            "_model_module_version": "1.5.0",
            "_model_name": "DescriptionStyleModel",
            "_view_count": null,
            "_view_module": "@jupyter-widgets/base",
            "_view_module_version": "1.2.0",
            "_view_name": "StyleView",
            "description_width": ""
          }
        },
        "1b79586358114f32b6cd7af3a68bfca5": {
          "model_module": "@jupyter-widgets/controls",
          "model_module_version": "1.5.0",
          "model_name": "HTMLModel",
          "state": {
            "_dom_classes": [],
            "_model_module": "@jupyter-widgets/controls",
            "_model_module_version": "1.5.0",
            "_model_name": "HTMLModel",
            "_view_count": null,
            "_view_module": "@jupyter-widgets/controls",
            "_view_module_version": "1.5.0",
            "_view_name": "HTMLView",
            "description": "",
            "description_tooltip": null,
            "layout": "IPY_MODEL_97780dfab3594cd3b7b50cff4308e563",
            "placeholder": "​",
            "style": "IPY_MODEL_45f1d2136ea1459c9f060b95ba2b5391",
            "value": " 226k/226k [00:00&lt;00:00, 4.00MB/s]"
          }
        },
        "217001bea9f14db4aa00155c32f13622": {
          "model_module": "@jupyter-widgets/base",
          "model_module_version": "1.2.0",
          "model_name": "LayoutModel",
          "state": {
            "_model_module": "@jupyter-widgets/base",
            "_model_module_version": "1.2.0",
            "_model_name": "LayoutModel",
            "_view_count": null,
            "_view_module": "@jupyter-widgets/base",
            "_view_module_version": "1.2.0",
            "_view_name": "LayoutView",
            "align_content": null,
            "align_items": null,
            "align_self": null,
            "border": null,
            "bottom": null,
            "display": null,
            "flex": null,
            "flex_flow": null,
            "grid_area": null,
            "grid_auto_columns": null,
            "grid_auto_flow": null,
            "grid_auto_rows": null,
            "grid_column": null,
            "grid_gap": null,
            "grid_row": null,
            "grid_template_areas": null,
            "grid_template_columns": null,
            "grid_template_rows": null,
            "height": null,
            "justify_content": null,
            "justify_items": null,
            "left": null,
            "margin": null,
            "max_height": null,
            "max_width": null,
            "min_height": null,
            "min_width": null,
            "object_fit": null,
            "object_position": null,
            "order": null,
            "overflow": null,
            "overflow_x": null,
            "overflow_y": null,
            "padding": null,
            "right": null,
            "top": null,
            "visibility": null,
            "width": null
          }
        },
        "241f62f31e8d4e2eb43c21746e9f9a11": {
          "model_module": "@jupyter-widgets/controls",
          "model_module_version": "1.5.0",
          "model_name": "ProgressStyleModel",
          "state": {
            "_model_module": "@jupyter-widgets/controls",
            "_model_module_version": "1.5.0",
            "_model_name": "ProgressStyleModel",
            "_view_count": null,
            "_view_module": "@jupyter-widgets/base",
            "_view_module_version": "1.2.0",
            "_view_name": "StyleView",
            "bar_color": null,
            "description_width": ""
          }
        },
        "2d8419728e024afca6d070e19f994415": {
          "model_module": "@jupyter-widgets/base",
          "model_module_version": "1.2.0",
          "model_name": "LayoutModel",
          "state": {
            "_model_module": "@jupyter-widgets/base",
            "_model_module_version": "1.2.0",
            "_model_name": "LayoutModel",
            "_view_count": null,
            "_view_module": "@jupyter-widgets/base",
            "_view_module_version": "1.2.0",
            "_view_name": "LayoutView",
            "align_content": null,
            "align_items": null,
            "align_self": null,
            "border": null,
            "bottom": null,
            "display": null,
            "flex": null,
            "flex_flow": null,
            "grid_area": null,
            "grid_auto_columns": null,
            "grid_auto_flow": null,
            "grid_auto_rows": null,
            "grid_column": null,
            "grid_gap": null,
            "grid_row": null,
            "grid_template_areas": null,
            "grid_template_columns": null,
            "grid_template_rows": null,
            "height": null,
            "justify_content": null,
            "justify_items": null,
            "left": null,
            "margin": null,
            "max_height": null,
            "max_width": null,
            "min_height": null,
            "min_width": null,
            "object_fit": null,
            "object_position": null,
            "order": null,
            "overflow": null,
            "overflow_x": null,
            "overflow_y": null,
            "padding": null,
            "right": null,
            "top": null,
            "visibility": null,
            "width": null
          }
        },
        "40a3f17c0bfe42b0b8d75ce7523e247c": {
          "model_module": "@jupyter-widgets/base",
          "model_module_version": "1.2.0",
          "model_name": "LayoutModel",
          "state": {
            "_model_module": "@jupyter-widgets/base",
            "_model_module_version": "1.2.0",
            "_model_name": "LayoutModel",
            "_view_count": null,
            "_view_module": "@jupyter-widgets/base",
            "_view_module_version": "1.2.0",
            "_view_name": "LayoutView",
            "align_content": null,
            "align_items": null,
            "align_self": null,
            "border": null,
            "bottom": null,
            "display": null,
            "flex": null,
            "flex_flow": null,
            "grid_area": null,
            "grid_auto_columns": null,
            "grid_auto_flow": null,
            "grid_auto_rows": null,
            "grid_column": null,
            "grid_gap": null,
            "grid_row": null,
            "grid_template_areas": null,
            "grid_template_columns": null,
            "grid_template_rows": null,
            "height": null,
            "justify_content": null,
            "justify_items": null,
            "left": null,
            "margin": null,
            "max_height": null,
            "max_width": null,
            "min_height": null,
            "min_width": null,
            "object_fit": null,
            "object_position": null,
            "order": null,
            "overflow": null,
            "overflow_x": null,
            "overflow_y": null,
            "padding": null,
            "right": null,
            "top": null,
            "visibility": null,
            "width": null
          }
        },
        "45f1d2136ea1459c9f060b95ba2b5391": {
          "model_module": "@jupyter-widgets/controls",
          "model_module_version": "1.5.0",
          "model_name": "DescriptionStyleModel",
          "state": {
            "_model_module": "@jupyter-widgets/controls",
            "_model_module_version": "1.5.0",
            "_model_name": "DescriptionStyleModel",
            "_view_count": null,
            "_view_module": "@jupyter-widgets/base",
            "_view_module_version": "1.2.0",
            "_view_name": "StyleView",
            "description_width": ""
          }
        },
        "4e68bdb5f550466e88fc274d507fa559": {
          "model_module": "@jupyter-widgets/controls",
          "model_module_version": "1.5.0",
          "model_name": "HTMLModel",
          "state": {
            "_dom_classes": [],
            "_model_module": "@jupyter-widgets/controls",
            "_model_module_version": "1.5.0",
            "_model_name": "HTMLModel",
            "_view_count": null,
            "_view_module": "@jupyter-widgets/controls",
            "_view_module_version": "1.5.0",
            "_view_name": "HTMLView",
            "description": "",
            "description_tooltip": null,
            "layout": "IPY_MODEL_9330240ca3354dd5b444bef44de9a351",
            "placeholder": "​",
            "style": "IPY_MODEL_176d9f5e3a5f4ea9bc8fb3ac02969a6f",
            "value": "config.json: 100%"
          }
        },
        "5a6dd4db54af439cb1806fe7ece76669": {
          "model_module": "@jupyter-widgets/base",
          "model_module_version": "1.2.0",
          "model_name": "LayoutModel",
          "state": {
            "_model_module": "@jupyter-widgets/base",
            "_model_module_version": "1.2.0",
            "_model_name": "LayoutModel",
            "_view_count": null,
            "_view_module": "@jupyter-widgets/base",
            "_view_module_version": "1.2.0",
            "_view_name": "LayoutView",
            "align_content": null,
            "align_items": null,
            "align_self": null,
            "border": null,
            "bottom": null,
            "display": null,
            "flex": null,
            "flex_flow": null,
            "grid_area": null,
            "grid_auto_columns": null,
            "grid_auto_flow": null,
            "grid_auto_rows": null,
            "grid_column": null,
            "grid_gap": null,
            "grid_row": null,
            "grid_template_areas": null,
            "grid_template_columns": null,
            "grid_template_rows": null,
            "height": null,
            "justify_content": null,
            "justify_items": null,
            "left": null,
            "margin": null,
            "max_height": null,
            "max_width": null,
            "min_height": null,
            "min_width": null,
            "object_fit": null,
            "object_position": null,
            "order": null,
            "overflow": null,
            "overflow_x": null,
            "overflow_y": null,
            "padding": null,
            "right": null,
            "top": null,
            "visibility": null,
            "width": null
          }
        },
        "5dcce4bbd7424aef882b51beacfc3e97": {
          "model_module": "@jupyter-widgets/controls",
          "model_module_version": "1.5.0",
          "model_name": "FloatProgressModel",
          "state": {
            "_dom_classes": [],
            "_model_module": "@jupyter-widgets/controls",
            "_model_module_version": "1.5.0",
            "_model_name": "FloatProgressModel",
            "_view_count": null,
            "_view_module": "@jupyter-widgets/controls",
            "_view_module_version": "1.5.0",
            "_view_name": "ProgressView",
            "bar_style": "success",
            "description": "",
            "description_tooltip": null,
            "layout": "IPY_MODEL_d4fe9102d32149cdaa7b75c310a25d4e",
            "max": 226122,
            "min": 0,
            "orientation": "horizontal",
            "style": "IPY_MODEL_887c9f9b904c42cdb6efca1393e448d9",
            "value": 226122
          }
        },
        "887c9f9b904c42cdb6efca1393e448d9": {
          "model_module": "@jupyter-widgets/controls",
          "model_module_version": "1.5.0",
          "model_name": "ProgressStyleModel",
          "state": {
            "_model_module": "@jupyter-widgets/controls",
            "_model_module_version": "1.5.0",
            "_model_name": "ProgressStyleModel",
            "_view_count": null,
            "_view_module": "@jupyter-widgets/base",
            "_view_module_version": "1.2.0",
            "_view_name": "StyleView",
            "bar_color": null,
            "description_width": ""
          }
        },
        "8de5a07df7e64ca7befd1445d8163d99": {
          "model_module": "@jupyter-widgets/base",
          "model_module_version": "1.2.0",
          "model_name": "LayoutModel",
          "state": {
            "_model_module": "@jupyter-widgets/base",
            "_model_module_version": "1.2.0",
            "_model_name": "LayoutModel",
            "_view_count": null,
            "_view_module": "@jupyter-widgets/base",
            "_view_module_version": "1.2.0",
            "_view_name": "LayoutView",
            "align_content": null,
            "align_items": null,
            "align_self": null,
            "border": null,
            "bottom": null,
            "display": null,
            "flex": null,
            "flex_flow": null,
            "grid_area": null,
            "grid_auto_columns": null,
            "grid_auto_flow": null,
            "grid_auto_rows": null,
            "grid_column": null,
            "grid_gap": null,
            "grid_row": null,
            "grid_template_areas": null,
            "grid_template_columns": null,
            "grid_template_rows": null,
            "height": null,
            "justify_content": null,
            "justify_items": null,
            "left": null,
            "margin": null,
            "max_height": null,
            "max_width": null,
            "min_height": null,
            "min_width": null,
            "object_fit": null,
            "object_position": null,
            "order": null,
            "overflow": null,
            "overflow_x": null,
            "overflow_y": null,
            "padding": null,
            "right": null,
            "top": null,
            "visibility": null,
            "width": null
          }
        },
        "8edded11063c4c999129011bc0ddf58f": {
          "model_module": "@jupyter-widgets/controls",
          "model_module_version": "1.5.0",
          "model_name": "FloatProgressModel",
          "state": {
            "_dom_classes": [],
            "_model_module": "@jupyter-widgets/controls",
            "_model_module_version": "1.5.0",
            "_model_name": "FloatProgressModel",
            "_view_count": null,
            "_view_module": "@jupyter-widgets/controls",
            "_view_module_version": "1.5.0",
            "_view_name": "ProgressView",
            "bar_style": "success",
            "description": "",
            "description_tooltip": null,
            "layout": "IPY_MODEL_f3dfadfd186f4fc38721abfe92b981ac",
            "max": 439304476,
            "min": 0,
            "orientation": "horizontal",
            "style": "IPY_MODEL_102f7a8b933f49f5aa8aefe607ec805f",
            "value": 439304476
          }
        },
        "91e87a4504154a75ba9e9ffeacd4c4a4": {
          "model_module": "@jupyter-widgets/controls",
          "model_module_version": "1.5.0",
          "model_name": "DescriptionStyleModel",
          "state": {
            "_model_module": "@jupyter-widgets/controls",
            "_model_module_version": "1.5.0",
            "_model_name": "DescriptionStyleModel",
            "_view_count": null,
            "_view_module": "@jupyter-widgets/base",
            "_view_module_version": "1.2.0",
            "_view_name": "StyleView",
            "description_width": ""
          }
        },
        "9330240ca3354dd5b444bef44de9a351": {
          "model_module": "@jupyter-widgets/base",
          "model_module_version": "1.2.0",
          "model_name": "LayoutModel",
          "state": {
            "_model_module": "@jupyter-widgets/base",
            "_model_module_version": "1.2.0",
            "_model_name": "LayoutModel",
            "_view_count": null,
            "_view_module": "@jupyter-widgets/base",
            "_view_module_version": "1.2.0",
            "_view_name": "LayoutView",
            "align_content": null,
            "align_items": null,
            "align_self": null,
            "border": null,
            "bottom": null,
            "display": null,
            "flex": null,
            "flex_flow": null,
            "grid_area": null,
            "grid_auto_columns": null,
            "grid_auto_flow": null,
            "grid_auto_rows": null,
            "grid_column": null,
            "grid_gap": null,
            "grid_row": null,
            "grid_template_areas": null,
            "grid_template_columns": null,
            "grid_template_rows": null,
            "height": null,
            "justify_content": null,
            "justify_items": null,
            "left": null,
            "margin": null,
            "max_height": null,
            "max_width": null,
            "min_height": null,
            "min_width": null,
            "object_fit": null,
            "object_position": null,
            "order": null,
            "overflow": null,
            "overflow_x": null,
            "overflow_y": null,
            "padding": null,
            "right": null,
            "top": null,
            "visibility": null,
            "width": null
          }
        },
        "97780dfab3594cd3b7b50cff4308e563": {
          "model_module": "@jupyter-widgets/base",
          "model_module_version": "1.2.0",
          "model_name": "LayoutModel",
          "state": {
            "_model_module": "@jupyter-widgets/base",
            "_model_module_version": "1.2.0",
            "_model_name": "LayoutModel",
            "_view_count": null,
            "_view_module": "@jupyter-widgets/base",
            "_view_module_version": "1.2.0",
            "_view_name": "LayoutView",
            "align_content": null,
            "align_items": null,
            "align_self": null,
            "border": null,
            "bottom": null,
            "display": null,
            "flex": null,
            "flex_flow": null,
            "grid_area": null,
            "grid_auto_columns": null,
            "grid_auto_flow": null,
            "grid_auto_rows": null,
            "grid_column": null,
            "grid_gap": null,
            "grid_row": null,
            "grid_template_areas": null,
            "grid_template_columns": null,
            "grid_template_rows": null,
            "height": null,
            "justify_content": null,
            "justify_items": null,
            "left": null,
            "margin": null,
            "max_height": null,
            "max_width": null,
            "min_height": null,
            "min_width": null,
            "object_fit": null,
            "object_position": null,
            "order": null,
            "overflow": null,
            "overflow_x": null,
            "overflow_y": null,
            "padding": null,
            "right": null,
            "top": null,
            "visibility": null,
            "width": null
          }
        },
        "acea5520aea9445a88cba586709b0e20": {
          "model_module": "@jupyter-widgets/base",
          "model_module_version": "1.2.0",
          "model_name": "LayoutModel",
          "state": {
            "_model_module": "@jupyter-widgets/base",
            "_model_module_version": "1.2.0",
            "_model_name": "LayoutModel",
            "_view_count": null,
            "_view_module": "@jupyter-widgets/base",
            "_view_module_version": "1.2.0",
            "_view_name": "LayoutView",
            "align_content": null,
            "align_items": null,
            "align_self": null,
            "border": null,
            "bottom": null,
            "display": null,
            "flex": null,
            "flex_flow": null,
            "grid_area": null,
            "grid_auto_columns": null,
            "grid_auto_flow": null,
            "grid_auto_rows": null,
            "grid_column": null,
            "grid_gap": null,
            "grid_row": null,
            "grid_template_areas": null,
            "grid_template_columns": null,
            "grid_template_rows": null,
            "height": null,
            "justify_content": null,
            "justify_items": null,
            "left": null,
            "margin": null,
            "max_height": null,
            "max_width": null,
            "min_height": null,
            "min_width": null,
            "object_fit": null,
            "object_position": null,
            "order": null,
            "overflow": null,
            "overflow_x": null,
            "overflow_y": null,
            "padding": null,
            "right": null,
            "top": null,
            "visibility": null,
            "width": null
          }
        },
        "b304d350180b4627a4fb265207787162": {
          "model_module": "@jupyter-widgets/controls",
          "model_module_version": "1.5.0",
          "model_name": "HTMLModel",
          "state": {
            "_dom_classes": [],
            "_model_module": "@jupyter-widgets/controls",
            "_model_module_version": "1.5.0",
            "_model_name": "HTMLModel",
            "_view_count": null,
            "_view_module": "@jupyter-widgets/controls",
            "_view_module_version": "1.5.0",
            "_view_name": "HTMLView",
            "description": "",
            "description_tooltip": null,
            "layout": "IPY_MODEL_5a6dd4db54af439cb1806fe7ece76669",
            "placeholder": "​",
            "style": "IPY_MODEL_91e87a4504154a75ba9e9ffeacd4c4a4",
            "value": " 439M/439M [00:06&lt;00:00, 69.8MB/s]"
          }
        },
        "b6f7716b32b843bab3e4e07cdacdbaed": {
          "model_module": "@jupyter-widgets/base",
          "model_module_version": "1.2.0",
          "model_name": "LayoutModel",
          "state": {
            "_model_module": "@jupyter-widgets/base",
            "_model_module_version": "1.2.0",
            "_model_name": "LayoutModel",
            "_view_count": null,
            "_view_module": "@jupyter-widgets/base",
            "_view_module_version": "1.2.0",
            "_view_name": "LayoutView",
            "align_content": null,
            "align_items": null,
            "align_self": null,
            "border": null,
            "bottom": null,
            "display": null,
            "flex": null,
            "flex_flow": null,
            "grid_area": null,
            "grid_auto_columns": null,
            "grid_auto_flow": null,
            "grid_auto_rows": null,
            "grid_column": null,
            "grid_gap": null,
            "grid_row": null,
            "grid_template_areas": null,
            "grid_template_columns": null,
            "grid_template_rows": null,
            "height": null,
            "justify_content": null,
            "justify_items": null,
            "left": null,
            "margin": null,
            "max_height": null,
            "max_width": null,
            "min_height": null,
            "min_width": null,
            "object_fit": null,
            "object_position": null,
            "order": null,
            "overflow": null,
            "overflow_x": null,
            "overflow_y": null,
            "padding": null,
            "right": null,
            "top": null,
            "visibility": null,
            "width": null
          }
        },
        "be4c2ec394644bbc8e3ee7937af43e3b": {
          "model_module": "@jupyter-widgets/controls",
          "model_module_version": "1.5.0",
          "model_name": "HBoxModel",
          "state": {
            "_dom_classes": [],
            "_model_module": "@jupyter-widgets/controls",
            "_model_module_version": "1.5.0",
            "_model_name": "HBoxModel",
            "_view_count": null,
            "_view_module": "@jupyter-widgets/controls",
            "_view_module_version": "1.5.0",
            "_view_name": "HBoxView",
            "box_style": "",
            "children": [
              "IPY_MODEL_4e68bdb5f550466e88fc274d507fa559",
              "IPY_MODEL_0feac6edf6224806bf570d78f6e6b2d2",
              "IPY_MODEL_ef6870fb7c604c77bd24747e85b84f86"
            ],
            "layout": "IPY_MODEL_acea5520aea9445a88cba586709b0e20"
          }
        },
        "bf3df52b32184578bc09e8230bbba94b": {
          "model_module": "@jupyter-widgets/controls",
          "model_module_version": "1.5.0",
          "model_name": "HTMLModel",
          "state": {
            "_dom_classes": [],
            "_model_module": "@jupyter-widgets/controls",
            "_model_module_version": "1.5.0",
            "_model_name": "HTMLModel",
            "_view_count": null,
            "_view_module": "@jupyter-widgets/controls",
            "_view_module_version": "1.5.0",
            "_view_name": "HTMLView",
            "description": "",
            "description_tooltip": null,
            "layout": "IPY_MODEL_217001bea9f14db4aa00155c32f13622",
            "placeholder": "​",
            "style": "IPY_MODEL_e60a7db4cbf14a00a9dfd3a6c922fc42",
            "value": "vocab.txt: 100%"
          }
        },
        "cd1d1825b1544c8c9984304a8724f0a5": {
          "model_module": "@jupyter-widgets/base",
          "model_module_version": "1.2.0",
          "model_name": "LayoutModel",
          "state": {
            "_model_module": "@jupyter-widgets/base",
            "_model_module_version": "1.2.0",
            "_model_name": "LayoutModel",
            "_view_count": null,
            "_view_module": "@jupyter-widgets/base",
            "_view_module_version": "1.2.0",
            "_view_name": "LayoutView",
            "align_content": null,
            "align_items": null,
            "align_self": null,
            "border": null,
            "bottom": null,
            "display": null,
            "flex": null,
            "flex_flow": null,
            "grid_area": null,
            "grid_auto_columns": null,
            "grid_auto_flow": null,
            "grid_auto_rows": null,
            "grid_column": null,
            "grid_gap": null,
            "grid_row": null,
            "grid_template_areas": null,
            "grid_template_columns": null,
            "grid_template_rows": null,
            "height": null,
            "justify_content": null,
            "justify_items": null,
            "left": null,
            "margin": null,
            "max_height": null,
            "max_width": null,
            "min_height": null,
            "min_width": null,
            "object_fit": null,
            "object_position": null,
            "order": null,
            "overflow": null,
            "overflow_x": null,
            "overflow_y": null,
            "padding": null,
            "right": null,
            "top": null,
            "visibility": null,
            "width": null
          }
        },
        "d4fe9102d32149cdaa7b75c310a25d4e": {
          "model_module": "@jupyter-widgets/base",
          "model_module_version": "1.2.0",
          "model_name": "LayoutModel",
          "state": {
            "_model_module": "@jupyter-widgets/base",
            "_model_module_version": "1.2.0",
            "_model_name": "LayoutModel",
            "_view_count": null,
            "_view_module": "@jupyter-widgets/base",
            "_view_module_version": "1.2.0",
            "_view_name": "LayoutView",
            "align_content": null,
            "align_items": null,
            "align_self": null,
            "border": null,
            "bottom": null,
            "display": null,
            "flex": null,
            "flex_flow": null,
            "grid_area": null,
            "grid_auto_columns": null,
            "grid_auto_flow": null,
            "grid_auto_rows": null,
            "grid_column": null,
            "grid_gap": null,
            "grid_row": null,
            "grid_template_areas": null,
            "grid_template_columns": null,
            "grid_template_rows": null,
            "height": null,
            "justify_content": null,
            "justify_items": null,
            "left": null,
            "margin": null,
            "max_height": null,
            "max_width": null,
            "min_height": null,
            "min_width": null,
            "object_fit": null,
            "object_position": null,
            "order": null,
            "overflow": null,
            "overflow_x": null,
            "overflow_y": null,
            "padding": null,
            "right": null,
            "top": null,
            "visibility": null,
            "width": null
          }
        },
        "e60a7db4cbf14a00a9dfd3a6c922fc42": {
          "model_module": "@jupyter-widgets/controls",
          "model_module_version": "1.5.0",
          "model_name": "DescriptionStyleModel",
          "state": {
            "_model_module": "@jupyter-widgets/controls",
            "_model_module_version": "1.5.0",
            "_model_name": "DescriptionStyleModel",
            "_view_count": null,
            "_view_module": "@jupyter-widgets/base",
            "_view_module_version": "1.2.0",
            "_view_name": "StyleView",
            "description_width": ""
          }
        },
        "e76d3065e3d748b4b850aa6561042cc3": {
          "model_module": "@jupyter-widgets/controls",
          "model_module_version": "1.5.0",
          "model_name": "DescriptionStyleModel",
          "state": {
            "_model_module": "@jupyter-widgets/controls",
            "_model_module_version": "1.5.0",
            "_model_name": "DescriptionStyleModel",
            "_view_count": null,
            "_view_module": "@jupyter-widgets/base",
            "_view_module_version": "1.2.0",
            "_view_name": "StyleView",
            "description_width": ""
          }
        },
        "eb4058a440b64f3aada205824b6bfa1c": {
          "model_module": "@jupyter-widgets/controls",
          "model_module_version": "1.5.0",
          "model_name": "HTMLModel",
          "state": {
            "_dom_classes": [],
            "_model_module": "@jupyter-widgets/controls",
            "_model_module_version": "1.5.0",
            "_model_name": "HTMLModel",
            "_view_count": null,
            "_view_module": "@jupyter-widgets/controls",
            "_view_module_version": "1.5.0",
            "_view_name": "HTMLView",
            "description": "",
            "description_tooltip": null,
            "layout": "IPY_MODEL_b6f7716b32b843bab3e4e07cdacdbaed",
            "placeholder": "​",
            "style": "IPY_MODEL_e76d3065e3d748b4b850aa6561042cc3",
            "value": "tf_model.h5: 100%"
          }
        },
        "ef6870fb7c604c77bd24747e85b84f86": {
          "model_module": "@jupyter-widgets/controls",
          "model_module_version": "1.5.0",
          "model_name": "HTMLModel",
          "state": {
            "_dom_classes": [],
            "_model_module": "@jupyter-widgets/controls",
            "_model_module_version": "1.5.0",
            "_model_name": "HTMLModel",
            "_view_count": null,
            "_view_module": "@jupyter-widgets/controls",
            "_view_module_version": "1.5.0",
            "_view_name": "HTMLView",
            "description": "",
            "description_tooltip": null,
            "layout": "IPY_MODEL_8de5a07df7e64ca7befd1445d8163d99",
            "placeholder": "​",
            "style": "IPY_MODEL_0ee8dbe1e3fb403e97d53b733c6d6199",
            "value": " 533/533 [00:00&lt;00:00, 25.1kB/s]"
          }
        },
        "f3dfadfd186f4fc38721abfe92b981ac": {
          "model_module": "@jupyter-widgets/base",
          "model_module_version": "1.2.0",
          "model_name": "LayoutModel",
          "state": {
            "_model_module": "@jupyter-widgets/base",
            "_model_module_version": "1.2.0",
            "_model_name": "LayoutModel",
            "_view_count": null,
            "_view_module": "@jupyter-widgets/base",
            "_view_module_version": "1.2.0",
            "_view_name": "LayoutView",
            "align_content": null,
            "align_items": null,
            "align_self": null,
            "border": null,
            "bottom": null,
            "display": null,
            "flex": null,
            "flex_flow": null,
            "grid_area": null,
            "grid_auto_columns": null,
            "grid_auto_flow": null,
            "grid_auto_rows": null,
            "grid_column": null,
            "grid_gap": null,
            "grid_row": null,
            "grid_template_areas": null,
            "grid_template_columns": null,
            "grid_template_rows": null,
            "height": null,
            "justify_content": null,
            "justify_items": null,
            "left": null,
            "margin": null,
            "max_height": null,
            "max_width": null,
            "min_height": null,
            "min_width": null,
            "object_fit": null,
            "object_position": null,
            "order": null,
            "overflow": null,
            "overflow_x": null,
            "overflow_y": null,
            "padding": null,
            "right": null,
            "top": null,
            "visibility": null,
            "width": null
          }
        }
      }
    }
  },
  "nbformat": 4,
  "nbformat_minor": 0
}

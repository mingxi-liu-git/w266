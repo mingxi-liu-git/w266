{
  "cells": [
    {
      "cell_type": "code",
      "execution_count": 1,
      "metadata": {
        "colab": {
          "base_uri": "https://localhost:8080/"
        },
        "id": "fK2yaH_ayaSL",
        "outputId": "7438dc50-b598-4f42-fd68-b4b915c3a6df"
      },
      "outputs": [
        {
          "name": "stdout",
          "output_type": "stream",
          "text": [
            "Mounted at /content/drive\n"
          ]
        }
      ],
      "source": [
        "from google.colab import drive\n",
        "drive.mount('/content/drive')"
      ]
    },
    {
      "cell_type": "code",
      "execution_count": 2,
      "metadata": {
        "id": "1VwXwm4Wyc82"
      },
      "outputs": [],
      "source": [
        "import os\n",
        "os.chdir('/content/drive/MyDrive/Colab Notebooks/w266')"
      ]
    },
    {
      "cell_type": "code",
      "execution_count": null,
      "metadata": {},
      "outputs": [],
      "source": [
        "import os\n",
        "os.chdir('/content/drive/MyDrive/Colab Notebooks/w266')"
      ]
    },
    {
      "cell_type": "code",
      "execution_count": 1,
      "metadata": {
        "id": "gFCMPiSicer6"
      },
      "outputs": [],
      "source": [
        "import sys\n",
        "import os\n",
        "import json\n",
        "import re\n",
        "\n",
        "import pandas as pd\n",
        "import numpy as np"
      ]
    },
    {
      "cell_type": "code",
      "execution_count": 8,
      "metadata": {
        "id": "A7DKGab_cer7"
      },
      "outputs": [],
      "source": [
        "os.chdir(r'/Users/thebobs/Downloads/stocknet-dataset/tweet/raw')"
      ]
    },
    {
      "cell_type": "markdown",
      "metadata": {},
      "source": [
        "# preprocessing tweets"
      ]
    },
    {
      "cell_type": "code",
      "execution_count": 5,
      "metadata": {
        "id": "40N6jJcpcer7"
      },
      "outputs": [],
      "source": [
        "def clean(tweet):\n",
        "    # tweet = re.sub(r'http\\S+|www\\S+|@\\S+|#\\S+|[^A-Za-z\\s]', '', tweet)\n",
        "    tweet = re.sub(r'http\\S+', '', tweet)\n",
        "    tweet = re.sub('(@[A-Za-z]+[A-Za-z0-9-_]+)', '', tweet)\n",
        "    tweet=re.sub(r\"#(\\w+)\",'', tweet)\n",
        "    tweet = re.sub('([_]+)', \"\", tweet)\n",
        "    if not re.search(r'[.,!?;:\"]$',tweet[-1]):\n",
        "        tweet+=\". \"\n",
        "    return tweet"
      ]
    },
    {
      "cell_type": "code",
      "execution_count": 156,
      "metadata": {
        "id": "eWFJetnJcer7"
      },
      "outputs": [],
      "source": [
        "def extract(ticker,date):\n",
        "    data=[]\n",
        "    with open(f'/Users/thebobs/Downloads/stocknet-dataset/tweet/raw/{ticker}/{date}') as f:\n",
        "        for line in f:\n",
        "            j=json.loads(line)\n",
        "            if not 'retweeted_status' in j:\n",
        "                text=clean(j['text'])\n",
        "                if len(re.findall(r'\\b\\w+\\b', text))>=10:\n",
        "                    data.append((date,text,ticker))\n",
        "    return data"
      ]
    },
    {
      "cell_type": "code",
      "execution_count": 157,
      "metadata": {
        "id": "BceCdcR8cer7"
      },
      "outputs": [],
      "source": [
        "def extract_ticker_all(ticker):\n",
        "    if not ticker.startswith(\".\"):\n",
        "        data=[]\n",
        "        for date in os.listdir(f'/Users/thebobs/Downloads/stocknet-dataset/tweet/raw/{ticker}'):\n",
        "            data+=extract(ticker,date)\n",
        "        return pd.DataFrame(data,columns=['date','tweets','ticker'])"
      ]
    },
    {
      "cell_type": "code",
      "execution_count": 158,
      "metadata": {},
      "outputs": [
        {
          "data": {
            "text/html": [
              "<div>\n",
              "<style scoped>\n",
              "    .dataframe tbody tr th:only-of-type {\n",
              "        vertical-align: middle;\n",
              "    }\n",
              "\n",
              "    .dataframe tbody tr th {\n",
              "        vertical-align: top;\n",
              "    }\n",
              "\n",
              "    .dataframe thead th {\n",
              "        text-align: right;\n",
              "    }\n",
              "</style>\n",
              "<table border=\"1\" class=\"dataframe\">\n",
              "  <thead>\n",
              "    <tr style=\"text-align: right;\">\n",
              "      <th></th>\n",
              "      <th>date</th>\n",
              "      <th>tweets</th>\n",
              "      <th>ticker</th>\n",
              "    </tr>\n",
              "  </thead>\n",
              "  <tbody>\n",
              "    <tr>\n",
              "      <th>0</th>\n",
              "      <td>2014-10-14</td>\n",
              "      <td>$AAPL - Retail Sales Seen Down 0.1%--Data Week...</td>\n",
              "      <td>AAPL</td>\n",
              "    </tr>\n",
              "    <tr>\n",
              "      <th>1</th>\n",
              "      <td>2014-10-14</td>\n",
              "      <td>Skeptics ask, \"How many more devices can Apple...</td>\n",
              "      <td>AAPL</td>\n",
              "    </tr>\n",
              "    <tr>\n",
              "      <th>2</th>\n",
              "      <td>2014-10-14</td>\n",
              "      <td>$AAPL News: \"14 Undervalued Investment Ideas A...</td>\n",
              "      <td>AAPL</td>\n",
              "    </tr>\n",
              "    <tr>\n",
              "      <th>3</th>\n",
              "      <td>2014-10-14</td>\n",
              "      <td>$S SPRINT will let U lease iPhone 6 or 6 Plus ...</td>\n",
              "      <td>AAPL</td>\n",
              "    </tr>\n",
              "    <tr>\n",
              "      <th>4</th>\n",
              "      <td>2014-10-14</td>\n",
              "      <td>Sell $AAPL!!! Make 100% a year using our 'Top ...</td>\n",
              "      <td>AAPL</td>\n",
              "    </tr>\n",
              "    <tr>\n",
              "      <th>...</th>\n",
              "      <td>...</td>\n",
              "      <td>...</td>\n",
              "      <td>...</td>\n",
              "    </tr>\n",
              "    <tr>\n",
              "      <th>10168</th>\n",
              "      <td>2015-09-13</td>\n",
              "      <td>RT Sourcingstocks:  had great calls on $TWTR, ...</td>\n",
              "      <td>AAPL</td>\n",
              "    </tr>\n",
              "    <tr>\n",
              "      <th>10169</th>\n",
              "      <td>2015-09-13</td>\n",
              "      <td>richytee Bourne2Prosper mmnnyy1111 IGPJay zing...</td>\n",
              "      <td>AAPL</td>\n",
              "    </tr>\n",
              "    <tr>\n",
              "      <th>10170</th>\n",
              "      <td>2015-09-13</td>\n",
              "      <td>DoktaRufas iSonnySood TraderFTW Ziggityzola Se...</td>\n",
              "      <td>AAPL</td>\n",
              "    </tr>\n",
              "    <tr>\n",
              "      <th>10171</th>\n",
              "      <td>2015-09-13</td>\n",
              "      <td>AntonioJesusDR AbdHakeemSabani JHarfordTyrer H...</td>\n",
              "      <td>AAPL</td>\n",
              "    </tr>\n",
              "    <tr>\n",
              "      <th>10172</th>\n",
              "      <td>2015-09-13</td>\n",
              "      <td>RT Sandropower: $AAPL I will be making a speci...</td>\n",
              "      <td>AAPL</td>\n",
              "    </tr>\n",
              "  </tbody>\n",
              "</table>\n",
              "<p>10173 rows × 3 columns</p>\n",
              "</div>"
            ],
            "text/plain": [
              "             date                                             tweets ticker\n",
              "0      2014-10-14  $AAPL - Retail Sales Seen Down 0.1%--Data Week...   AAPL\n",
              "1      2014-10-14  Skeptics ask, \"How many more devices can Apple...   AAPL\n",
              "2      2014-10-14  $AAPL News: \"14 Undervalued Investment Ideas A...   AAPL\n",
              "3      2014-10-14  $S SPRINT will let U lease iPhone 6 or 6 Plus ...   AAPL\n",
              "4      2014-10-14  Sell $AAPL!!! Make 100% a year using our 'Top ...   AAPL\n",
              "...           ...                                                ...    ...\n",
              "10168  2015-09-13  RT Sourcingstocks:  had great calls on $TWTR, ...   AAPL\n",
              "10169  2015-09-13  richytee Bourne2Prosper mmnnyy1111 IGPJay zing...   AAPL\n",
              "10170  2015-09-13  DoktaRufas iSonnySood TraderFTW Ziggityzola Se...   AAPL\n",
              "10171  2015-09-13  AntonioJesusDR AbdHakeemSabani JHarfordTyrer H...   AAPL\n",
              "10172  2015-09-13  RT Sandropower: $AAPL I will be making a speci...   AAPL\n",
              "\n",
              "[10173 rows x 3 columns]"
            ]
          },
          "execution_count": 158,
          "metadata": {},
          "output_type": "execute_result"
        }
      ],
      "source": [
        "extract_ticker_all(\"AAPL\")"
      ]
    },
    {
      "cell_type": "code",
      "execution_count": 25,
      "metadata": {
        "id": "bFakCLM4cer8"
      },
      "outputs": [],
      "source": [
        "# for ticker in os.listdir()[2:]:\n",
        "#     if not ticker.startswith('.'):\n",
        "#         data=extract_ticker_all(ticker)\n",
        "#         data.to_csv(f'../clean/{ticker}.csv',index=False)\n"
      ]
    },
    {
      "cell_type": "code",
      "execution_count": 159,
      "metadata": {},
      "outputs": [],
      "source": [
        "tweet_all=pd.concat([extract_ticker_all(i) for i in os.listdir(f'/Users/thebobs/Downloads/stocknet-dataset/tweet/raw/')])"
      ]
    },
    {
      "cell_type": "code",
      "execution_count": 162,
      "metadata": {},
      "outputs": [
        {
          "data": {
            "text/html": [
              "<div>\n",
              "<style scoped>\n",
              "    .dataframe tbody tr th:only-of-type {\n",
              "        vertical-align: middle;\n",
              "    }\n",
              "\n",
              "    .dataframe tbody tr th {\n",
              "        vertical-align: top;\n",
              "    }\n",
              "\n",
              "    .dataframe thead th {\n",
              "        text-align: right;\n",
              "    }\n",
              "</style>\n",
              "<table border=\"1\" class=\"dataframe\">\n",
              "  <thead>\n",
              "    <tr style=\"text-align: right;\">\n",
              "      <th></th>\n",
              "      <th>date</th>\n",
              "      <th>tweets</th>\n",
              "      <th>ticker</th>\n",
              "    </tr>\n",
              "  </thead>\n",
              "  <tbody>\n",
              "    <tr>\n",
              "      <th>20</th>\n",
              "      <td>2016-01-20</td>\n",
              "      <td>This Stock Has A 9.93% Yield And Sells For Les...</td>\n",
              "      <td>CODI</td>\n",
              "    </tr>\n",
              "    <tr>\n",
              "      <th>21</th>\n",
              "      <td>2014-09-07</td>\n",
              "      <td>Stock Contest!! Pick $GOOGL and WIN a FREE Tab...</td>\n",
              "      <td>CODI</td>\n",
              "    </tr>\n",
              "    <tr>\n",
              "      <th>22</th>\n",
              "      <td>2015-05-18</td>\n",
              "      <td>CODI Compass Diversified Holdings 52Wk Low\\nCl...</td>\n",
              "      <td>CODI</td>\n",
              "    </tr>\n",
              "    <tr>\n",
              "      <th>23</th>\n",
              "      <td>2014-08-09</td>\n",
              "      <td>$CODI COMPASS DIVERSIFIED HOLDINGS Files SEC f...</td>\n",
              "      <td>CODI</td>\n",
              "    </tr>\n",
              "    <tr>\n",
              "      <th>24</th>\n",
              "      <td>2015-11-11</td>\n",
              "      <td>Compass Diversified Holdings Stock Rating Reaf...</td>\n",
              "      <td>CODI</td>\n",
              "    </tr>\n",
              "  </tbody>\n",
              "</table>\n",
              "</div>"
            ],
            "text/plain": [
              "          date                                             tweets ticker\n",
              "20  2016-01-20  This Stock Has A 9.93% Yield And Sells For Les...   CODI\n",
              "21  2014-09-07  Stock Contest!! Pick $GOOGL and WIN a FREE Tab...   CODI\n",
              "22  2015-05-18  CODI Compass Diversified Holdings 52Wk Low\\nCl...   CODI\n",
              "23  2014-08-09  $CODI COMPASS DIVERSIFIED HOLDINGS Files SEC f...   CODI\n",
              "24  2015-11-11  Compass Diversified Holdings Stock Rating Reaf...   CODI"
            ]
          },
          "execution_count": 162,
          "metadata": {},
          "output_type": "execute_result"
        }
      ],
      "source": [
        "tweet_all.tail()"
      ]
    },
    {
      "cell_type": "code",
      "execution_count": 167,
      "metadata": {},
      "outputs": [],
      "source": [
        "tweet_all.dropna().sort_values(['ticker','date']).to_csv('tweets_all.csv',index=False)"
      ]
    },
    {
      "cell_type": "code",
      "execution_count": 164,
      "metadata": {},
      "outputs": [
        {
          "data": {
            "text/plain": [
              "(62677, 3)"
            ]
          },
          "execution_count": 164,
          "metadata": {},
          "output_type": "execute_result"
        }
      ],
      "source": [
        "tweet_all.dropna().shape"
      ]
    },
    {
      "cell_type": "markdown",
      "metadata": {},
      "source": [
        "# preprocess price"
      ]
    },
    {
      "cell_type": "code",
      "execution_count": 32,
      "metadata": {
        "id": "BZaZ5pEGcer8"
      },
      "outputs": [],
      "source": [
        "os.chdir(r'/Users/thebobs/Downloads/stocknet-dataset/price/raw')"
      ]
    },
    {
      "cell_type": "code",
      "execution_count": 33,
      "metadata": {
        "id": "-6Y-5tO3cer9"
      },
      "outputs": [],
      "source": [
        "data_all=[]\n",
        "for i in os.listdir():\n",
        "    data_all.append(pd.read_csv(i,index_col=0,parse_dates=True)['Adj Close'].rename(i[:-4]))\n",
        "p=pd.concat(data_all,axis=1)"
      ]
    },
    {
      "cell_type": "code",
      "execution_count": 168,
      "metadata": {
        "id": "E_Ga7mQkcer9",
        "outputId": "7208ae55-096b-4c7e-fc9b-876eb371d6b9"
      },
      "outputs": [
        {
          "data": {
            "text/plain": [
              "(1258, 88)"
            ]
          },
          "execution_count": 168,
          "metadata": {},
          "output_type": "execute_result"
        }
      ],
      "source": [
        "p.shape"
      ]
    },
    {
      "cell_type": "code",
      "execution_count": null,
      "metadata": {},
      "outputs": [],
      "source": [
        "p.to_csv('price.csv')"
      ]
    },
    {
      "cell_type": "code",
      "execution_count": 36,
      "metadata": {
        "id": "1LXOQqbJcer9"
      },
      "outputs": [],
      "source": [
        "r_now=np.log(p).diff()\n",
        "r_next=np.log(p).diff(2).shift(-2)"
      ]
    },
    {
      "cell_type": "code",
      "execution_count": 37,
      "metadata": {
        "id": "jiOHBTIQcer9"
      },
      "outputs": [],
      "source": [
        "def zscore(data):\n",
        "    return (data-data.mean())/data.std()"
      ]
    },
    {
      "cell_type": "code",
      "execution_count": 38,
      "metadata": {
        "id": "tiDdardTcer9"
      },
      "outputs": [],
      "source": [
        "r_now=zscore(r_now)\n",
        "r_next=zscore(r_next)"
      ]
    },
    {
      "cell_type": "code",
      "execution_count": 42,
      "metadata": {
        "id": "B58Z-1Iicer-"
      },
      "outputs": [],
      "source": [
        "os.chdir('..')"
      ]
    },
    {
      "cell_type": "code",
      "execution_count": 43,
      "metadata": {
        "id": "y_-A5jxXcer-",
        "outputId": "16688b2a-5528-4a57-d38c-c8cf44a4a6b6"
      },
      "outputs": [
        {
          "data": {
            "text/plain": [
              "'/Users/thebobs/Downloads/stocknet-dataset'"
            ]
          },
          "execution_count": 43,
          "metadata": {},
          "output_type": "execute_result"
        }
      ],
      "source": [
        "os.getcwd()"
      ]
    },
    {
      "cell_type": "code",
      "execution_count": 67,
      "metadata": {},
      "outputs": [],
      "source": [
        "t=pd.read_csv(f'tweet/clean/{ticker}.csv',index_col=0,parse_dates=True)"
      ]
    },
    {
      "cell_type": "code",
      "execution_count": 70,
      "metadata": {},
      "outputs": [
        {
          "data": {
            "text/plain": [
              "Index(['tweets'], dtype='object')"
            ]
          },
          "execution_count": 70,
          "metadata": {},
          "output_type": "execute_result"
        }
      ],
      "source": [
        "t.columns"
      ]
    },
    {
      "cell_type": "code",
      "execution_count": 94,
      "metadata": {
        "id": "Buj_ZgBxcer-"
      },
      "outputs": [],
      "source": [
        "def match_text_label(ticker,r_now,r_next):\n",
        "    try:\n",
        "        tweets=extract_ticker_all(ticker)\n",
        "        tweets['date']=pd.to_datetime(tweets['date'])\n",
        "    except FileNotFoundError:\n",
        "        return\n",
        "    merged=tweets.merge(r_now[ticker].rename('r_now').reset_index(),left_on='date', right_on='Date').drop('Date',axis=1)\n",
        "    final=merged.merge(r_next[ticker].rename('r_next').reset_index(),left_on='date', right_on='Date').drop('Date',axis=1)\n",
        "    final['ticker']=ticker\n",
        "    return final"
      ]
    },
    {
      "cell_type": "code",
      "execution_count": 95,
      "metadata": {},
      "outputs": [
        {
          "data": {
            "text/html": [
              "<div>\n",
              "<style scoped>\n",
              "    .dataframe tbody tr th:only-of-type {\n",
              "        vertical-align: middle;\n",
              "    }\n",
              "\n",
              "    .dataframe tbody tr th {\n",
              "        vertical-align: top;\n",
              "    }\n",
              "\n",
              "    .dataframe thead th {\n",
              "        text-align: right;\n",
              "    }\n",
              "</style>\n",
              "<table border=\"1\" class=\"dataframe\">\n",
              "  <thead>\n",
              "    <tr style=\"text-align: right;\">\n",
              "      <th></th>\n",
              "      <th>date</th>\n",
              "      <th>tweets</th>\n",
              "      <th>r_now</th>\n",
              "      <th>r_next</th>\n",
              "      <th>ticker</th>\n",
              "    </tr>\n",
              "  </thead>\n",
              "  <tbody>\n",
              "    <tr>\n",
              "      <th>0</th>\n",
              "      <td>2014-10-14</td>\n",
              "      <td>La deuda de Yacyreta es de casi U$D 18 mil mil...</td>\n",
              "      <td>-2.701183</td>\n",
              "      <td>-0.282104</td>\n",
              "      <td>D</td>\n",
              "    </tr>\n",
              "    <tr>\n",
              "      <th>1</th>\n",
              "      <td>2016-03-03</td>\n",
              "      <td>Simmons First Trust Co. NA Purchases Shares of...</td>\n",
              "      <td>1.733848</td>\n",
              "      <td>1.199413</td>\n",
              "      <td>D</td>\n",
              "    </tr>\n",
              "    <tr>\n",
              "      <th>2</th>\n",
              "      <td>2015-05-07</td>\n",
              "      <td>;8B;X&amp;amp;u4/bC=WNz&amp;lt;J-QdB{2Y&amp;gt;Bik1;SIg$=F...</td>\n",
              "      <td>0.267350</td>\n",
              "      <td>0.013681</td>\n",
              "      <td>D</td>\n",
              "    </tr>\n",
              "    <tr>\n",
              "      <th>3</th>\n",
              "      <td>2014-08-20</td>\n",
              "      <td>\": Jackelin Farias deberia explicar donde esta...</td>\n",
              "      <td>0.039994</td>\n",
              "      <td>-0.214766</td>\n",
              "      <td>D</td>\n",
              "    </tr>\n",
              "    <tr>\n",
              "      <th>4</th>\n",
              "      <td>2014-08-20</td>\n",
              "      <td>$B$D$P6eO:JFJ[Ev$NCf?H$OIaDL$NJ[(B$BEv(B .</td>\n",
              "      <td>0.039994</td>\n",
              "      <td>-0.214766</td>\n",
              "      <td>D</td>\n",
              "    </tr>\n",
              "    <tr>\n",
              "      <th>...</th>\n",
              "      <td>...</td>\n",
              "      <td>...</td>\n",
              "      <td>...</td>\n",
              "      <td>...</td>\n",
              "      <td>...</td>\n",
              "    </tr>\n",
              "    <tr>\n",
              "      <th>711</th>\n",
              "      <td>2014-07-14</td>\n",
              "      <td>obstart();\\n foreach($theactivities as $theact...</td>\n",
              "      <td>-0.925558</td>\n",
              "      <td>0.844790</td>\n",
              "      <td>D</td>\n",
              "    </tr>\n",
              "    <tr>\n",
              "      <th>712</th>\n",
              "      <td>2014-07-14</td>\n",
              "      <td>Seeking the next stock like $CNCA $NOV $D $WTW...</td>\n",
              "      <td>-0.925558</td>\n",
              "      <td>0.844790</td>\n",
              "      <td>D</td>\n",
              "    </tr>\n",
              "    <tr>\n",
              "      <th>713</th>\n",
              "      <td>2015-09-14</td>\n",
              "      <td>Gana U$D 9.843 al año con Clixsense trabajando...</td>\n",
              "      <td>0.474522</td>\n",
              "      <td>0.612263</td>\n",
              "      <td>D</td>\n",
              "    </tr>\n",
              "    <tr>\n",
              "      <th>714</th>\n",
              "      <td>2015-11-18</td>\n",
              "      <td>I'm ridin round with my system bumpin L$D.</td>\n",
              "      <td>0.219291</td>\n",
              "      <td>0.482142</td>\n",
              "      <td>D</td>\n",
              "    </tr>\n",
              "    <tr>\n",
              "      <th>715</th>\n",
              "      <td>2015-11-18</td>\n",
              "      <td>\"El precio es... U$D X, hasta el domingo\" : S ...</td>\n",
              "      <td>0.219291</td>\n",
              "      <td>0.482142</td>\n",
              "      <td>D</td>\n",
              "    </tr>\n",
              "  </tbody>\n",
              "</table>\n",
              "<p>716 rows × 5 columns</p>\n",
              "</div>"
            ],
            "text/plain": [
              "          date                                             tweets     r_now  \\\n",
              "0   2014-10-14  La deuda de Yacyreta es de casi U$D 18 mil mil... -2.701183   \n",
              "1   2016-03-03  Simmons First Trust Co. NA Purchases Shares of...  1.733848   \n",
              "2   2015-05-07  ;8B;X&amp;u4/bC=WNz&lt;J-QdB{2Y&gt;Bik1;SIg$=F...  0.267350   \n",
              "3   2014-08-20  \": Jackelin Farias deberia explicar donde esta...  0.039994   \n",
              "4   2014-08-20        $B$D$P6eO:JFJ[Ev$NCf?H$OIaDL$NJ[(B$BEv(B .   0.039994   \n",
              "..         ...                                                ...       ...   \n",
              "711 2014-07-14  obstart();\\n foreach($theactivities as $theact... -0.925558   \n",
              "712 2014-07-14  Seeking the next stock like $CNCA $NOV $D $WTW... -0.925558   \n",
              "713 2015-09-14  Gana U$D 9.843 al año con Clixsense trabajando...  0.474522   \n",
              "714 2015-11-18        I'm ridin round with my system bumpin L$D.   0.219291   \n",
              "715 2015-11-18  \"El precio es... U$D X, hasta el domingo\" : S ...  0.219291   \n",
              "\n",
              "       r_next ticker  \n",
              "0   -0.282104      D  \n",
              "1    1.199413      D  \n",
              "2    0.013681      D  \n",
              "3   -0.214766      D  \n",
              "4   -0.214766      D  \n",
              "..        ...    ...  \n",
              "711  0.844790      D  \n",
              "712  0.844790      D  \n",
              "713  0.612263      D  \n",
              "714  0.482142      D  \n",
              "715  0.482142      D  \n",
              "\n",
              "[716 rows x 5 columns]"
            ]
          },
          "execution_count": 95,
          "metadata": {},
          "output_type": "execute_result"
        }
      ],
      "source": [
        "match_text_label(\"D\",r_now,r_next)"
      ]
    },
    {
      "cell_type": "code",
      "execution_count": 96,
      "metadata": {
        "id": "9J2Vcv3scer-"
      },
      "outputs": [],
      "source": [
        "pairs=pd.concat([match_text_label(t,r_now,r_next) for t in r_next.columns])"
      ]
    },
    {
      "cell_type": "code",
      "execution_count": 107,
      "metadata": {},
      "outputs": [
        {
          "data": {
            "text/plain": [
              "'/Users/thebobs/Downloads/stocknet-dataset'"
            ]
          },
          "execution_count": 107,
          "metadata": {},
          "output_type": "execute_result"
        }
      ],
      "source": [
        "os.getcwd()"
      ]
    },
    {
      "cell_type": "code",
      "execution_count": 108,
      "metadata": {
        "id": "iyxtzgshcer_"
      },
      "outputs": [],
      "source": [
        "pairs.dropna().to_csv('clean_data.csv',index=False,encoding=\"UTF-8\")"
      ]
    },
    {
      "cell_type": "code",
      "execution_count": 106,
      "metadata": {
        "id": "eL42SsPCcer_",
        "outputId": "ed70cd81-acc8-48e8-ad42-b79280274a83"
      },
      "outputs": [
        {
          "name": "stdout",
          "output_type": "stream",
          "text": [
            "\u001b[0;31mSignature:\u001b[0m\n",
            "\u001b[0mpairs\u001b[0m\u001b[0;34m.\u001b[0m\u001b[0mto_csv\u001b[0m\u001b[0;34m(\u001b[0m\u001b[0;34m\u001b[0m\n",
            "\u001b[0;34m\u001b[0m    \u001b[0mpath_or_buf\u001b[0m\u001b[0;34m:\u001b[0m \u001b[0;34m'FilePath | WriteBuffer[bytes] | WriteBuffer[str] | None'\u001b[0m \u001b[0;34m=\u001b[0m \u001b[0;32mNone\u001b[0m\u001b[0;34m,\u001b[0m\u001b[0;34m\u001b[0m\n",
            "\u001b[0;34m\u001b[0m    \u001b[0msep\u001b[0m\u001b[0;34m:\u001b[0m \u001b[0;34m'str'\u001b[0m \u001b[0;34m=\u001b[0m \u001b[0;34m','\u001b[0m\u001b[0;34m,\u001b[0m\u001b[0;34m\u001b[0m\n",
            "\u001b[0;34m\u001b[0m    \u001b[0mna_rep\u001b[0m\u001b[0;34m:\u001b[0m \u001b[0;34m'str'\u001b[0m \u001b[0;34m=\u001b[0m \u001b[0;34m''\u001b[0m\u001b[0;34m,\u001b[0m\u001b[0;34m\u001b[0m\n",
            "\u001b[0;34m\u001b[0m    \u001b[0mfloat_format\u001b[0m\u001b[0;34m:\u001b[0m \u001b[0;34m'str | Callable | None'\u001b[0m \u001b[0;34m=\u001b[0m \u001b[0;32mNone\u001b[0m\u001b[0;34m,\u001b[0m\u001b[0;34m\u001b[0m\n",
            "\u001b[0;34m\u001b[0m    \u001b[0mcolumns\u001b[0m\u001b[0;34m:\u001b[0m \u001b[0;34m'Sequence[Hashable] | None'\u001b[0m \u001b[0;34m=\u001b[0m \u001b[0;32mNone\u001b[0m\u001b[0;34m,\u001b[0m\u001b[0;34m\u001b[0m\n",
            "\u001b[0;34m\u001b[0m    \u001b[0mheader\u001b[0m\u001b[0;34m:\u001b[0m \u001b[0;34m'bool_t | list[str]'\u001b[0m \u001b[0;34m=\u001b[0m \u001b[0;32mTrue\u001b[0m\u001b[0;34m,\u001b[0m\u001b[0;34m\u001b[0m\n",
            "\u001b[0;34m\u001b[0m    \u001b[0mindex\u001b[0m\u001b[0;34m:\u001b[0m \u001b[0;34m'bool_t'\u001b[0m \u001b[0;34m=\u001b[0m \u001b[0;32mTrue\u001b[0m\u001b[0;34m,\u001b[0m\u001b[0;34m\u001b[0m\n",
            "\u001b[0;34m\u001b[0m    \u001b[0mindex_label\u001b[0m\u001b[0;34m:\u001b[0m \u001b[0;34m'IndexLabel | None'\u001b[0m \u001b[0;34m=\u001b[0m \u001b[0;32mNone\u001b[0m\u001b[0;34m,\u001b[0m\u001b[0;34m\u001b[0m\n",
            "\u001b[0;34m\u001b[0m    \u001b[0mmode\u001b[0m\u001b[0;34m:\u001b[0m \u001b[0;34m'str'\u001b[0m \u001b[0;34m=\u001b[0m \u001b[0;34m'w'\u001b[0m\u001b[0;34m,\u001b[0m\u001b[0;34m\u001b[0m\n",
            "\u001b[0;34m\u001b[0m    \u001b[0mencoding\u001b[0m\u001b[0;34m:\u001b[0m \u001b[0;34m'str | None'\u001b[0m \u001b[0;34m=\u001b[0m \u001b[0;32mNone\u001b[0m\u001b[0;34m,\u001b[0m\u001b[0;34m\u001b[0m\n",
            "\u001b[0;34m\u001b[0m    \u001b[0mcompression\u001b[0m\u001b[0;34m:\u001b[0m \u001b[0;34m'CompressionOptions'\u001b[0m \u001b[0;34m=\u001b[0m \u001b[0;34m'infer'\u001b[0m\u001b[0;34m,\u001b[0m\u001b[0;34m\u001b[0m\n",
            "\u001b[0;34m\u001b[0m    \u001b[0mquoting\u001b[0m\u001b[0;34m:\u001b[0m \u001b[0;34m'int | None'\u001b[0m \u001b[0;34m=\u001b[0m \u001b[0;32mNone\u001b[0m\u001b[0;34m,\u001b[0m\u001b[0;34m\u001b[0m\n",
            "\u001b[0;34m\u001b[0m    \u001b[0mquotechar\u001b[0m\u001b[0;34m:\u001b[0m \u001b[0;34m'str'\u001b[0m \u001b[0;34m=\u001b[0m \u001b[0;34m'\"'\u001b[0m\u001b[0;34m,\u001b[0m\u001b[0;34m\u001b[0m\n",
            "\u001b[0;34m\u001b[0m    \u001b[0mlineterminator\u001b[0m\u001b[0;34m:\u001b[0m \u001b[0;34m'str | None'\u001b[0m \u001b[0;34m=\u001b[0m \u001b[0;32mNone\u001b[0m\u001b[0;34m,\u001b[0m\u001b[0;34m\u001b[0m\n",
            "\u001b[0;34m\u001b[0m    \u001b[0mchunksize\u001b[0m\u001b[0;34m:\u001b[0m \u001b[0;34m'int | None'\u001b[0m \u001b[0;34m=\u001b[0m \u001b[0;32mNone\u001b[0m\u001b[0;34m,\u001b[0m\u001b[0;34m\u001b[0m\n",
            "\u001b[0;34m\u001b[0m    \u001b[0mdate_format\u001b[0m\u001b[0;34m:\u001b[0m \u001b[0;34m'str | None'\u001b[0m \u001b[0;34m=\u001b[0m \u001b[0;32mNone\u001b[0m\u001b[0;34m,\u001b[0m\u001b[0;34m\u001b[0m\n",
            "\u001b[0;34m\u001b[0m    \u001b[0mdoublequote\u001b[0m\u001b[0;34m:\u001b[0m \u001b[0;34m'bool_t'\u001b[0m \u001b[0;34m=\u001b[0m \u001b[0;32mTrue\u001b[0m\u001b[0;34m,\u001b[0m\u001b[0;34m\u001b[0m\n",
            "\u001b[0;34m\u001b[0m    \u001b[0mescapechar\u001b[0m\u001b[0;34m:\u001b[0m \u001b[0;34m'str | None'\u001b[0m \u001b[0;34m=\u001b[0m \u001b[0;32mNone\u001b[0m\u001b[0;34m,\u001b[0m\u001b[0;34m\u001b[0m\n",
            "\u001b[0;34m\u001b[0m    \u001b[0mdecimal\u001b[0m\u001b[0;34m:\u001b[0m \u001b[0;34m'str'\u001b[0m \u001b[0;34m=\u001b[0m \u001b[0;34m'.'\u001b[0m\u001b[0;34m,\u001b[0m\u001b[0;34m\u001b[0m\n",
            "\u001b[0;34m\u001b[0m    \u001b[0merrors\u001b[0m\u001b[0;34m:\u001b[0m \u001b[0;34m'str'\u001b[0m \u001b[0;34m=\u001b[0m \u001b[0;34m'strict'\u001b[0m\u001b[0;34m,\u001b[0m\u001b[0;34m\u001b[0m\n",
            "\u001b[0;34m\u001b[0m    \u001b[0mstorage_options\u001b[0m\u001b[0;34m:\u001b[0m \u001b[0;34m'StorageOptions'\u001b[0m \u001b[0;34m=\u001b[0m \u001b[0;32mNone\u001b[0m\u001b[0;34m,\u001b[0m\u001b[0;34m\u001b[0m\n",
            "\u001b[0;34m\u001b[0m\u001b[0;34m)\u001b[0m \u001b[0;34m->\u001b[0m \u001b[0;34m'str | None'\u001b[0m\u001b[0;34m\u001b[0m\u001b[0;34m\u001b[0m\u001b[0m\n",
            "\u001b[0;31mDocstring:\u001b[0m\n",
            "Write object to a comma-separated values (csv) file.\n",
            "\n",
            "Parameters\n",
            "----------\n",
            "path_or_buf : str, path object, file-like object, or None, default None\n",
            "    String, path object (implementing os.PathLike[str]), or file-like\n",
            "    object implementing a write() function. If None, the result is\n",
            "    returned as a string. If a non-binary file object is passed, it should\n",
            "    be opened with `newline=''`, disabling universal newlines. If a binary\n",
            "    file object is passed, `mode` might need to contain a `'b'`.\n",
            "\n",
            "    .. versionchanged:: 1.2.0\n",
            "\n",
            "       Support for binary file objects was introduced.\n",
            "\n",
            "sep : str, default ','\n",
            "    String of length 1. Field delimiter for the output file.\n",
            "na_rep : str, default ''\n",
            "    Missing data representation.\n",
            "float_format : str, Callable, default None\n",
            "    Format string for floating point numbers. If a Callable is given, it takes\n",
            "    precedence over other numeric formatting parameters, like decimal.\n",
            "columns : sequence, optional\n",
            "    Columns to write.\n",
            "header : bool or list of str, default True\n",
            "    Write out the column names. If a list of strings is given it is\n",
            "    assumed to be aliases for the column names.\n",
            "index : bool, default True\n",
            "    Write row names (index).\n",
            "index_label : str or sequence, or False, default None\n",
            "    Column label for index column(s) if desired. If None is given, and\n",
            "    `header` and `index` are True, then the index names are used. A\n",
            "    sequence should be given if the object uses MultiIndex. If\n",
            "    False do not print fields for index names. Use index_label=False\n",
            "    for easier importing in R.\n",
            "mode : str, default 'w'\n",
            "    Python write mode. The available write modes are the same as\n",
            "    :py:func:`open`.\n",
            "encoding : str, optional\n",
            "    A string representing the encoding to use in the output file,\n",
            "    defaults to 'utf-8'. `encoding` is not supported if `path_or_buf`\n",
            "    is a non-binary file object.\n",
            "compression : str or dict, default 'infer'\n",
            "    For on-the-fly compression of the output data. If 'infer' and 'path_or_buf' is\n",
            "    path-like, then detect compression from the following extensions: '.gz',\n",
            "    '.bz2', '.zip', '.xz', '.zst', '.tar', '.tar.gz', '.tar.xz' or '.tar.bz2'\n",
            "    (otherwise no compression).\n",
            "    Set to ``None`` for no compression.\n",
            "    Can also be a dict with key ``'method'`` set\n",
            "    to one of {``'zip'``, ``'gzip'``, ``'bz2'``, ``'zstd'``, ``'tar'``} and other\n",
            "    key-value pairs are forwarded to\n",
            "    ``zipfile.ZipFile``, ``gzip.GzipFile``,\n",
            "    ``bz2.BZ2File``, ``zstandard.ZstdCompressor`` or\n",
            "    ``tarfile.TarFile``, respectively.\n",
            "    As an example, the following could be passed for faster compression and to create\n",
            "    a reproducible gzip archive:\n",
            "    ``compression={'method': 'gzip', 'compresslevel': 1, 'mtime': 1}``.\n",
            "\n",
            "        .. versionadded:: 1.5.0\n",
            "            Added support for `.tar` files.\n",
            "\n",
            "    .. versionchanged:: 1.0.0\n",
            "\n",
            "       May now be a dict with key 'method' as compression mode\n",
            "       and other entries as additional compression options if\n",
            "       compression mode is 'zip'.\n",
            "\n",
            "    .. versionchanged:: 1.1.0\n",
            "\n",
            "       Passing compression options as keys in dict is\n",
            "       supported for compression modes 'gzip', 'bz2', 'zstd', and 'zip'.\n",
            "\n",
            "    .. versionchanged:: 1.2.0\n",
            "\n",
            "        Compression is supported for binary file objects.\n",
            "\n",
            "    .. versionchanged:: 1.2.0\n",
            "\n",
            "        Previous versions forwarded dict entries for 'gzip' to\n",
            "        `gzip.open` instead of `gzip.GzipFile` which prevented\n",
            "        setting `mtime`.\n",
            "\n",
            "quoting : optional constant from csv module\n",
            "    Defaults to csv.QUOTE_MINIMAL. If you have set a `float_format`\n",
            "    then floats are converted to strings and thus csv.QUOTE_NONNUMERIC\n",
            "    will treat them as non-numeric.\n",
            "quotechar : str, default '\\\"'\n",
            "    String of length 1. Character used to quote fields.\n",
            "lineterminator : str, optional\n",
            "    The newline character or character sequence to use in the output\n",
            "    file. Defaults to `os.linesep`, which depends on the OS in which\n",
            "    this method is called ('\\\\n' for linux, '\\\\r\\\\n' for Windows, i.e.).\n",
            "\n",
            "    .. versionchanged:: 1.5.0\n",
            "\n",
            "        Previously was line_terminator, changed for consistency with\n",
            "        read_csv and the standard library 'csv' module.\n",
            "\n",
            "chunksize : int or None\n",
            "    Rows to write at a time.\n",
            "date_format : str, default None\n",
            "    Format string for datetime objects.\n",
            "doublequote : bool, default True\n",
            "    Control quoting of `quotechar` inside a field.\n",
            "escapechar : str, default None\n",
            "    String of length 1. Character used to escape `sep` and `quotechar`\n",
            "    when appropriate.\n",
            "decimal : str, default '.'\n",
            "    Character recognized as decimal separator. E.g. use ',' for\n",
            "    European data.\n",
            "errors : str, default 'strict'\n",
            "    Specifies how encoding and decoding errors are to be handled.\n",
            "    See the errors argument for :func:`open` for a full list\n",
            "    of options.\n",
            "\n",
            "    .. versionadded:: 1.1.0\n",
            "\n",
            "storage_options : dict, optional\n",
            "    Extra options that make sense for a particular storage connection, e.g.\n",
            "    host, port, username, password, etc. For HTTP(S) URLs the key-value pairs\n",
            "    are forwarded to ``urllib.request.Request`` as header options. For other\n",
            "    URLs (e.g. starting with \"s3://\", and \"gcs://\") the key-value pairs are\n",
            "    forwarded to ``fsspec.open``. Please see ``fsspec`` and ``urllib`` for more\n",
            "    details, and for more examples on storage options refer `here\n",
            "    <https://pandas.pydata.org/docs/user_guide/io.html?\n",
            "    highlight=storage_options#reading-writing-remote-files>`_.\n",
            "\n",
            "    .. versionadded:: 1.2.0\n",
            "\n",
            "Returns\n",
            "-------\n",
            "None or str\n",
            "    If path_or_buf is None, returns the resulting csv format as a\n",
            "    string. Otherwise returns None.\n",
            "\n",
            "See Also\n",
            "--------\n",
            "read_csv : Load a CSV file into a DataFrame.\n",
            "to_excel : Write DataFrame to an Excel file.\n",
            "\n",
            "Examples\n",
            "--------\n",
            ">>> df = pd.DataFrame({'name': ['Raphael', 'Donatello'],\n",
            "...                    'mask': ['red', 'purple'],\n",
            "...                    'weapon': ['sai', 'bo staff']})\n",
            ">>> df.to_csv(index=False)\n",
            "'name,mask,weapon\\nRaphael,red,sai\\nDonatello,purple,bo staff\\n'\n",
            "\n",
            "Create 'out.zip' containing 'out.csv'\n",
            "\n",
            ">>> compression_opts = dict(method='zip',\n",
            "...                         archive_name='out.csv')  # doctest: +SKIP\n",
            ">>> df.to_csv('out.zip', index=False,\n",
            "...           compression=compression_opts)  # doctest: +SKIP\n",
            "\n",
            "To write a csv file to a new folder or nested folder you will first\n",
            "need to create it using either Pathlib or os:\n",
            "\n",
            ">>> from pathlib import Path  # doctest: +SKIP\n",
            ">>> filepath = Path('folder/subfolder/out.csv')  # doctest: +SKIP\n",
            ">>> filepath.parent.mkdir(parents=True, exist_ok=True)  # doctest: +SKIP\n",
            ">>> df.to_csv(filepath)  # doctest: +SKIP\n",
            "\n",
            ">>> import os  # doctest: +SKIP\n",
            ">>> os.makedirs('folder/subfolder', exist_ok=True)  # doctest: +SKIP\n",
            ">>> df.to_csv('folder/subfolder/out.csv')  # doctest: +SKIP\n",
            "\u001b[0;31mFile:\u001b[0m      ~/opt/anaconda3/envs/tf/lib/python3.9/site-packages/pandas/core/generic.py\n",
            "\u001b[0;31mType:\u001b[0m      method"
          ]
        }
      ],
      "source": [
        "?pairs.to_csv"
      ]
    }
  ],
  "metadata": {
    "colab": {
      "provenance": []
    },
    "kernelspec": {
      "display_name": "py310",
      "language": "python",
      "name": "python3"
    },
    "language_info": {
      "codemirror_mode": {
        "name": "ipython",
        "version": 3
      },
      "file_extension": ".py",
      "mimetype": "text/x-python",
      "name": "python",
      "nbconvert_exporter": "python",
      "pygments_lexer": "ipython3",
      "version": "3.9.16"
    }
  },
  "nbformat": 4,
  "nbformat_minor": 0
}

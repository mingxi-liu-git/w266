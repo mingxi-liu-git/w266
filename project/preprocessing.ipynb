{
 "cells": [
  {
   "cell_type": "code",
   "execution_count": 1,
   "metadata": {},
   "outputs": [],
   "source": [
    "import sys\n",
    "import os\n",
    "import json\n",
    "import re\n",
    "\n",
    "import pandas as pd\n",
    "import numpy as np"
   ]
  },
  {
   "cell_type": "code",
   "execution_count": 4,
   "metadata": {},
   "outputs": [],
   "source": [
    "os.chdir(r'stocknet-dataset\\tweet\\raw')"
   ]
  },
  {
   "cell_type": "code",
   "execution_count": 3,
   "metadata": {},
   "outputs": [],
   "source": [
    "def clean(tweet):\n",
    "    # tweet = re.sub(r'http\\S+|www\\S+|@\\S+|#\\S+|[^A-Za-z\\s]', '', tweet)\n",
    "    tweet = re.sub(r'http\\S+', '', tweet)\n",
    "    tweet = re.sub('(@[A-Za-z]+[A-Za-z0-9-_]+)', '', tweet)\n",
    "    tweet=re.sub(r\"#(\\w+)\",'', tweet)\n",
    "    tweet = re.sub('([_]+)', \"\", tweet)\n",
    "    if not re.search(r'[.,!?;:\"]$',tweet[-1]):\n",
    "        tweet+=\". \"\n",
    "    return tweet"
   ]
  },
  {
   "cell_type": "code",
   "execution_count": 4,
   "metadata": {},
   "outputs": [],
   "source": [
    "def extract(ticker,date):\n",
    "    data=''\n",
    "    with open(f'{ticker}/{date}') as f:\n",
    "        for line in f:\n",
    "            j=json.loads(line)\n",
    "            if not 'retweeted_status' in j:\n",
    "                data+=clean(j['text'])\n",
    "    return data"
   ]
  },
  {
   "cell_type": "code",
   "execution_count": 5,
   "metadata": {},
   "outputs": [],
   "source": [
    "def extract_ticker_all(ticker):\n",
    "    data=[]\n",
    "    for date in os.listdir(ticker):\n",
    "        data.append((date,extract(ticker,date)))\n",
    "    return pd.DataFrame(data,columns=['date','tweets'])"
   ]
  },
  {
   "cell_type": "code",
   "execution_count": 67,
   "metadata": {},
   "outputs": [],
   "source": [
    "for ticker in os.listdir()[2:]:\n",
    "    data=extract_ticker_all(ticker)\n",
    "    data.to_csv(f'../clean/{ticker}.csv',index=False)\n"
   ]
  },
  {
   "cell_type": "code",
   "execution_count": 68,
   "metadata": {},
   "outputs": [
    {
     "data": {
      "text/html": [
       "<div>\n",
       "<style scoped>\n",
       "    .dataframe tbody tr th:only-of-type {\n",
       "        vertical-align: middle;\n",
       "    }\n",
       "\n",
       "    .dataframe tbody tr th {\n",
       "        vertical-align: top;\n",
       "    }\n",
       "\n",
       "    .dataframe thead th {\n",
       "        text-align: right;\n",
       "    }\n",
       "</style>\n",
       "<table border=\"1\" class=\"dataframe\">\n",
       "  <thead>\n",
       "    <tr style=\"text-align: right;\">\n",
       "      <th></th>\n",
       "      <th>date</th>\n",
       "      <th>tweets</th>\n",
       "    </tr>\n",
       "  </thead>\n",
       "  <tbody>\n",
       "    <tr>\n",
       "      <th>0</th>\n",
       "      <td>2014-01-02</td>\n",
       "      <td>Not as diversified as $SLB (think $HAL is muc...</td>\n",
       "    </tr>\n",
       "    <tr>\n",
       "      <th>1</th>\n",
       "      <td>2014-01-07</td>\n",
       "      <td>$SLB call at $94.50ish was perfect…haven't tri...</td>\n",
       "    </tr>\n",
       "    <tr>\n",
       "      <th>2</th>\n",
       "      <td>2014-01-11</td>\n",
       "      <td>S&amp;amp;P100  Performance $BHI $BMY $AEP $SLB $L...</td>\n",
       "    </tr>\n",
       "    <tr>\n",
       "      <th>3</th>\n",
       "      <td>2014-01-12</td>\n",
       "      <td>$SLB - China Believes that it Can Duplicate Ou...</td>\n",
       "    </tr>\n",
       "    <tr>\n",
       "      <th>4</th>\n",
       "      <td>2014-01-15</td>\n",
       "      <td>Wow. Great   on $CCRN $WTI $SLB $VALE Click .</td>\n",
       "    </tr>\n",
       "    <tr>\n",
       "      <th>...</th>\n",
       "      <td>...</td>\n",
       "      <td>...</td>\n",
       "    </tr>\n",
       "    <tr>\n",
       "      <th>311</th>\n",
       "      <td>2016-03-25</td>\n",
       "      <td>-Cameron deal clears final regulatory hurdle. ...</td>\n",
       "    </tr>\n",
       "    <tr>\n",
       "      <th>312</th>\n",
       "      <td>2016-03-27</td>\n",
       "      <td>$SLB:\\n\\nKey Stocks of the Day: Schlumberger L...</td>\n",
       "    </tr>\n",
       "    <tr>\n",
       "      <th>313</th>\n",
       "      <td>2016-03-28</td>\n",
       "      <td>BRIEF-Cameron expresses no opinion on debt ten...</td>\n",
       "    </tr>\n",
       "    <tr>\n",
       "      <th>314</th>\n",
       "      <td>2016-03-30</td>\n",
       "      <td>Limited. Given \"Buy\" Rating at Citigroup Inc....</td>\n",
       "    </tr>\n",
       "    <tr>\n",
       "      <th>315</th>\n",
       "      <td>2016-03-31</td>\n",
       "      <td>Schlumberger Limited. $SLB PT Lowered to $78.0...</td>\n",
       "    </tr>\n",
       "  </tbody>\n",
       "</table>\n",
       "<p>316 rows × 2 columns</p>\n",
       "</div>"
      ],
      "text/plain": [
       "           date                                             tweets\n",
       "0    2014-01-02   Not as diversified as $SLB (think $HAL is muc...\n",
       "1    2014-01-07  $SLB call at $94.50ish was perfect…haven't tri...\n",
       "2    2014-01-11  S&amp;P100  Performance $BHI $BMY $AEP $SLB $L...\n",
       "3    2014-01-12  $SLB - China Believes that it Can Duplicate Ou...\n",
       "4    2014-01-15     Wow. Great   on $CCRN $WTI $SLB $VALE Click . \n",
       "..          ...                                                ...\n",
       "311  2016-03-25  -Cameron deal clears final regulatory hurdle. ...\n",
       "312  2016-03-27  $SLB:\\n\\nKey Stocks of the Day: Schlumberger L...\n",
       "313  2016-03-28  BRIEF-Cameron expresses no opinion on debt ten...\n",
       "314  2016-03-30   Limited. Given \"Buy\" Rating at Citigroup Inc....\n",
       "315  2016-03-31  Schlumberger Limited. $SLB PT Lowered to $78.0...\n",
       "\n",
       "[316 rows x 2 columns]"
      ]
     },
     "execution_count": 68,
     "metadata": {},
     "output_type": "execute_result"
    }
   ],
   "source": [
    "pd.read_csv('../clean/SLB.csv')"
   ]
  },
  {
   "cell_type": "code",
   "execution_count": 14,
   "metadata": {},
   "outputs": [],
   "source": [
    "os.chdir(r'C:\\Users\\mingxi.liu\\OneDrive - Dymon Asia Capital (Singapore) Pte Ltd\\MIDS\\W266\\stocknet-dataset')"
   ]
  },
  {
   "cell_type": "code",
   "execution_count": 4,
   "metadata": {},
   "outputs": [],
   "source": [
    "data_all=[]\n",
    "for i in os.listdir():\n",
    "    data_all.append(pd.read_csv(i,index_col=0,parse_dates=True)['Adj Close'].rename(i[:-4]))\n",
    "p=pd.concat(data_all,axis=1)"
   ]
  },
  {
   "cell_type": "code",
   "execution_count": 5,
   "metadata": {},
   "outputs": [
    {
     "data": {
      "text/html": [
       "<div>\n",
       "<style scoped>\n",
       "    .dataframe tbody tr th:only-of-type {\n",
       "        vertical-align: middle;\n",
       "    }\n",
       "\n",
       "    .dataframe tbody tr th {\n",
       "        vertical-align: top;\n",
       "    }\n",
       "\n",
       "    .dataframe thead th {\n",
       "        text-align: right;\n",
       "    }\n",
       "</style>\n",
       "<table border=\"1\" class=\"dataframe\">\n",
       "  <thead>\n",
       "    <tr style=\"text-align: right;\">\n",
       "      <th></th>\n",
       "      <th>AAPL</th>\n",
       "      <th>ABB</th>\n",
       "      <th>ABBV</th>\n",
       "      <th>AEP</th>\n",
       "      <th>AGFS</th>\n",
       "      <th>AMGN</th>\n",
       "      <th>AMZN</th>\n",
       "      <th>BA</th>\n",
       "      <th>BABA</th>\n",
       "      <th>BAC</th>\n",
       "      <th>...</th>\n",
       "      <th>UL</th>\n",
       "      <th>UN</th>\n",
       "      <th>UNH</th>\n",
       "      <th>UPS</th>\n",
       "      <th>UTX</th>\n",
       "      <th>V</th>\n",
       "      <th>VZ</th>\n",
       "      <th>WFC</th>\n",
       "      <th>WMT</th>\n",
       "      <th>XOM</th>\n",
       "    </tr>\n",
       "    <tr>\n",
       "      <th>Date</th>\n",
       "      <th></th>\n",
       "      <th></th>\n",
       "      <th></th>\n",
       "      <th></th>\n",
       "      <th></th>\n",
       "      <th></th>\n",
       "      <th></th>\n",
       "      <th></th>\n",
       "      <th></th>\n",
       "      <th></th>\n",
       "      <th></th>\n",
       "      <th></th>\n",
       "      <th></th>\n",
       "      <th></th>\n",
       "      <th></th>\n",
       "      <th></th>\n",
       "      <th></th>\n",
       "      <th></th>\n",
       "      <th></th>\n",
       "      <th></th>\n",
       "      <th></th>\n",
       "    </tr>\n",
       "  </thead>\n",
       "  <tbody>\n",
       "    <tr>\n",
       "      <th>2017-08-28</th>\n",
       "      <td>161.470001</td>\n",
       "      <td>23.07</td>\n",
       "      <td>73.320000</td>\n",
       "      <td>74.099998</td>\n",
       "      <td>7.05</td>\n",
       "      <td>171.779999</td>\n",
       "      <td>946.020020</td>\n",
       "      <td>237.179993</td>\n",
       "      <td>168.300003</td>\n",
       "      <td>23.599287</td>\n",
       "      <td>...</td>\n",
       "      <td>58.119999</td>\n",
       "      <td>59.470001</td>\n",
       "      <td>195.089996</td>\n",
       "      <td>113.790001</td>\n",
       "      <td>115.330002</td>\n",
       "      <td>103.779999</td>\n",
       "      <td>48.610001</td>\n",
       "      <td>51.630001</td>\n",
       "      <td>78.029999</td>\n",
       "      <td>76.470001</td>\n",
       "    </tr>\n",
       "    <tr>\n",
       "      <th>2017-08-29</th>\n",
       "      <td>162.910004</td>\n",
       "      <td>22.92</td>\n",
       "      <td>73.889999</td>\n",
       "      <td>73.940002</td>\n",
       "      <td>7.02</td>\n",
       "      <td>172.229996</td>\n",
       "      <td>954.059998</td>\n",
       "      <td>240.490005</td>\n",
       "      <td>167.410004</td>\n",
       "      <td>23.460001</td>\n",
       "      <td>...</td>\n",
       "      <td>58.119999</td>\n",
       "      <td>59.490002</td>\n",
       "      <td>196.729996</td>\n",
       "      <td>114.889999</td>\n",
       "      <td>118.699997</td>\n",
       "      <td>103.769997</td>\n",
       "      <td>48.509998</td>\n",
       "      <td>51.419998</td>\n",
       "      <td>78.769997</td>\n",
       "      <td>76.449997</td>\n",
       "    </tr>\n",
       "    <tr>\n",
       "      <th>2017-08-30</th>\n",
       "      <td>163.350006</td>\n",
       "      <td>22.84</td>\n",
       "      <td>73.919998</td>\n",
       "      <td>73.750000</td>\n",
       "      <td>7.03</td>\n",
       "      <td>173.649994</td>\n",
       "      <td>967.590027</td>\n",
       "      <td>240.460007</td>\n",
       "      <td>171.250000</td>\n",
       "      <td>23.870001</td>\n",
       "      <td>...</td>\n",
       "      <td>57.639999</td>\n",
       "      <td>59.020000</td>\n",
       "      <td>195.880005</td>\n",
       "      <td>114.970001</td>\n",
       "      <td>119.599998</td>\n",
       "      <td>103.730003</td>\n",
       "      <td>48.119999</td>\n",
       "      <td>51.360001</td>\n",
       "      <td>78.540001</td>\n",
       "      <td>76.099998</td>\n",
       "    </tr>\n",
       "    <tr>\n",
       "      <th>2017-08-31</th>\n",
       "      <td>164.000000</td>\n",
       "      <td>23.18</td>\n",
       "      <td>75.300003</td>\n",
       "      <td>73.629997</td>\n",
       "      <td>7.12</td>\n",
       "      <td>177.770004</td>\n",
       "      <td>980.599976</td>\n",
       "      <td>239.660004</td>\n",
       "      <td>171.740005</td>\n",
       "      <td>23.889999</td>\n",
       "      <td>...</td>\n",
       "      <td>58.209999</td>\n",
       "      <td>59.500000</td>\n",
       "      <td>198.899994</td>\n",
       "      <td>114.360001</td>\n",
       "      <td>119.720001</td>\n",
       "      <td>103.519997</td>\n",
       "      <td>47.970001</td>\n",
       "      <td>51.070000</td>\n",
       "      <td>78.070000</td>\n",
       "      <td>76.330002</td>\n",
       "    </tr>\n",
       "    <tr>\n",
       "      <th>2017-09-01</th>\n",
       "      <td>164.050003</td>\n",
       "      <td>23.26</td>\n",
       "      <td>75.419998</td>\n",
       "      <td>73.540001</td>\n",
       "      <td>7.16</td>\n",
       "      <td>178.710007</td>\n",
       "      <td>978.250000</td>\n",
       "      <td>240.330002</td>\n",
       "      <td>171.039993</td>\n",
       "      <td>24.090000</td>\n",
       "      <td>...</td>\n",
       "      <td>58.290001</td>\n",
       "      <td>59.540001</td>\n",
       "      <td>199.750000</td>\n",
       "      <td>114.389999</td>\n",
       "      <td>117.919998</td>\n",
       "      <td>103.900002</td>\n",
       "      <td>47.919998</td>\n",
       "      <td>50.970001</td>\n",
       "      <td>78.370003</td>\n",
       "      <td>76.570000</td>\n",
       "    </tr>\n",
       "  </tbody>\n",
       "</table>\n",
       "<p>5 rows × 88 columns</p>\n",
       "</div>"
      ],
      "text/plain": [
       "                  AAPL    ABB       ABBV        AEP  AGFS        AMGN  \\\n",
       "Date                                                                    \n",
       "2017-08-28  161.470001  23.07  73.320000  74.099998  7.05  171.779999   \n",
       "2017-08-29  162.910004  22.92  73.889999  73.940002  7.02  172.229996   \n",
       "2017-08-30  163.350006  22.84  73.919998  73.750000  7.03  173.649994   \n",
       "2017-08-31  164.000000  23.18  75.300003  73.629997  7.12  177.770004   \n",
       "2017-09-01  164.050003  23.26  75.419998  73.540001  7.16  178.710007   \n",
       "\n",
       "                  AMZN          BA        BABA        BAC  ...         UL  \\\n",
       "Date                                                       ...              \n",
       "2017-08-28  946.020020  237.179993  168.300003  23.599287  ...  58.119999   \n",
       "2017-08-29  954.059998  240.490005  167.410004  23.460001  ...  58.119999   \n",
       "2017-08-30  967.590027  240.460007  171.250000  23.870001  ...  57.639999   \n",
       "2017-08-31  980.599976  239.660004  171.740005  23.889999  ...  58.209999   \n",
       "2017-09-01  978.250000  240.330002  171.039993  24.090000  ...  58.290001   \n",
       "\n",
       "                   UN         UNH         UPS         UTX           V  \\\n",
       "Date                                                                    \n",
       "2017-08-28  59.470001  195.089996  113.790001  115.330002  103.779999   \n",
       "2017-08-29  59.490002  196.729996  114.889999  118.699997  103.769997   \n",
       "2017-08-30  59.020000  195.880005  114.970001  119.599998  103.730003   \n",
       "2017-08-31  59.500000  198.899994  114.360001  119.720001  103.519997   \n",
       "2017-09-01  59.540001  199.750000  114.389999  117.919998  103.900002   \n",
       "\n",
       "                   VZ        WFC        WMT        XOM  \n",
       "Date                                                    \n",
       "2017-08-28  48.610001  51.630001  78.029999  76.470001  \n",
       "2017-08-29  48.509998  51.419998  78.769997  76.449997  \n",
       "2017-08-30  48.119999  51.360001  78.540001  76.099998  \n",
       "2017-08-31  47.970001  51.070000  78.070000  76.330002  \n",
       "2017-09-01  47.919998  50.970001  78.370003  76.570000  \n",
       "\n",
       "[5 rows x 88 columns]"
      ]
     },
     "execution_count": 5,
     "metadata": {},
     "output_type": "execute_result"
    }
   ],
   "source": [
    "p.tail()"
   ]
  },
  {
   "cell_type": "code",
   "execution_count": 8,
   "metadata": {},
   "outputs": [],
   "source": [
    "r_now=np.log(p).diff()['2014':'2015']\n",
    "r_next=np.log(p).diff(2).shift(-2)['2014':'2015']"
   ]
  },
  {
   "cell_type": "code",
   "execution_count": 10,
   "metadata": {},
   "outputs": [],
   "source": [
    "def zscore(data):\n",
    "    return (data-data.mean())/data.std()"
   ]
  },
  {
   "cell_type": "code",
   "execution_count": 12,
   "metadata": {},
   "outputs": [],
   "source": [
    "r_now=zscore(r_now)\n",
    "r_next=zscore(r_next)"
   ]
  },
  {
   "cell_type": "code",
   "execution_count": 108,
   "metadata": {},
   "outputs": [],
   "source": [
    "r=np.log(p).diff(2).shift(-2)['2014':'2015']"
   ]
  },
  {
   "cell_type": "code",
   "execution_count": 109,
   "metadata": {},
   "outputs": [],
   "source": [
    "upper=r.quantile(0.66)\n",
    "lower=r.quantile(0.33)\n"
   ]
  },
  {
   "cell_type": "code",
   "execution_count": 110,
   "metadata": {},
   "outputs": [],
   "source": [
    "labels=r.copy()"
   ]
  },
  {
   "cell_type": "code",
   "execution_count": 111,
   "metadata": {},
   "outputs": [],
   "source": [
    "labels[labels>upper]=200\n",
    "labels[labels<lower]=-200\n",
    "labels[(labels<=upper)&(labels>=lower)]=0"
   ]
  },
  {
   "cell_type": "code",
   "execution_count": 112,
   "metadata": {},
   "outputs": [],
   "source": [
    "labels=labels.replace(0,1).replace(-200,0).replace(200,2)"
   ]
  },
  {
   "cell_type": "code",
   "execution_count": 113,
   "metadata": {},
   "outputs": [],
   "source": [
    "labels.to_csv('price\\clean\\labels_next2day.csv')"
   ]
  },
  {
   "cell_type": "code",
   "execution_count": 97,
   "metadata": {},
   "outputs": [],
   "source": [
    "os.chdir('..')"
   ]
  },
  {
   "cell_type": "code",
   "execution_count": 98,
   "metadata": {},
   "outputs": [
    {
     "data": {
      "text/plain": [
       "'C:\\\\Users\\\\mingxi.liu\\\\OneDrive - Dymon Asia Capital (Singapore) Pte Ltd\\\\MIDS\\\\W266\\\\stocknet-dataset'"
      ]
     },
     "execution_count": 98,
     "metadata": {},
     "output_type": "execute_result"
    }
   ],
   "source": [
    "os.getcwd()"
   ]
  },
  {
   "cell_type": "code",
   "execution_count": 100,
   "metadata": {},
   "outputs": [
    {
     "data": {
      "text/html": [
       "<div>\n",
       "<style scoped>\n",
       "    .dataframe tbody tr th:only-of-type {\n",
       "        vertical-align: middle;\n",
       "    }\n",
       "\n",
       "    .dataframe tbody tr th {\n",
       "        vertical-align: top;\n",
       "    }\n",
       "\n",
       "    .dataframe thead th {\n",
       "        text-align: right;\n",
       "    }\n",
       "</style>\n",
       "<table border=\"1\" class=\"dataframe\">\n",
       "  <thead>\n",
       "    <tr style=\"text-align: right;\">\n",
       "      <th></th>\n",
       "      <th>date</th>\n",
       "      <th>tweets</th>\n",
       "    </tr>\n",
       "  </thead>\n",
       "  <tbody>\n",
       "    <tr>\n",
       "      <th>0</th>\n",
       "      <td>2014-01-01</td>\n",
       "      <td>iTV Will Boost Apple  $AAPL .  users are more ...</td>\n",
       "    </tr>\n",
       "    <tr>\n",
       "      <th>1</th>\n",
       "      <td>2014-01-02</td>\n",
       "      <td>$AAPL - Wall St. kicks off New Year on lower n...</td>\n",
       "    </tr>\n",
       "    <tr>\n",
       "      <th>2</th>\n",
       "      <td>2014-01-03</td>\n",
       "      <td>The Five-Year-Old iPad: When Will People Stop ...</td>\n",
       "    </tr>\n",
       "    <tr>\n",
       "      <th>3</th>\n",
       "      <td>2014-01-04</td>\n",
       "      <td>$AAPL - Boeing contract with machinists - deta...</td>\n",
       "    </tr>\n",
       "    <tr>\n",
       "      <th>4</th>\n",
       "      <td>2014-01-05</td>\n",
       "      <td>$AAPL Machinists vote helps Boeing avoid hirin...</td>\n",
       "    </tr>\n",
       "    <tr>\n",
       "      <th>...</th>\n",
       "      <td>...</td>\n",
       "      <td>...</td>\n",
       "    </tr>\n",
       "    <tr>\n",
       "      <th>779</th>\n",
       "      <td>2016-03-27</td>\n",
       "      <td>Here's how much money Apple makes when you buy...</td>\n",
       "    </tr>\n",
       "    <tr>\n",
       "      <th>780</th>\n",
       "      <td>2016-03-28</td>\n",
       "      <td>$VDRM  HUGE FILING OUT REVENUES! 1000% run i...</td>\n",
       "    </tr>\n",
       "    <tr>\n",
       "      <th>781</th>\n",
       "      <td>2016-03-29</td>\n",
       "      <td>$AAPL Facebook hints at possible Apple Pay tea...</td>\n",
       "    </tr>\n",
       "    <tr>\n",
       "      <th>782</th>\n",
       "      <td>2016-03-30</td>\n",
       "      <td>Top Gainers at Dow: Apple (NASDAQ:AAPL), Micro...</td>\n",
       "    </tr>\n",
       "    <tr>\n",
       "      <th>783</th>\n",
       "      <td>2016-03-31</td>\n",
       "      <td>$FIT furry this am on stronger than expected  ...</td>\n",
       "    </tr>\n",
       "  </tbody>\n",
       "</table>\n",
       "<p>784 rows × 2 columns</p>\n",
       "</div>"
      ],
      "text/plain": [
       "           date                                             tweets\n",
       "0    2014-01-01  iTV Will Boost Apple  $AAPL .  users are more ...\n",
       "1    2014-01-02  $AAPL - Wall St. kicks off New Year on lower n...\n",
       "2    2014-01-03  The Five-Year-Old iPad: When Will People Stop ...\n",
       "3    2014-01-04  $AAPL - Boeing contract with machinists - deta...\n",
       "4    2014-01-05  $AAPL Machinists vote helps Boeing avoid hirin...\n",
       "..          ...                                                ...\n",
       "779  2016-03-27  Here's how much money Apple makes when you buy...\n",
       "780  2016-03-28    $VDRM  HUGE FILING OUT REVENUES! 1000% run i...\n",
       "781  2016-03-29  $AAPL Facebook hints at possible Apple Pay tea...\n",
       "782  2016-03-30  Top Gainers at Dow: Apple (NASDAQ:AAPL), Micro...\n",
       "783  2016-03-31  $FIT furry this am on stronger than expected  ...\n",
       "\n",
       "[784 rows x 2 columns]"
      ]
     },
     "execution_count": 100,
     "metadata": {},
     "output_type": "execute_result"
    }
   ],
   "source": [
    "pd.read_csv('tweet\\clean\\AAPL.csv')"
   ]
  },
  {
   "cell_type": "code",
   "execution_count": 16,
   "metadata": {},
   "outputs": [],
   "source": [
    "def match_text_label(ticker,labels_current,labels_next,r_now,r_next):\n",
    "    try:\n",
    "        tweets=pd.read_csv(f'tweet/clean/{ticker}.csv',index_col=0,parse_dates=True)\n",
    "    except FileNotFoundError:\n",
    "        return\n",
    "    pairs=pd.concat([tweets,labels_current[ticker].rename('cls_now'),labels_next[ticker].rename('cls_next'),r_now[ticker].rename('reg_now'),r_next[ticker].rename('reg_next')],axis=1)\n",
    "    pairs['ticker']=ticker\n",
    "    return pairs.reset_index()"
   ]
  },
  {
   "cell_type": "code",
   "execution_count": 15,
   "metadata": {},
   "outputs": [],
   "source": [
    "labels_current=pd.read_csv('price/clean/labels_current.csv',parse_dates=True,index_col=0)\n",
    "labels_next=pd.read_csv('price/clean/labels_next2day.csv',parse_dates=True,index_col=0)"
   ]
  },
  {
   "cell_type": "code",
   "execution_count": 18,
   "metadata": {},
   "outputs": [],
   "source": [
    "pairs=pd.concat([match_text_label(t,labels_current,labels_next,r_now,r_next) for t in labels_current.columns])"
   ]
  },
  {
   "cell_type": "code",
   "execution_count": 22,
   "metadata": {},
   "outputs": [
    {
     "data": {
      "text/html": [
       "<div>\n",
       "<style scoped>\n",
       "    .dataframe tbody tr th:only-of-type {\n",
       "        vertical-align: middle;\n",
       "    }\n",
       "\n",
       "    .dataframe tbody tr th {\n",
       "        vertical-align: top;\n",
       "    }\n",
       "\n",
       "    .dataframe thead th {\n",
       "        text-align: right;\n",
       "    }\n",
       "</style>\n",
       "<table border=\"1\" class=\"dataframe\">\n",
       "  <thead>\n",
       "    <tr style=\"text-align: right;\">\n",
       "      <th></th>\n",
       "      <th>date</th>\n",
       "      <th>tweets</th>\n",
       "      <th>cls_now</th>\n",
       "      <th>cls_next</th>\n",
       "      <th>reg_now</th>\n",
       "      <th>reg_next</th>\n",
       "      <th>ticker</th>\n",
       "    </tr>\n",
       "  </thead>\n",
       "  <tbody>\n",
       "    <tr>\n",
       "      <th>709</th>\n",
       "      <td>2016-03-25</td>\n",
       "      <td>$XOM Analysts Ratings on Exxon Mobil Corporati...</td>\n",
       "      <td>NaN</td>\n",
       "      <td>NaN</td>\n",
       "      <td>NaN</td>\n",
       "      <td>NaN</td>\n",
       "      <td>XOM</td>\n",
       "    </tr>\n",
       "    <tr>\n",
       "      <th>710</th>\n",
       "      <td>2016-03-28</td>\n",
       "      <td>Dow  Trend $GE $MMM $UNH $TRV $WMT $JNJ $KO $I...</td>\n",
       "      <td>NaN</td>\n",
       "      <td>NaN</td>\n",
       "      <td>NaN</td>\n",
       "      <td>NaN</td>\n",
       "      <td>XOM</td>\n",
       "    </tr>\n",
       "    <tr>\n",
       "      <th>711</th>\n",
       "      <td>2016-03-29</td>\n",
       "      <td>$XOM:\\n\\nExxon Mobil – The Turnaround Has Begu...</td>\n",
       "      <td>NaN</td>\n",
       "      <td>NaN</td>\n",
       "      <td>NaN</td>\n",
       "      <td>NaN</td>\n",
       "      <td>XOM</td>\n",
       "    </tr>\n",
       "    <tr>\n",
       "      <th>712</th>\n",
       "      <td>2016-03-30</td>\n",
       "      <td>NEW POST: Proving Oil's Guilt  $DWTI $SPY $USO...</td>\n",
       "      <td>NaN</td>\n",
       "      <td>NaN</td>\n",
       "      <td>NaN</td>\n",
       "      <td>NaN</td>\n",
       "      <td>XOM</td>\n",
       "    </tr>\n",
       "    <tr>\n",
       "      <th>713</th>\n",
       "      <td>2016-03-31</td>\n",
       "      <td>$XOM Shares in Focus: Exxon Mobil Corporation ...</td>\n",
       "      <td>NaN</td>\n",
       "      <td>NaN</td>\n",
       "      <td>NaN</td>\n",
       "      <td>NaN</td>\n",
       "      <td>XOM</td>\n",
       "    </tr>\n",
       "  </tbody>\n",
       "</table>\n",
       "</div>"
      ],
      "text/plain": [
       "          date                                             tweets  cls_now  \\\n",
       "709 2016-03-25  $XOM Analysts Ratings on Exxon Mobil Corporati...      NaN   \n",
       "710 2016-03-28  Dow  Trend $GE $MMM $UNH $TRV $WMT $JNJ $KO $I...      NaN   \n",
       "711 2016-03-29  $XOM:\\n\\nExxon Mobil – The Turnaround Has Begu...      NaN   \n",
       "712 2016-03-30  NEW POST: Proving Oil's Guilt  $DWTI $SPY $USO...      NaN   \n",
       "713 2016-03-31  $XOM Shares in Focus: Exxon Mobil Corporation ...      NaN   \n",
       "\n",
       "     cls_next  reg_now  reg_next ticker  \n",
       "709       NaN      NaN       NaN    XOM  \n",
       "710       NaN      NaN       NaN    XOM  \n",
       "711       NaN      NaN       NaN    XOM  \n",
       "712       NaN      NaN       NaN    XOM  \n",
       "713       NaN      NaN       NaN    XOM  "
      ]
     },
     "execution_count": 22,
     "metadata": {},
     "output_type": "execute_result"
    }
   ],
   "source": [
    "pairs.tail()"
   ]
  },
  {
   "cell_type": "code",
   "execution_count": 21,
   "metadata": {},
   "outputs": [],
   "source": [
    "pairs.columns=['date', 'tweets', 'cls_now', 'cls_next', 'reg_now', 'reg_next',\n",
    "       'ticker']"
   ]
  },
  {
   "cell_type": "code",
   "execution_count": 24,
   "metadata": {},
   "outputs": [],
   "source": [
    "pairs.dropna().to_csv('clean_data.csv',index=False)"
   ]
  },
  {
   "cell_type": "code",
   "execution_count": 136,
   "metadata": {},
   "outputs": [
    {
     "name": "stdout",
     "output_type": "stream",
     "text": [
      "<class 'pandas.core.frame.DataFrame'>\n",
      "RangeIndex: 18359 entries, 0 to 18358\n",
      "Data columns (total 5 columns):\n",
      " #   Column   Non-Null Count  Dtype  \n",
      "---  ------   --------------  -----  \n",
      " 0   date     18359 non-null  object \n",
      " 1   tweets   18359 non-null  object \n",
      " 2   current  18359 non-null  float64\n",
      " 3   next     18359 non-null  float64\n",
      " 4   ticker   18359 non-null  object \n",
      "dtypes: float64(2), object(3)\n",
      "memory usage: 717.3+ KB\n"
     ]
    }
   ],
   "source": [
    "pd.read_csv('clean_data.csv').info()"
   ]
  }
 ],
 "metadata": {
  "kernelspec": {
   "display_name": "py310",
   "language": "python",
   "name": "python3"
  },
  "language_info": {
   "codemirror_mode": {
    "name": "ipython",
    "version": 3
   },
   "file_extension": ".py",
   "mimetype": "text/x-python",
   "name": "python",
   "nbconvert_exporter": "python",
   "pygments_lexer": "ipython3",
   "version": "3.10.10"
  }
 },
 "nbformat": 4,
 "nbformat_minor": 2
}
